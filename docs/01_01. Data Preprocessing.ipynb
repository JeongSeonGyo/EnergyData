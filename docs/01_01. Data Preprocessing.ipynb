{
 "cells": [
  {
   "cell_type": "markdown",
   "metadata": {},
   "source": [
    "# Data Preprocessing \n",
    "---"
   ]
  },
  {
   "cell_type": "markdown",
   "metadata": {},
   "source": [
    "### 개요\n",
    "* Data를 분석하기 위해서는 다음과 같은 조건이 필요함\n",
    "    * Data 사이 분석을 위해 통일된 value 값의 크기  \n",
    "        e.g.) 전력량 값과 온도 값 사이 비교/분석을 위해서는 서로 비슷한 크기로 data의 value 값을 조정해줘야 할 필요가 있음\n",
    "    * 일정한 time_stamp 간격   \n",
    "    \n",
    "---    \n",
    "* 아래는 분석 전 data에 필요한 조건을 충족하기 위한 과정을 만족시키기 위한 **preprocessing** 과정임\n",
    "<img src=\"https://raw.githubusercontent.com/jhyun0919/EnergyData_jhyun/master/docs/images/%EC%8A%A4%ED%81%AC%EB%A6%B0%EC%83%B7%202016-05-16%20%EC%98%A4%ED%9B%84%202.06.23.jpg\" alt=\"Drawing\" style=\"width: 800px;\"/>"
   ]
  },
  {
   "cell_type": "markdown",
   "metadata": {},
   "source": [
    "---\n",
    "* 참고 )   \n",
    "      배포한 모듈에 대한 변경사항이 있는 경우 반드시 다음 명령어를 실행하여 변경사항이 배포된 버전에 반영되도록 하자\n",
    "```\n",
    ">>> python setup.py sdist\n",
    ">>> python setup.py install\n",
    "```"
   ]
  },
  {
   "cell_type": "markdown",
   "metadata": {},
   "source": [
    "---\n",
    "* data-preprocessing 과정에 필요한 module들을 import 하자 "
   ]
  },
  {
   "cell_type": "code",
   "execution_count": 1,
   "metadata": {
    "collapsed": false
   },
   "outputs": [
    {
     "name": "stderr",
     "output_type": "stream",
     "text": [
      "/Users/JH/Documents/GitHub/EnergyData_jhyun/energy_data_venv/lib/python2.7/site-packages/matplotlib/font_manager.py:273: UserWarning: Matplotlib is building the font cache using fc-list. This may take a moment.\n",
      "  warnings.warn('Matplotlib is building the font cache using fc-list. This may take a moment.')\n"
     ]
    }
   ],
   "source": [
    "from utils import Preprocess\n",
    "from utils import FileIO\n",
    "from utils import GlobalParameter\n",
    "from utils import Graph\n",
    "%matplotlib inline\n",
    "import os\n",
    "import math"
   ]
  },
  {
   "cell_type": "markdown",
   "metadata": {},
   "source": [
    "---\n",
    "* 모든 data file은 GlobalParameter.Repository_Path의 경로 아래에 저장하고 불러온다\n",
    "* 다음 과정은 주어진 경로 아래에 저장된 특정 file을 지정하고 확인해보는 과정이다"
   ]
  },
  {
   "cell_type": "code",
   "execution_count": 2,
   "metadata": {
    "collapsed": false
   },
   "outputs": [
    {
     "data": {
      "text/plain": [
       "'/Users/JH/Documents/GitHub/EnergyData_jhyun/repository/VTT/VTT_GW1_HA10_VM_EP_KV_K.bin'"
      ]
     },
     "execution_count": 2,
     "metadata": {},
     "output_type": "execute_result"
    }
   ],
   "source": [
    "file_path = os.path.join(GlobalParameter.Repository_Path, 'VTT')\n",
    "file_name = 'VTT_GW1_HA10_VM_EP_KV_K.bin'\n",
    "file_path = os.path.join(file_path, file_name)\n",
    "\n",
    "file_path"
   ]
  },
  {
   "cell_type": "markdown",
   "metadata": {},
   "source": [
    "---\n",
    "* 해당 file의 data를 graph를 통해 확인해보자"
   ]
  },
  {
   "cell_type": "code",
   "execution_count": 3,
   "metadata": {
    "collapsed": false
   },
   "outputs": [
    {
     "data": {
      "image/png": "[encoded data removed]",
      "text/plain": [
       "<matplotlib.figure.Figure at 0x103feb810>"
      ]
     },
     "metadata": {},
     "output_type": "display_data"
    }
   ],
   "source": [
    "Graph.Show.bin2graph(file_path)"
   ]
  },
  {
   "cell_type": "markdown",
   "metadata": {},
   "source": [
    "---\n",
    "* 해당 file의 data를 직접 출력하여 확인해 보면 다음과 같은 문제점을 확인 가능하다\n"
   ]
  },
  {
   "cell_type": "code",
   "execution_count": 4,
   "metadata": {
    "collapsed": false
   },
   "outputs": [
    {
     "data": {
      "text/plain": [
       "{'file_name': 'VTT_GW1_HA10_VM_EP_KV_K',\n",
       " 'ts': array([[datetime.datetime(2013, 5, 15, 10, 37, 23), 23, 37, ..., 2, 15, 5],\n",
       "        [datetime.datetime(2013, 5, 15, 10, 42, 30), 30, 42, ..., 2, 15, 5],\n",
       "        [datetime.datetime(2013, 5, 15, 10, 47, 30), 30, 47, ..., 2, 15, 5],\n",
       "        ..., \n",
       "        [datetime.datetime(2015, 6, 30, 0, 46, 32), 32, 46, ..., 1, 30, 6],\n",
       "        [datetime.datetime(2015, 6, 30, 0, 51, 32), 32, 51, ..., 1, 30, 6],\n",
       "        [datetime.datetime(2015, 6, 30, 0, 56, 32), 32, 56, ..., 1, 30, 6]], dtype=object),\n",
       " 'value': array([     0.,      0.,      0., ...,  24826.,  24826.,  24826.])}"
      ]
     },
     "execution_count": 4,
     "metadata": {},
     "output_type": "execute_result"
    }
   ],
   "source": [
    "data_dictionary = FileIO.Load.unpickling(file_path)\n",
    "\n",
    "data_dictionary"
   ]
  },
  {
   "cell_type": "markdown",
   "metadata": {},
   "source": [
    "##### graph를 통해 보면 문제가 없는 data로 보일 수 있지만, 직접 출력하여 확인하면 다음과 같은 문제점들을 가지고 있음\n",
    "\n",
    "* 다른 file의 data 들과 통일되지 않은 value 값의 크기 ( **scaling** 필요 )  \n",
    "* 일정하지 않은 time stamp 간격 ( **interval_equalization, interpolation** 필요 )\n",
    "\n",
    "##### 이를 해결하기 위해 preprocessing 과정이 반드시 필요하다"
   ]
  },
  {
   "cell_type": "markdown",
   "metadata": {},
   "source": [
    "---\n",
    "### Step 01. Equalize Time Interval \n",
    "\n",
    "* interval_equalization을 통해 data의 모든 ts가 GlobalParameter.Time_Interval의 일정한 간격으로 조정된다\n",
    "* 간격의 크기는 GlobalParameter.Time_Interval에서 확인/변경 가능하다"
   ]
  },
  {
   "cell_type": "markdown",
   "metadata": {},
   "source": [
    "##### [ interval_equalization strategy ]\n",
    "* 일정한 간격으로 time stamp를 조정함\n",
    "* 어느 time stamp에 해당하는 value는 해당 구간 안의 value 값들의 평균값으로 지정"
   ]
  },
  {
   "cell_type": "markdown",
   "metadata": {},
   "source": [
    "* 아래는 GlobalParamter에서 지정된 Time_Interval을 보여주는 것이며 단위는 minute 이다"
   ]
  },
  {
   "cell_type": "code",
   "execution_count": 5,
   "metadata": {
    "collapsed": false
   },
   "outputs": [
    {
     "data": {
      "text/plain": [
       "15"
      ]
     },
     "execution_count": 5,
     "metadata": {},
     "output_type": "execute_result"
    }
   ],
   "source": [
    "# check Normalization_Interval (minute)\n",
    "GlobalParameter.Time_Interval"
   ]
  },
  {
   "cell_type": "markdown",
   "metadata": {},
   "source": [
    "##### 일정한 간격으로 ts 값을 조정하다보면 해당 간격에 기록된 value 값이 없는 경우가 발생한다\n",
    "* GlobalParameter.Normalization_Interval 사이 해당하는 value 값이 없으면 해당 값에 **NaN** 을 넣어주자"
   ]
  },
  {
   "cell_type": "code",
   "execution_count": 6,
   "metadata": {
    "collapsed": false
   },
   "outputs": [
    {
     "data": {
      "image/png": "[encoded data removed]",
      "text/plain": [
       "<matplotlib.figure.Figure at 0x109ed4d10>"
      ]
     },
     "metadata": {},
     "output_type": "display_data"
    }
   ],
   "source": [
    "data_dictionary = Preprocess.interval_equalization(data_dictionary)\n",
    "\n",
    "Graph.Show.dic2graph(data_dictionary)"
   ]
  },
  {
   "cell_type": "markdown",
   "metadata": {},
   "source": [
    "* 직접 출력하여 ts와 value 값을 보면 다음과 같은 문제점을 확인 가능하다\n",
    "    * 다른 file의 data 들과 통일되지 않은 value 값의 크기 ( scaling 필요 )\n",
    "    * <s>일정하지 않은 time stamp 간격</s> \n",
    "        * **interval_equalization** 통해 ts 값이 일정한 간격으로 조정 되었음\n",
    "    * **interval_equalization** 과정에 **NaN**이 발생함"
   ]
  },
  {
   "cell_type": "code",
   "execution_count": 7,
   "metadata": {
    "collapsed": false
   },
   "outputs": [
    {
     "data": {
      "text/plain": [
       "{'file_name': 'VTT_GW1_HA10_VM_EP_KV_K',\n",
       " 'ts': array([datetime.datetime(2013, 5, 15, 10, 30),\n",
       "        datetime.datetime(2013, 5, 15, 10, 45),\n",
       "        datetime.datetime(2013, 5, 15, 11, 0), ...,\n",
       "        datetime.datetime(2015, 6, 30, 0, 15),\n",
       "        datetime.datetime(2015, 6, 30, 0, 30),\n",
       "        datetime.datetime(2015, 6, 30, 0, 45)], dtype=object),\n",
       " 'value': array([     0.,      0.,      0., ...,  24826.,  24826.,  24826.])}"
      ]
     },
     "execution_count": 7,
     "metadata": {},
     "output_type": "execute_result"
    }
   ],
   "source": [
    "data_dictionary"
   ]
  },
  {
   "cell_type": "markdown",
   "metadata": {},
   "source": [
    "* interval_equalization 도중 발생한 NaN를 직접 확인"
   ]
  },
  {
   "cell_type": "code",
   "execution_count": 8,
   "metadata": {
    "collapsed": false
   },
   "outputs": [
    {
     "data": {
      "text/plain": [
       "11472"
      ]
     },
     "execution_count": 8,
     "metadata": {},
     "output_type": "execute_result"
    }
   ],
   "source": [
    "nancounter = 0\n",
    "\n",
    "for line in data_dictionary['value']:\n",
    "    if math.isnan(line):\n",
    "        nancounter += 1\n",
    "        \n",
    "nancounter"
   ]
  },
  {
   "cell_type": "markdown",
   "metadata": {},
   "source": [
    "---\n",
    "### Step 02. Interpolation\n",
    ": interval_equalization과정 발생한 NaN을 처리하기 위한 과정 \n",
    "\n",
    "* ts와 value가 1:1 매칭이 되도록 하기 위한 과정\n",
    "* interpolation을 통해 기록된 값이 없는 경우(NaN)에 적절한 값을 배정하여 준다"
   ]
  },
  {
   "cell_type": "markdown",
   "metadata": {},
   "source": [
    "##### [ interpolation strategy ]\n",
    "* 해당 ts에 해당하는 value가 NaN일 경우, 일차 선형방정식을 대입하여 interpolation 될 값을 찾는다"
   ]
  },
  {
   "cell_type": "code",
   "execution_count": 9,
   "metadata": {
    "collapsed": false,
    "scrolled": true
   },
   "outputs": [
    {
     "data": {
      "image/png": "[encoded data removed]",
      "text/plain": [
       "<matplotlib.figure.Figure at 0x109c72c90>"
      ]
     },
     "metadata": {},
     "output_type": "display_data"
    }
   ],
   "source": [
    "data_dictionary = Preprocess.interpolation(data_dictionary)\n",
    "\n",
    "Graph.Show.dic2graph(data_dictionary)"
   ]
  },
  {
   "cell_type": "code",
   "execution_count": 10,
   "metadata": {
    "collapsed": false
   },
   "outputs": [
    {
     "data": {
      "text/plain": [
       "{'file_name': 'VTT_GW1_HA10_VM_EP_KV_K',\n",
       " 'ts': array([datetime.datetime(2013, 5, 15, 10, 30),\n",
       "        datetime.datetime(2013, 5, 15, 10, 45),\n",
       "        datetime.datetime(2013, 5, 15, 11, 0), ...,\n",
       "        datetime.datetime(2015, 6, 30, 0, 15),\n",
       "        datetime.datetime(2015, 6, 30, 0, 30),\n",
       "        datetime.datetime(2015, 6, 30, 0, 45)], dtype=object),\n",
       " 'value': array([     0.,      0.,      0., ...,  24826.,  24826.,  24826.])}"
      ]
     },
     "execution_count": 10,
     "metadata": {},
     "output_type": "execute_result"
    }
   ],
   "source": [
    "data_dictionary"
   ]
  },
  {
   "cell_type": "markdown",
   "metadata": {},
   "source": [
    "* interpolation 이후 NaN 제거 여부를 직접 확인"
   ]
  },
  {
   "cell_type": "code",
   "execution_count": 11,
   "metadata": {
    "collapsed": false
   },
   "outputs": [
    {
     "data": {
      "text/plain": [
       "0"
      ]
     },
     "execution_count": 11,
     "metadata": {},
     "output_type": "execute_result"
    }
   ],
   "source": [
    "nancounter = 0\n",
    "\n",
    "for line in data_dictionary['value']:\n",
    "    if math.isnan(line):\n",
    "        nancounter += 1\n",
    "        \n",
    "nancounter"
   ]
  },
  {
   "cell_type": "markdown",
   "metadata": {},
   "source": [
    "* 직접 출력하여 ts와 value 값을 보면 다음과 같은 문제점을 확인 가능하다\n",
    "    * 다른 file의 data 들과 통일되지 않은 value 값의 크기 ( scaling 필요 )\n",
    "    * <s>일정하지 않은 time stamp 간격</s> \n",
    "        * **interval_equalization** 통해 ts 값이 일정한 간격으로 조정 되었음\n",
    "    * <s>**interval_equalization** 과정에 **NaN**이 발생함</s>\n",
    "        * **interpolation**을 통해 NaN 제거"
   ]
  },
  {
   "cell_type": "markdown",
   "metadata": {},
   "source": [
    "---\n",
    "### Step 03. Scaling\n",
    ": 다른 종류의 data 끼리 비교&분석을 하기위한 크기를 통일시키는 과정\n",
    "* scaling은 data의 모든 value 값의 분포가 평균 0, 분산 1이 되도록 만드는 과정  "
   ]
  },
  {
   "cell_type": "code",
   "execution_count": 12,
   "metadata": {
    "collapsed": false
   },
   "outputs": [
    {
     "data": {
      "image/png": "[encoded data removed]",
      "text/plain": [
       "<matplotlib.figure.Figure at 0x109c72b50>"
      ]
     },
     "metadata": {},
     "output_type": "display_data"
    }
   ],
   "source": [
    "data_dictionary = Preprocess.scaling(data_dictionary)\n",
    "\n",
    "Graph.Show.dic2graph(data_dictionary)"
   ]
  },
  {
   "cell_type": "code",
   "execution_count": 13,
   "metadata": {
    "collapsed": false
   },
   "outputs": [
    {
     "data": {
      "text/plain": [
       "{'file_name': 'VTT_GW1_HA10_VM_EP_KV_K',\n",
       " 'ts': array([datetime.datetime(2013, 5, 15, 10, 30),\n",
       "        datetime.datetime(2013, 5, 15, 10, 45),\n",
       "        datetime.datetime(2013, 5, 15, 11, 0), ...,\n",
       "        datetime.datetime(2015, 6, 30, 0, 15),\n",
       "        datetime.datetime(2015, 6, 30, 0, 30),\n",
       "        datetime.datetime(2015, 6, 30, 0, 45)], dtype=object),\n",
       " 'value': array([-1.28467242, -1.28467242, -1.28467242, ...,  2.68035121,\n",
       "         2.68035121,  2.68035121])}"
      ]
     },
     "execution_count": 13,
     "metadata": {},
     "output_type": "execute_result"
    }
   ],
   "source": [
    "data_dictionary"
   ]
  },
  {
   "cell_type": "markdown",
   "metadata": {},
   "source": [
    "* 직접 출력하여 ts와 value 값을 보면 다음과 같은 문제점을 확인 가능하다\n",
    "    * <s>다른 file의 data 들과 통일되지 않은 value 값의 크기 ( scaling 필요 )</s>\n",
    "        * **scaling**을 통해 data의 크기 조정\n",
    "    * <s>일정하지 않은 time stamp 간격</s> \n",
    "        * **interval_equalization** 통해 ts 값이 일정한 간격으로 조정 되었음\n",
    "    * <s>**interval_equalization** 과정에 **NaN**이 발생함</s>\n",
    "        * **interpolation**을 통해 NaN 제거"
   ]
  },
  {
   "cell_type": "markdown",
   "metadata": {},
   "source": [
    "---\n",
    "##### 위 preprocessing 과정을 통해 아래와 같은 조건을 만족시켜 data를 분석하기 위한 준비과정을 완료하였음\n",
    "* 일정한 크기로의 value 값을 조정 ( via **scaling** )\n",
    "* 일정한 간격의 time_stamp ( via **interval_equalization** ) \n",
    "* 모든 time_stamp에 value 값이 1:1 매칭 ( via **interpolation** )"
   ]
  },
  {
   "cell_type": "code",
   "execution_count": null,
   "metadata": {
    "collapsed": true
   },
   "outputs": [],
   "source": []
  }
 ],
 "metadata": {
  "kernelspec": {
   "display_name": "Python 2",
   "language": "python",
   "name": "python2"
  },
  "language_info": {
   "codemirror_mode": {
    "name": "ipython",
    "version": 2
   },
   "file_extension": ".py",
   "mimetype": "text/x-python",
   "name": "python",
   "nbconvert_exporter": "python",
   "pygments_lexer": "ipython2",
   "version": "2.7.11"
  }
 },
 "nbformat": 4,
 "nbformat_minor": 0
}
