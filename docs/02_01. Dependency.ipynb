{
 "cells": [
  {
   "cell_type": "code",
   "execution_count": 1,
   "metadata": {
    "collapsed": false,
    "scrolled": true
   },
   "outputs": [
    {
     "name": "stderr",
     "output_type": "stream",
     "text": [
      "/Users/JH/Documents/GitHub/EnergyData_jhyun/energy_data_venv/lib/python2.7/site-packages/matplotlib/font_manager.py:273: UserWarning: Matplotlib is building the font cache using fc-list. This may take a moment.\n",
      "  warnings.warn('Matplotlib is building the font cache using fc-list. This may take a moment.')\n"
     ]
    }
   ],
   "source": [
    "from utils import Dependency\n",
    "from utils import Preprocess\n",
    "from utils import GlobalParameter\n",
    "from utils import FileIO\n",
    "import os\n",
    "import time"
   ]
  },
  {
   "cell_type": "code",
   "execution_count": 2,
   "metadata": {
    "collapsed": false
   },
   "outputs": [
    {
     "data": {
      "text/plain": [
       "'/Users/JH/Documents/GitHub/EnergyData_jhyun/repository/preprocessed_data'"
      ]
     },
     "execution_count": 2,
     "metadata": {},
     "output_type": "execute_result"
    }
   ],
   "source": [
    "path = os.path.join(GlobalParameter.Repository_Path, GlobalParameter.Preprocessed_Path)\n",
    "path"
   ]
  },
  {
   "cell_type": "code",
   "execution_count": 3,
   "metadata": {
    "collapsed": false
   },
   "outputs": [
    {
     "data": {
      "text/plain": [
       "['/Users/JH/Documents/GitHub/EnergyData_jhyun/repository/preprocessed_data/PP_VTT_GW1_HA10_VM_EP_KV_K.bin',\n",
       " '/Users/JH/Documents/GitHub/EnergyData_jhyun/repository/preprocessed_data/PP_VTT_GW1_HA10_VM_KV_K.bin',\n",
       " '/Users/JH/Documents/GitHub/EnergyData_jhyun/repository/preprocessed_data/PP_VTT_GW1_HA10_VM_KV_KAM.bin',\n",
       " '/Users/JH/Documents/GitHub/EnergyData_jhyun/repository/preprocessed_data/PP_VTT_GW1_HA11_VM_EP_KV_K.bin',\n",
       " '/Users/JH/Documents/GitHub/EnergyData_jhyun/repository/preprocessed_data/PP_VTT_GW1_HA11_VM_KV_K.bin',\n",
       " '/Users/JH/Documents/GitHub/EnergyData_jhyun/repository/preprocessed_data/PP_VTT_GW1_HA11_VM_KV_KAM.bin',\n",
       " '/Users/JH/Documents/GitHub/EnergyData_jhyun/repository/preprocessed_data/PP_VTT_GW2_HA4_VM_EP_KV_K.bin',\n",
       " '/Users/JH/Documents/GitHub/EnergyData_jhyun/repository/preprocessed_data/PP_VTT_GW2_HA4_VM_KV_K.bin',\n",
       " '/Users/JH/Documents/GitHub/EnergyData_jhyun/repository/preprocessed_data/PP_VTT_GW2_HA4_VM_KV_KAM.bin',\n",
       " '/Users/JH/Documents/GitHub/EnergyData_jhyun/repository/preprocessed_data/PP_VTT_GW2_HA7_VM_EP_KV_K.bin']"
      ]
     },
     "execution_count": 3,
     "metadata": {},
     "output_type": "execute_result"
    }
   ],
   "source": [
    "file_list = FileIO.Load.load_filelist(path)\n",
    "\n",
    "file_list"
   ]
  },
  {
   "cell_type": "code",
   "execution_count": 4,
   "metadata": {
    "collapsed": false
   },
   "outputs": [
    {
     "data": {
      "text/plain": [
       "{'close_model': array([[  0.00000000e+00,   7.24205680e+00,   1.49354105e+01,\n",
       "           3.01734432e+00,   3.01685530e+00,   1.58466232e+01,\n",
       "           3.57181234e+00,   1.84454170e+00,   1.52265849e+01,\n",
       "           4.14669191e+00],\n",
       "        [  0.00000000e+00,   0.00000000e+00,   4.09527778e+00,\n",
       "           2.14799215e+00,   2.03040163e+00,   4.15734931e+00,\n",
       "           2.41407111e+00,   1.80166198e+00,   4.11585706e+00,\n",
       "           2.66441624e+00],\n",
       "        [  0.00000000e+00,   0.00000000e+00,   0.00000000e+00,\n",
       "           1.44429070e+01,   1.50132383e+01,   2.73018519e+02,\n",
       "           1.93867384e+01,   5.20885042e+00,   5.89720000e+04,\n",
       "           9.02375374e+00],\n",
       "        [  0.00000000e+00,   0.00000000e+00,   0.00000000e+00,\n",
       "           0.00000000e+00,   3.13727528e+02,   1.47188983e+01,\n",
       "           3.11617979e+00,   2.37273480e+00,   1.47169588e+01,\n",
       "           4.29020858e+00],\n",
       "        [  0.00000000e+00,   0.00000000e+00,   0.00000000e+00,\n",
       "           0.00000000e+00,   0.00000000e+00,   1.52935685e+01,\n",
       "           3.09416556e+00,   2.21715918e+00,   1.52915856e+01,\n",
       "           4.28477710e+00],\n",
       "        [  0.00000000e+00,   0.00000000e+00,   0.00000000e+00,\n",
       "           0.00000000e+00,   0.00000000e+00,   0.00000000e+00,\n",
       "           1.80460494e+01,   5.17593365e+00,   2.74288372e+02,\n",
       "           9.13146922e+00],\n",
       "        [  0.00000000e+00,   0.00000000e+00,   0.00000000e+00,\n",
       "           0.00000000e+00,   0.00000000e+00,   0.00000000e+00,\n",
       "           0.00000000e+00,   9.88468006e+00,   1.93934711e+01,\n",
       "           2.79098883e+00],\n",
       "        [  0.00000000e+00,   0.00000000e+00,   0.00000000e+00,\n",
       "           0.00000000e+00,   0.00000000e+00,   0.00000000e+00,\n",
       "           0.00000000e+00,   0.00000000e+00,   5.24195556e+00,\n",
       "           2.19071437e+00],\n",
       "        [  0.00000000e+00,   0.00000000e+00,   0.00000000e+00,\n",
       "           0.00000000e+00,   0.00000000e+00,   0.00000000e+00,\n",
       "           0.00000000e+00,   0.00000000e+00,   0.00000000e+00,\n",
       "           9.02521212e+00],\n",
       "        [  0.00000000e+00,   0.00000000e+00,   0.00000000e+00,\n",
       "           0.00000000e+00,   0.00000000e+00,   0.00000000e+00,\n",
       "           0.00000000e+00,   0.00000000e+00,   0.00000000e+00,\n",
       "           0.00000000e+00]]),\n",
       " 'dependency_model': array([[  0.00000000e+00,   2.73791720e+02,   5.82511626e+03,\n",
       "           1.47176317e+02,   1.83963818e+02,   8.63423646e+03,\n",
       "           3.14025160e+02,   1.22240231e+02,   1.53732133e+03,\n",
       "           3.64407104e+02],\n",
       "        [  2.73791720e+02,   0.00000000e+00,   1.51192100e+03,\n",
       "           9.93000445e+01,   6.37787305e+01,   2.19320615e+03,\n",
       "           1.56749940e+02,   7.23737625e+01,   3.02499080e+02,\n",
       "           1.68229581e+02],\n",
       "        [  5.82511626e+03,   1.51192100e+03,   0.00000000e+00,\n",
       "           5.61898280e+03,   5.26203658e+03,   8.51818856e+04,\n",
       "           6.77939924e+03,   1.91539603e+03,   1.66822505e+07,\n",
       "           3.22596541e+03],\n",
       "        [  1.47176317e+02,   9.93000445e+01,   5.61898280e+03,\n",
       "           0.00000000e+00,   4.34109563e+03,   8.11702238e+03,\n",
       "           1.85749927e+02,   1.32252217e+02,   1.00502029e+03,\n",
       "           2.67917499e+02],\n",
       "        [  1.83963818e+02,   6.37787305e+01,   5.26203658e+03,\n",
       "           4.34109563e+03,   0.00000000e+00,   8.02498460e+03,\n",
       "           1.49654442e+02,   9.67344726e+01,   8.40745268e+02,\n",
       "           2.12241061e+02],\n",
       "        [  8.63423646e+03,   2.19320615e+03,   8.51818856e+04,\n",
       "           8.11702238e+03,   8.02498460e+03,   0.00000000e+00,\n",
       "           9.08824678e+03,   2.74529535e+03,   1.23056938e+05,\n",
       "           4.80074787e+03],\n",
       "        [  3.14025160e+02,   1.56749940e+02,   6.77939924e+03,\n",
       "           1.85749927e+02,   1.49654442e+02,   9.08824678e+03,\n",
       "           0.00000000e+00,   6.93223481e+02,   3.36601179e+02,\n",
       "           1.34309207e+01],\n",
       "        [  1.22240231e+02,   7.23737625e+01,   1.91539603e+03,\n",
       "           1.32252217e+02,   9.67344726e+01,   2.74529535e+03,\n",
       "           6.93223481e+02,   0.00000000e+00,   4.13119241e+02,\n",
       "           1.57156021e+02],\n",
       "        [  1.53732133e+03,   3.02499080e+02,   1.66822505e+07,\n",
       "           1.00502029e+03,   8.40745268e+02,   1.23056938e+05,\n",
       "           3.36601179e+02,   4.13119241e+02,   0.00000000e+00,\n",
       "           1.65350083e+02],\n",
       "        [  3.64407104e+02,   1.68229581e+02,   3.22596541e+03,\n",
       "           2.67917499e+02,   2.12241061e+02,   4.80074787e+03,\n",
       "           1.34309207e+01,   1.57156021e+02,   1.65350083e+02,\n",
       "           0.00000000e+00]]),\n",
       " 'far_model': array([[   0.        ,   37.80579576,  390.02049819,   48.77677249,\n",
       "           60.97866827,  544.86286315,   87.91759778,   66.27132954,\n",
       "          100.96297627,   87.87899163],\n",
       "        [   0.        ,    0.        ,  369.18643531,   46.22923987,\n",
       "           31.41187916,  527.5491639 ,   64.9317825 ,   40.17055541,\n",
       "           73.49601203,   63.1393768 ],\n",
       "        [   0.        ,    0.        ,    0.        ,  389.04791061,\n",
       "          350.49311015,  312.00039491,  349.69261418,  367.71952983,\n",
       "          282.88425926,  357.49705759],\n",
       "        [   0.        ,    0.        ,    0.        ,    0.        ,\n",
       "           13.83715245,  551.46942627,   59.60821873,   55.73830546,\n",
       "           68.28994387,   62.44859516],\n",
       "        [   0.        ,    0.        ,    0.        ,    0.        ,\n",
       "            0.        ,  524.72937334,   48.36665619,   43.62991761,\n",
       "           54.98090831,   49.53374603],\n",
       "        [   0.        ,    0.        ,    0.        ,    0.        ,\n",
       "            0.        ,    0.        ,  503.6142015 ,  530.39616306,\n",
       "          448.64073918,  525.73663212],\n",
       "        [   0.        ,    0.        ,    0.        ,    0.        ,\n",
       "            0.        ,    0.        ,    0.        ,   70.13109948,\n",
       "           17.3564174 ,    4.81224451],\n",
       "        [   0.        ,    0.        ,    0.        ,    0.        ,\n",
       "            0.        ,    0.        ,    0.        ,    0.        ,\n",
       "           78.81013799,   71.73733985],\n",
       "        [   0.        ,    0.        ,    0.        ,    0.        ,\n",
       "            0.        ,    0.        ,    0.        ,    0.        ,\n",
       "            0.        ,   18.32090822],\n",
       "        [   0.        ,    0.        ,    0.        ,    0.        ,\n",
       "            0.        ,    0.        ,    0.        ,    0.        ,\n",
       "            0.        ,    0.        ]]),\n",
       " 'file_list': ['/Users/JH/Documents/GitHub/EnergyData_jhyun/repository/preprocessed_data/PP_VTT_GW1_HA10_VM_EP_KV_K.bin',\n",
       "  '/Users/JH/Documents/GitHub/EnergyData_jhyun/repository/preprocessed_data/PP_VTT_GW1_HA10_VM_KV_K.bin',\n",
       "  '/Users/JH/Documents/GitHub/EnergyData_jhyun/repository/preprocessed_data/PP_VTT_GW1_HA10_VM_KV_KAM.bin',\n",
       "  '/Users/JH/Documents/GitHub/EnergyData_jhyun/repository/preprocessed_data/PP_VTT_GW1_HA11_VM_EP_KV_K.bin',\n",
       "  '/Users/JH/Documents/GitHub/EnergyData_jhyun/repository/preprocessed_data/PP_VTT_GW1_HA11_VM_KV_K.bin',\n",
       "  '/Users/JH/Documents/GitHub/EnergyData_jhyun/repository/preprocessed_data/PP_VTT_GW1_HA11_VM_KV_KAM.bin',\n",
       "  '/Users/JH/Documents/GitHub/EnergyData_jhyun/repository/preprocessed_data/PP_VTT_GW2_HA4_VM_EP_KV_K.bin',\n",
       "  '/Users/JH/Documents/GitHub/EnergyData_jhyun/repository/preprocessed_data/PP_VTT_GW2_HA4_VM_KV_K.bin',\n",
       "  '/Users/JH/Documents/GitHub/EnergyData_jhyun/repository/preprocessed_data/PP_VTT_GW2_HA4_VM_KV_KAM.bin',\n",
       "  '/Users/JH/Documents/GitHub/EnergyData_jhyun/repository/preprocessed_data/PP_VTT_GW2_HA7_VM_EP_KV_K.bin']}"
      ]
     },
     "execution_count": 4,
     "metadata": {},
     "output_type": "execute_result"
    }
   ],
   "source": [
    "model_structure = Dependency.dependency_model(file_list)\n",
    "\n",
    "model_structure"
   ]
  },
  {
   "cell_type": "code",
   "execution_count": 5,
   "metadata": {
    "collapsed": false
   },
   "outputs": [
    {
     "data": {
      "text/plain": [
       "'/Users/JH/Documents/GitHub/EnergyData_jhyun/repository/dependency_model/dependency_model.bin'"
      ]
     },
     "execution_count": 5,
     "metadata": {},
     "output_type": "execute_result"
    }
   ],
   "source": [
    "FileIO.Save.dependency_model2bin_file(model_structure)"
   ]
  },
  {
   "cell_type": "code",
   "execution_count": null,
   "metadata": {
    "collapsed": true
   },
   "outputs": [],
   "source": []
  }
 ],
 "metadata": {
  "kernelspec": {
   "display_name": "Python 2",
   "language": "python",
   "name": "python2"
  },
  "language_info": {
   "codemirror_mode": {
    "name": "ipython",
    "version": 2
   },
   "file_extension": ".py",
   "mimetype": "text/x-python",
   "name": "python",
   "nbconvert_exporter": "python",
   "pygments_lexer": "ipython2",
   "version": "2.7.11"
  }
 },
 "nbformat": 4,
 "nbformat_minor": 0
}
