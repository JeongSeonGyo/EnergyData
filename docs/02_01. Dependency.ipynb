{
 "cells": [
  {
   "cell_type": "code",
   "execution_count": 1,
   "metadata": {
    "collapsed": false,
    "scrolled": true
   },
   "outputs": [
    {
     "name": "stderr",
     "output_type": "stream",
     "text": [
      "/Users/JH/Documents/GitHub/EnergyData_jhyun/energy_data_venv/lib/python2.7/site-packages/matplotlib/font_manager.py:273: UserWarning: Matplotlib is building the font cache using fc-list. This may take a moment.\n",
      "  warnings.warn('Matplotlib is building the font cache using fc-list. This may take a moment.')\n"
     ]
    }
   ],
   "source": [
    "from utils import Dependency\n",
    "from utils import Preprocess\n",
    "from utils import GlobalParameter\n",
    "from utils import FileIO\n",
    "import os\n",
    "import time"
   ]
  },
  {
   "cell_type": "code",
   "execution_count": 2,
   "metadata": {
    "collapsed": false
   },
   "outputs": [
    {
     "data": {
      "text/plain": [
       "'/Users/JH/Documents/GitHub/EnergyData_jhyun/repository/preprocessed_data'"
      ]
     },
     "execution_count": 2,
     "metadata": {},
     "output_type": "execute_result"
    }
   ],
   "source": [
    "path = os.path.join(GlobalParameter.Repository_Path, GlobalParameter.Preprocessed_Path)\n",
    "\n",
    "path"
   ]
  },
  {
   "cell_type": "code",
   "execution_count": 3,
   "metadata": {
    "collapsed": false
   },
   "outputs": [
    {
     "data": {
      "text/plain": [
       "['/Users/JH/Documents/GitHub/EnergyData_jhyun/repository/preprocessed_data/PP_VTT_GW1_HA10_VM_EP_KV_K.bin',\n",
       " '/Users/JH/Documents/GitHub/EnergyData_jhyun/repository/preprocessed_data/PP_VTT_GW1_HA10_VM_KV_K.bin',\n",
       " '/Users/JH/Documents/GitHub/EnergyData_jhyun/repository/preprocessed_data/PP_VTT_GW1_HA10_VM_KV_KAM.bin',\n",
       " '/Users/JH/Documents/GitHub/EnergyData_jhyun/repository/preprocessed_data/PP_VTT_GW1_HA11_VM_EP_KV_K.bin',\n",
       " '/Users/JH/Documents/GitHub/EnergyData_jhyun/repository/preprocessed_data/PP_VTT_GW1_HA11_VM_KV_K.bin',\n",
       " '/Users/JH/Documents/GitHub/EnergyData_jhyun/repository/preprocessed_data/PP_VTT_GW1_HA11_VM_KV_KAM.bin',\n",
       " '/Users/JH/Documents/GitHub/EnergyData_jhyun/repository/preprocessed_data/PP_VTT_GW2_HA4_VM_EP_KV_K.bin',\n",
       " '/Users/JH/Documents/GitHub/EnergyData_jhyun/repository/preprocessed_data/PP_VTT_GW2_HA4_VM_KV_K.bin',\n",
       " '/Users/JH/Documents/GitHub/EnergyData_jhyun/repository/preprocessed_data/PP_VTT_GW2_HA4_VM_KV_KAM.bin']"
      ]
     },
     "execution_count": 3,
     "metadata": {},
     "output_type": "execute_result"
    }
   ],
   "source": [
    "file_list = FileIO.Load.load_filelist(path)\n",
    "\n",
    "file_list"
   ]
  },
  {
   "cell_type": "code",
   "execution_count": 4,
   "metadata": {
    "collapsed": false
   },
   "outputs": [
    {
     "data": {
      "text/plain": [
       "{'close_model': array([[  0.        ,   1.20957156,   3.89723637,   2.0441268 ,\n",
       "           2.0418472 ,   3.85859388,   2.59586287,   2.9430815 ,\n",
       "           3.89723637],\n",
       "        [  0.        ,   0.        ,  12.2044702 ,   3.1261231 ,\n",
       "           3.28004895,  11.85247714,   4.63085662,   2.83751143,  12.2044702 ],\n",
       "        [  0.        ,   0.        ,   0.        ,   3.15277347,\n",
       "           2.83812595,   1.00367622,   1.69415245,   4.84190648,\n",
       "           1.00246485],\n",
       "        [  0.        ,   0.        ,   0.        ,   0.        ,\n",
       "           1.00319767,   3.15268447,   2.11580503,   1.92773185,\n",
       "           3.13992128],\n",
       "        [  0.        ,   0.        ,   0.        ,   0.        ,\n",
       "           0.        ,   2.83805765,   2.12611601,   2.03113591,\n",
       "           2.82825764],\n",
       "        [  0.        ,   0.        ,   0.        ,   0.        ,\n",
       "           0.        ,   0.        ,   1.70150823,   4.89963443,\n",
       "           1.00489908],\n",
       "        [  0.        ,   0.        ,   0.        ,   0.        ,\n",
       "           0.        ,   0.        ,   0.        ,   1.61297171,\n",
       "           1.68673261],\n",
       "        [  0.        ,   0.        ,   0.        ,   0.        ,\n",
       "           0.        ,   0.        ,   0.        ,   0.        ,\n",
       "           4.81325498],\n",
       "        [  0.        ,   0.        ,   0.        ,   0.        ,\n",
       "           0.        ,   0.        ,   0.        ,   0.        ,   0.        ]]),\n",
       " 'dependency_model': array([[    0.        ,    45.72881554,  1520.00207207,    99.70590778,\n",
       "           124.50912307,  2102.40451188,   228.22202774,   195.04192421,\n",
       "           393.47658354],\n",
       "        [   45.72881554,     0.        ,  4505.72484754,   144.51829466,\n",
       "           103.03250112,  6252.76440427,   300.68977493,   113.98441002,\n",
       "           896.97988853],\n",
       "        [ 1520.00207207,  4505.72484754,     0.        ,  1226.5799292 ,\n",
       "           994.74359033,   313.14737709,   592.43259764,  1780.46357512,\n",
       "           283.58152782],\n",
       "        [   99.70590778,   144.51829466,  1226.5799292 ,     0.        ,\n",
       "            13.88139912,  1738.60909534,   126.11936888,   107.44850651,\n",
       "           214.42504811],\n",
       "        [  124.50912307,   103.03250112,   994.74359033,    13.88139912,\n",
       "             0.        ,  1489.21221448,   102.83312196,    88.6182924 ,\n",
       "           155.50017385],\n",
       "        [ 2102.40451188,  6252.76440427,   313.14737709,  1738.60909534,\n",
       "          1489.21221448,     0.        ,   856.90370693,  2598.74730207,\n",
       "           450.83866559],\n",
       "        [  228.22202774,   300.68977493,   592.43259764,   126.11936888,\n",
       "           102.83312196,   856.90370693,     0.        ,   113.11947934,\n",
       "            29.27563528],\n",
       "        [  195.04192421,   113.98441002,  1780.46357512,   107.44850651,\n",
       "            88.6182924 ,  2598.74730207,   113.11947934,     0.        ,\n",
       "           379.33328905],\n",
       "        [  393.47658354,   896.97988853,   283.58152782,   214.42504811,\n",
       "           155.50017385,   450.83866559,    29.27563528,   379.33328905,\n",
       "             0.        ]]),\n",
       " 'far_model': array([[   0.        ,   37.80579576,  390.02049819,   48.77677249,\n",
       "           60.97866827,  544.86286315,   87.91759778,   66.27132954,\n",
       "          100.96297627],\n",
       "        [   0.        ,    0.        ,  369.18643531,   46.22923987,\n",
       "           31.41187916,  527.5491639 ,   64.9317825 ,   40.17055541,\n",
       "           73.49601203],\n",
       "        [   0.        ,    0.        ,    0.        ,  389.04791061,\n",
       "          350.49311015,  312.00039491,  349.69261418,  367.71952983,\n",
       "          282.88425926],\n",
       "        [   0.        ,    0.        ,    0.        ,    0.        ,\n",
       "           13.83715245,  551.46942627,   59.60821873,   55.73830546,\n",
       "           68.28994387],\n",
       "        [   0.        ,    0.        ,    0.        ,    0.        ,\n",
       "            0.        ,  524.72937334,   48.36665619,   43.62991761,\n",
       "           54.98090831],\n",
       "        [   0.        ,    0.        ,    0.        ,    0.        ,\n",
       "            0.        ,    0.        ,  503.6142015 ,  530.39616306,\n",
       "          448.64073918],\n",
       "        [   0.        ,    0.        ,    0.        ,    0.        ,\n",
       "            0.        ,    0.        ,    0.        ,   70.13109948,\n",
       "           17.3564174 ],\n",
       "        [   0.        ,    0.        ,    0.        ,    0.        ,\n",
       "            0.        ,    0.        ,    0.        ,    0.        ,\n",
       "           78.81013799],\n",
       "        [   0.        ,    0.        ,    0.        ,    0.        ,\n",
       "            0.        ,    0.        ,    0.        ,    0.        ,    0.        ]]),\n",
       " 'file_list': ['/Users/JH/Documents/GitHub/EnergyData_jhyun/repository/preprocessed_data/PP_VTT_GW1_HA10_VM_EP_KV_K.bin',\n",
       "  '/Users/JH/Documents/GitHub/EnergyData_jhyun/repository/preprocessed_data/PP_VTT_GW1_HA10_VM_KV_K.bin',\n",
       "  '/Users/JH/Documents/GitHub/EnergyData_jhyun/repository/preprocessed_data/PP_VTT_GW1_HA10_VM_KV_KAM.bin',\n",
       "  '/Users/JH/Documents/GitHub/EnergyData_jhyun/repository/preprocessed_data/PP_VTT_GW1_HA11_VM_EP_KV_K.bin',\n",
       "  '/Users/JH/Documents/GitHub/EnergyData_jhyun/repository/preprocessed_data/PP_VTT_GW1_HA11_VM_KV_K.bin',\n",
       "  '/Users/JH/Documents/GitHub/EnergyData_jhyun/repository/preprocessed_data/PP_VTT_GW1_HA11_VM_KV_KAM.bin',\n",
       "  '/Users/JH/Documents/GitHub/EnergyData_jhyun/repository/preprocessed_data/PP_VTT_GW2_HA4_VM_EP_KV_K.bin',\n",
       "  '/Users/JH/Documents/GitHub/EnergyData_jhyun/repository/preprocessed_data/PP_VTT_GW2_HA4_VM_KV_K.bin',\n",
       "  '/Users/JH/Documents/GitHub/EnergyData_jhyun/repository/preprocessed_data/PP_VTT_GW2_HA4_VM_KV_KAM.bin']}"
      ]
     },
     "execution_count": 4,
     "metadata": {},
     "output_type": "execute_result"
    }
   ],
   "source": [
    "model_structure = Dependency.dependency_model(file_list)\n",
    "\n",
    "model_structure"
   ]
  },
  {
   "cell_type": "code",
   "execution_count": 5,
   "metadata": {
    "collapsed": true
   },
   "outputs": [],
   "source": [
    "FileIO.Save.dependency_model2bin_file(model_structure)"
   ]
  },
  {
   "cell_type": "code",
   "execution_count": null,
   "metadata": {
    "collapsed": true
   },
   "outputs": [],
   "source": []
  }
 ],
 "metadata": {
  "kernelspec": {
   "display_name": "Python 2",
   "language": "python",
   "name": "python2"
  },
  "language_info": {
   "codemirror_mode": {
    "name": "ipython",
    "version": 2
   },
   "file_extension": ".py",
   "mimetype": "text/x-python",
   "name": "python",
   "nbconvert_exporter": "python",
   "pygments_lexer": "ipython2",
   "version": "2.7.11"
  }
 },
 "nbformat": 4,
 "nbformat_minor": 0
}
