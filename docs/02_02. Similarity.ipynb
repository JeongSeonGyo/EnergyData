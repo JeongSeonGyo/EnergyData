{
 "cells": [
  {
   "cell_type": "code",
   "execution_count": 1,
   "metadata": {
    "collapsed": false
   },
   "outputs": [
    {
     "name": "stderr",
     "output_type": "stream",
     "text": [
      "/Users/JH/Documents/GitHub/EnergyData_jhyun/energy_data_venv/lib/python2.7/site-packages/matplotlib/font_manager.py:273: UserWarning: Matplotlib is building the font cache using fc-list. This may take a moment.\n",
      "  warnings.warn('Matplotlib is building the font cache using fc-list. This may take a moment.')\n"
     ]
    }
   ],
   "source": [
    "from utils import Similarity\n",
    "from utils import Preprocess\n",
    "from utils import GlobalParameter\n",
    "from utils import FileIO\n",
    "from utils import Graph\n",
    "%matplotlib inline\n",
    "import os"
   ]
  },
  {
   "cell_type": "code",
   "execution_count": 2,
   "metadata": {
    "collapsed": false
   },
   "outputs": [
    {
     "data": {
      "text/plain": [
       "'/Users/JH/Documents/GitHub/EnergyData_jhyun/repository/VTT_GW2_HA7_VM_EP_KV_K.bin'"
      ]
     },
     "execution_count": 2,
     "metadata": {},
     "output_type": "execute_result"
    }
   ],
   "source": [
    "new_input_file = os.path.join(GlobalParameter.Repository_Path, 'VTT_GW2_HA7_VM_EP_KV_K.bin')\n",
    "new_input_file"
   ]
  },
  {
   "cell_type": "code",
   "execution_count": 3,
   "metadata": {
    "collapsed": false
   },
   "outputs": [
    {
     "data": {
      "image/png": "[encoded data removed]",
      "text/plain": [
       "<matplotlib.figure.Figure at 0x1040787d0>"
      ]
     },
     "metadata": {},
     "output_type": "display_data"
    }
   ],
   "source": [
    "Graph.Show.bin2graph(new_input_file)"
   ]
  },
  {
   "cell_type": "code",
   "execution_count": 4,
   "metadata": {
    "collapsed": false
   },
   "outputs": [
    {
     "data": {
      "text/plain": [
       "'/Users/JH/Documents/GitHub/EnergyData_jhyun/repository/model/model.bin'"
      ]
     },
     "execution_count": 4,
     "metadata": {},
     "output_type": "execute_result"
    }
   ],
   "source": [
    "similarity_model_path = os.path.join(GlobalParameter.Repository_Path, GlobalParameter.Model_Path, 'model.bin')\n",
    "similarity_model_path"
   ]
  },
  {
   "cell_type": "code",
   "execution_count": 5,
   "metadata": {
    "collapsed": false
   },
   "outputs": [
    {
     "data": {
      "text/plain": [
       "{'cosine_similarity': array([[ 0.   ,  0.018,  0.787,  0.03 ,  0.032,  0.658,  0.128,  0.033,  1.   ],\n",
       "        [ 0.018,  0.   ,  0.791,  0.048,  0.042,  0.665,  0.144,  0.028,  1.   ],\n",
       "        [ 0.787,  0.791,  0.   ,  0.798,  0.799,  0.147,  0.825,  0.806,  1.   ],\n",
       "        [ 0.03 ,  0.048,  0.798,  0.   ,  0.002,  0.656,  0.059,  0.022,  1.   ],\n",
       "        [ 0.032,  0.042,  0.799,  0.002,  0.   ,  0.656,  0.061,  0.023,  1.   ],\n",
       "        [ 0.658,  0.665,  0.147,  0.656,  0.656,  0.   ,  0.693,  0.666,  1.   ],\n",
       "        [ 0.128,  0.144,  0.825,  0.059,  0.061,  0.693,  0.   ,  0.081,  1.   ],\n",
       "        [ 0.033,  0.028,  0.806,  0.022,  0.023,  0.666,  0.081,  0.   ,  1.   ],\n",
       "        [ 1.   ,  1.   ,  1.   ,  1.   ,  1.   ,  1.   ,  1.   ,  1.   ,  0.   ]]),\n",
       " 'euclidean_distance': array([[     0.   ,   2642.35 ,  13562.254,   3838.5  ,   3935.521,\n",
       "          13338.732,   6934.901,   3828.04 ,  13775.754],\n",
       "        [  2642.35 ,      0.   ,  13858.202,   4656.261,   4383.415,\n",
       "          13639.555,   7423.263,   3501.575,  14067.647],\n",
       "        [ 13562.254,  13858.202,      0.   ,  14987.302,  15014.644,\n",
       "            780.26 ,  13443.173,  14660.575,   1270.35 ],\n",
       "        [  3838.5  ,   4656.261,  14987.302,      0.   ,    863.361,\n",
       "          14744.373,   5204.77 ,   3186.513,  15191.619],\n",
       "        [  3935.521,   4383.415,  15014.644,    863.361,      0.   ,\n",
       "          14771.002,   5278.966,   3224.633,  15218.663],\n",
       "        [ 13338.732,  13639.555,    780.26 ,  14744.373,  14771.002,\n",
       "              0.   ,  13225.429,  14424.24 ,   1493.382],\n",
       "        [  6934.901,   7423.263,  13443.173,   5204.77 ,   5278.966,\n",
       "          13225.429,      0.   ,   5824.987,  13606.85 ],\n",
       "        [  3828.04 ,   3501.575,  14660.575,   3186.513,   3224.633,\n",
       "          14424.24 ,   5824.987,      0.   ,  14853.905],\n",
       "        [ 13775.754,  14067.647,   1270.35 ,  15191.619,  15218.663,\n",
       "           1493.382,  13606.85 ,  14853.905,      0.   ]]),\n",
       " 'file_list': ['/Users/JH/Documents/GitHub/EnergyData_jhyun/repository/preprocessed_data/PP_VTT_GW1_HA10_VM_EP_KV_K.bin',\n",
       "  '/Users/JH/Documents/GitHub/EnergyData_jhyun/repository/preprocessed_data/PP_VTT_GW1_HA10_VM_KV_K.bin',\n",
       "  '/Users/JH/Documents/GitHub/EnergyData_jhyun/repository/preprocessed_data/PP_VTT_GW1_HA10_VM_KV_KAM.bin',\n",
       "  '/Users/JH/Documents/GitHub/EnergyData_jhyun/repository/preprocessed_data/PP_VTT_GW1_HA11_VM_EP_KV_K.bin',\n",
       "  '/Users/JH/Documents/GitHub/EnergyData_jhyun/repository/preprocessed_data/PP_VTT_GW1_HA11_VM_KV_K.bin',\n",
       "  '/Users/JH/Documents/GitHub/EnergyData_jhyun/repository/preprocessed_data/PP_VTT_GW1_HA11_VM_KV_KAM.bin',\n",
       "  '/Users/JH/Documents/GitHub/EnergyData_jhyun/repository/preprocessed_data/PP_VTT_GW2_HA4_VM_EP_KV_K.bin',\n",
       "  '/Users/JH/Documents/GitHub/EnergyData_jhyun/repository/preprocessed_data/PP_VTT_GW2_HA4_VM_KV_K.bin',\n",
       "  '/Users/JH/Documents/GitHub/EnergyData_jhyun/repository/preprocessed_data/PP_VTT_GW2_HA4_VM_KV_KAM.bin'],\n",
       " 'file_name': 'model',\n",
       " 'gradient_similarity': array([[   0.   ,   37.398,  309.711,   48.777,   60.615,  482.503,\n",
       "           87.293,   65.95 ,  100.963],\n",
       "        [  37.398,    0.   ,  344.971,   45.805,   30.913,  509.31 ,\n",
       "           64.103,   39.745,   73.496],\n",
       "        [ 309.711,  344.971,    0.   ,  323.065,  327.625,  255.386,\n",
       "          296.747,  352.112,  283.104],\n",
       "        [  48.777,   45.805,  323.065,    0.   ,   13.468,  466.194,\n",
       "           58.637,   55.581,   68.29 ],\n",
       "        [  60.615,   30.913,  327.625,   13.468,    0.   ,  491.866,\n",
       "           48.001,   43.01 ,   54.981],\n",
       "        [ 482.503,  509.31 ,  255.386,  466.194,  491.866,    0.   ,\n",
       "          457.352,  516.074,  448.641],\n",
       "        [  87.293,   64.103,  296.747,   58.637,   48.001,  457.352,\n",
       "            0.   ,   69.811,   17.356],\n",
       "        [  65.95 ,   39.745,  352.112,   55.581,   43.01 ,  516.074,\n",
       "           69.811,    0.   ,   78.81 ],\n",
       "        [ 100.963,   73.496,  283.104,   68.29 ,   54.981,  448.641,\n",
       "           17.356,   78.81 ,    0.   ]]),\n",
       " 'reversed_gradient_similarity': array([[   0.   ,  169.639,  389.035,  165.399,  145.113,  541.429,\n",
       "          122.604,  171.384,  100.963],\n",
       "        [ 169.639,    0.   ,  344.031,  130.954,  118.299,  505.112,\n",
       "           84.136,  145.142,   73.496],\n",
       "        [ 389.035,  344.031,    0.   ,  347.669,  324.113,  742.964,\n",
       "          298.68 ,  349.756,  283.311],\n",
       "        [ 165.399,  130.954,  347.669,    0.   ,  115.094,  526.838,\n",
       "           88.371,  136.579,   68.29 ],\n",
       "        [ 145.113,  118.299,  324.113,  115.094,    0.   ,  486.208,\n",
       "           62.111,  123.953,   54.987],\n",
       "        [ 541.429,  505.112,  742.964,  526.838,  486.208,    0.   ,\n",
       "          459.641,  511.492,  448.106],\n",
       "        [ 122.604,   84.136,  298.68 ,   88.371,   62.111,  459.641,\n",
       "            0.   ,   88.573,   17.356],\n",
       "        [ 171.384,  145.142,  349.756,  136.579,  123.953,  511.492,\n",
       "           88.573,    0.   ,   78.81 ],\n",
       "        [ 100.963,   73.496,  283.311,   68.29 ,   54.987,  448.106,\n",
       "           17.356,   78.81 ,    0.   ]])}"
      ]
     },
     "execution_count": 5,
     "metadata": {},
     "output_type": "execute_result"
    }
   ],
   "source": [
    "similarity_model = FileIO.Load.unpickling(similarity_model_path)\n",
    "similarity_model"
   ]
  },
  {
   "cell_type": "code",
   "execution_count": 6,
   "metadata": {
    "collapsed": false
   },
   "outputs": [
    {
     "data": {
      "text/plain": [
       "9"
      ]
     },
     "execution_count": 6,
     "metadata": {},
     "output_type": "execute_result"
    }
   ],
   "source": [
    "len(similarity_model['file_list'])"
   ]
  },
  {
   "cell_type": "code",
   "execution_count": 7,
   "metadata": {
    "collapsed": false
   },
   "outputs": [
    {
     "data": {
      "text/plain": [
       "(9, 9)"
      ]
     },
     "execution_count": 7,
     "metadata": {},
     "output_type": "execute_result"
    }
   ],
   "source": [
    "similarity_model['cosine_similarity'].shape"
   ]
  },
  {
   "cell_type": "code",
   "execution_count": 8,
   "metadata": {
    "collapsed": false
   },
   "outputs": [],
   "source": [
    "similarity_model,added_file_path = Similarity.Model.add_extra_model(similarity_model_path, new_input_file)"
   ]
  },
  {
   "cell_type": "code",
   "execution_count": 9,
   "metadata": {
    "collapsed": false
   },
   "outputs": [
    {
     "data": {
      "text/plain": [
       "'/Users/JH/Documents/GitHub/EnergyData_jhyun/repository/preprocessed_data/PP_VTT_GW2_HA7_VM_EP_KV_K.bin'"
      ]
     },
     "execution_count": 9,
     "metadata": {},
     "output_type": "execute_result"
    }
   ],
   "source": [
    "added_file_path"
   ]
  },
  {
   "cell_type": "code",
   "execution_count": 10,
   "metadata": {
    "collapsed": false
   },
   "outputs": [
    {
     "data": {
      "text/plain": [
       "{'cosine_similarity': array([[ 0.   ,  0.018,  0.787,  0.03 ,  0.032,  0.658,  0.128,  0.033,\n",
       "          1.   ,  0.121],\n",
       "        [ 0.018,  0.   ,  0.791,  0.048,  0.042,  0.665,  0.144,  0.028,\n",
       "          1.   ,  0.136],\n",
       "        [ 0.787,  0.791,  0.   ,  0.798,  0.799,  0.147,  0.825,  0.806,\n",
       "          1.   ,  0.819],\n",
       "        [ 0.03 ,  0.048,  0.798,  0.   ,  0.002,  0.656,  0.059,  0.022,\n",
       "          1.   ,  0.062],\n",
       "        [ 0.032,  0.042,  0.799,  0.002,  0.   ,  0.656,  0.061,  0.023,\n",
       "          1.   ,  0.064],\n",
       "        [ 0.658,  0.665,  0.147,  0.656,  0.656,  0.   ,  0.693,  0.666,\n",
       "          1.   ,  0.672],\n",
       "        [ 0.128,  0.144,  0.825,  0.059,  0.061,  0.693,  0.   ,  0.081,\n",
       "          1.   ,  0.009],\n",
       "        [ 0.033,  0.028,  0.806,  0.022,  0.023,  0.666,  0.081,  0.   ,\n",
       "          1.   ,  0.089],\n",
       "        [ 1.   ,  1.   ,  1.   ,  1.   ,  1.   ,  1.   ,  1.   ,  1.   ,\n",
       "          0.   ,  1.   ],\n",
       "        [ 0.121,  0.136,  0.819,  0.062,  0.064,  0.672,  0.009,  0.089,\n",
       "          1.   ,  0.   ]]),\n",
       " 'euclidean_distance': array([[     0.   ,   2642.35 ,  13562.254,   3838.5  ,   3935.521,\n",
       "          13338.732,   6934.901,   3828.04 ,  13775.754,   6571.465],\n",
       "        [  2642.35 ,      0.   ,  13858.202,   4656.261,   4383.415,\n",
       "          13639.555,   7423.263,   3501.575,  14067.647,   7085.527],\n",
       "        [ 13562.254,  13858.202,      0.   ,  14987.302,  15014.644,\n",
       "            780.26 ,  13443.173,  14660.575,   1270.35 ,  12270.592],\n",
       "        [  3838.5  ,   4656.261,  14987.302,      0.   ,    863.361,\n",
       "          14744.373,   5204.77 ,   3186.513,  15191.619,   5579.839],\n",
       "        [  3935.521,   4383.415,  15014.644,    863.361,      0.   ,\n",
       "          14771.002,   5278.966,   3224.633,  15218.663,   5646.6  ],\n",
       "        [ 13338.732,  13639.555,    780.26 ,  14744.373,  14771.002,\n",
       "              0.   ,  13225.429,  14424.24 ,   1493.382,  12030.725],\n",
       "        [  6934.901,   7423.263,  13443.173,   5204.77 ,   5278.966,\n",
       "          13225.429,      0.   ,   5824.987,  13606.85 ,   2122.027],\n",
       "        [  3828.04 ,   3501.575,  14660.575,   3186.513,   3224.633,\n",
       "          14424.24 ,   5824.987,      0.   ,  14853.905,   6197.958],\n",
       "        [ 13775.754,  14067.647,   1270.35 ,  15191.619,  15218.663,\n",
       "           1493.382,  13606.85 ,  14853.905,      0.   ,  12437.1  ],\n",
       "        [  6571.465,   7085.527,  12270.592,   5579.839,   5646.6  ,\n",
       "          12030.725,   2122.027,   6197.958,  12437.1  ,      0.   ]]),\n",
       " 'file_list': ['/Users/JH/Documents/GitHub/EnergyData_jhyun/repository/preprocessed_data/PP_VTT_GW1_HA10_VM_EP_KV_K.bin',\n",
       "  '/Users/JH/Documents/GitHub/EnergyData_jhyun/repository/preprocessed_data/PP_VTT_GW1_HA10_VM_KV_K.bin',\n",
       "  '/Users/JH/Documents/GitHub/EnergyData_jhyun/repository/preprocessed_data/PP_VTT_GW1_HA10_VM_KV_KAM.bin',\n",
       "  '/Users/JH/Documents/GitHub/EnergyData_jhyun/repository/preprocessed_data/PP_VTT_GW1_HA11_VM_EP_KV_K.bin',\n",
       "  '/Users/JH/Documents/GitHub/EnergyData_jhyun/repository/preprocessed_data/PP_VTT_GW1_HA11_VM_KV_K.bin',\n",
       "  '/Users/JH/Documents/GitHub/EnergyData_jhyun/repository/preprocessed_data/PP_VTT_GW1_HA11_VM_KV_KAM.bin',\n",
       "  '/Users/JH/Documents/GitHub/EnergyData_jhyun/repository/preprocessed_data/PP_VTT_GW2_HA4_VM_EP_KV_K.bin',\n",
       "  '/Users/JH/Documents/GitHub/EnergyData_jhyun/repository/preprocessed_data/PP_VTT_GW2_HA4_VM_KV_K.bin',\n",
       "  '/Users/JH/Documents/GitHub/EnergyData_jhyun/repository/preprocessed_data/PP_VTT_GW2_HA4_VM_KV_KAM.bin',\n",
       "  '/Users/JH/Documents/GitHub/EnergyData_jhyun/repository/preprocessed_data/PP_VTT_GW2_HA7_VM_EP_KV_K.bin'],\n",
       " 'file_name': 'model',\n",
       " 'gradient_similarity': array([[   0.   ,   37.398,  309.711,   48.777,   60.615,  482.503,\n",
       "           87.293,   65.95 ,  100.963,   87.879],\n",
       "        [  37.398,    0.   ,  344.971,   45.805,   30.913,  509.31 ,\n",
       "           64.103,   39.745,   73.496,   62.761],\n",
       "        [ 309.711,  344.971,    0.   ,  323.065,  327.625,  255.386,\n",
       "          296.747,  352.112,  283.104,  299.063],\n",
       "        [  48.777,   45.805,  323.065,    0.   ,   13.468,  466.194,\n",
       "           58.637,   55.581,   68.29 ,   62.449],\n",
       "        [  60.615,   30.913,  327.625,   13.468,    0.   ,  491.866,\n",
       "           48.001,   43.01 ,   54.981,   49.22 ],\n",
       "        [ 482.503,  509.31 ,  255.386,  466.194,  491.866,    0.   ,\n",
       "          457.352,  516.074,  448.641,  471.045],\n",
       "        [  87.293,   64.103,  296.747,   58.637,   48.001,  457.352,\n",
       "            0.   ,   69.811,   17.356,    4.191],\n",
       "        [  65.95 ,   39.745,  352.112,   55.581,   43.01 ,  516.074,\n",
       "           69.811,    0.   ,   78.81 ,   71.486],\n",
       "        [ 100.963,   73.496,  283.104,   68.29 ,   54.981,  448.641,\n",
       "           17.356,   78.81 ,    0.   ,   18.321],\n",
       "        [  87.879,   62.761,  299.063,   62.449,   49.22 ,  471.045,\n",
       "            4.191,   71.486,   18.321,    0.   ]]),\n",
       " 'reversed_gradient_similarity': array([[   0.   ,  169.639,  389.035,  165.399,  145.113,  541.429,\n",
       "          122.604,  171.384,  100.963,  123.774],\n",
       "        [ 169.639,    0.   ,  344.031,  130.954,  118.299,  505.112,\n",
       "           84.136,  145.142,   73.496,   84.663],\n",
       "        [ 389.035,  344.031,    0.   ,  347.669,  324.113,  742.964,\n",
       "          298.68 ,  349.756,  283.311,  299.051],\n",
       "        [ 165.399,  130.954,  347.669,    0.   ,  115.094,  526.838,\n",
       "           88.371,  136.579,   68.29 ,   85.426],\n",
       "        [ 145.113,  118.299,  324.113,  115.094,    0.   ,  486.208,\n",
       "           62.111,  123.953,   54.987,   62.595],\n",
       "        [ 541.429,  505.112,  742.964,  526.838,  486.208,    0.   ,\n",
       "          459.641,  511.492,  448.106,  460.82 ],\n",
       "        [ 122.604,   84.136,  298.68 ,   88.371,   62.111,  459.641,\n",
       "            0.   ,   88.573,   17.356,   49.052],\n",
       "        [ 171.384,  145.142,  349.756,  136.579,  123.953,  511.492,\n",
       "           88.573,    0.   ,   78.81 ,   88.668],\n",
       "        [ 100.963,   73.496,  283.311,   68.29 ,   54.987,  448.106,\n",
       "           17.356,   78.81 ,    0.   ,   18.321],\n",
       "        [ 123.774,   84.663,  299.051,   85.426,   62.595,  460.82 ,\n",
       "           49.052,   88.668,   18.321,    0.   ]])}"
      ]
     },
     "execution_count": 10,
     "metadata": {},
     "output_type": "execute_result"
    }
   ],
   "source": [
    "similarity_model"
   ]
  },
  {
   "cell_type": "code",
   "execution_count": 11,
   "metadata": {
    "collapsed": false
   },
   "outputs": [
    {
     "data": {
      "text/plain": [
       "10"
      ]
     },
     "execution_count": 11,
     "metadata": {},
     "output_type": "execute_result"
    }
   ],
   "source": [
    "len(similarity_model['file_list'])"
   ]
  },
  {
   "cell_type": "code",
   "execution_count": 12,
   "metadata": {
    "collapsed": false
   },
   "outputs": [
    {
     "data": {
      "text/plain": [
       "(10, 10)"
      ]
     },
     "execution_count": 12,
     "metadata": {},
     "output_type": "execute_result"
    }
   ],
   "source": [
    "similarity_model['cosine_similarity'].shape"
   ]
  },
  {
   "cell_type": "code",
   "execution_count": null,
   "metadata": {
    "collapsed": true
   },
   "outputs": [],
   "source": []
  }
 ],
 "metadata": {
  "kernelspec": {
   "display_name": "Python 2",
   "language": "python",
   "name": "python2"
  },
  "language_info": {
   "codemirror_mode": {
    "name": "ipython",
    "version": 2
   },
   "file_extension": ".py",
   "mimetype": "text/x-python",
   "name": "python",
   "nbconvert_exporter": "python",
   "pygments_lexer": "ipython2",
   "version": "2.7.11"
  }
 },
 "nbformat": 4,
 "nbformat_minor": 0
}
