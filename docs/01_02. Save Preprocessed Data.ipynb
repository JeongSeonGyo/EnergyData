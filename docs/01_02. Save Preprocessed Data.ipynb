{
 "cells": [
  {
   "cell_type": "markdown",
   "metadata": {},
   "source": [
    "# Save Preprocessed Data\n",
    "---"
   ]
  },
  {
   "cell_type": "markdown",
   "metadata": {},
   "source": [
    "### 개요\n",
    "* Preprocess 처리 얻은 **preprocessed_data를 저장**하여, 매 분석을 실행할 때마다 preprocessing 해야할 필요성을 제거함\n",
    "\n",
    "---\n",
    "* 아래는 지정된 경로에 있는 data들을 preprocessing 과정을 걸처 preprocessed_data로 변환시킨 후, 지정된 경로에 저장하는 과정임 \n",
    "<img src=\"https://raw.githubusercontent.com/jhyun0919/EnergyData_jhyun/master/docs/images/%EC%8A%A4%ED%81%AC%EB%A6%B0%EC%83%B7%202016-05-16%20%EC%98%A4%ED%9B%84%202.39.06.jpg\" alt=\"Drawing\" style=\"width: 800px;\"/>"
   ]
  },
  {
   "cell_type": "markdown",
   "metadata": {},
   "source": [
    "---\n",
    "* data-preprocessing과 saving 과정에 필요한 module들을 import 하자"
   ]
  },
  {
   "cell_type": "code",
   "execution_count": null,
   "metadata": {
    "collapsed": false
   },
   "outputs": [],
   "source": [
    "from utils import Preprocess\n",
    "from utils import FileIO\n",
    "from utils import GlobalParameter\n",
    "from utils import Graph\n",
    "%matplotlib inline\n",
    "import os"
   ]
  },
  {
   "cell_type": "markdown",
   "metadata": {},
   "source": [
    "---\n",
    "* 모든 data file은 GlobalParameter.Repository_Path의 경로 아래에 저장하고 불러온다\n",
    "* 다음 과정은 주어진 경로 아래 preprocess 처리 전의 data들이 저장된 path를 지정하고 확인해보는 과정이다"
   ]
  },
  {
   "cell_type": "code",
   "execution_count": null,
   "metadata": {
    "collapsed": false
   },
   "outputs": [],
   "source": [
    "file_list_path = os.path.join(GlobalParameter.Repository_Path, 'VTT')\n",
    "file_list_path"
   ]
  },
  {
   "cell_type": "markdown",
   "metadata": {},
   "source": [
    "---\n",
    "* 지정된 path 아래 저장되어있는 binary file들을 확인해보자"
   ]
  },
  {
   "cell_type": "code",
   "execution_count": null,
   "metadata": {
    "collapsed": false
   },
   "outputs": [],
   "source": [
    "binary_files = FileIO.Load.load_binary_file_list(file_list_path)\n",
    "binary_files"
   ]
  },
  {
   "cell_type": "markdown",
   "metadata": {},
   "source": [
    "---\n",
    "* Preprocessing 전, file_list 안의 file들을 data를 graph를 통해 확인해보자 "
   ]
  },
  {
   "cell_type": "code",
   "execution_count": null,
   "metadata": {
    "collapsed": false
   },
   "outputs": [],
   "source": [
    "for file in binary_files:\n",
    "    Graph.Show.raw_data2graph(file)"
   ]
  },
  {
   "cell_type": "markdown",
   "metadata": {},
   "source": [
    "---\n",
    "* file_list 안의 file들을 \n",
    "    * **Preprocess.data_preprocess(file)**를 통해 preprocess 과정을 거친 뒤, \n",
    "    * **FileIO.Save.preprocessed_data2bin_file(preprocessed_data)**를 통해 저장하자\n",
    "        * 저장 경로는 GlobalParameter.Repository_Path와 GlobalParameter.Preprocessed_Path에 지정된 경로를 따른다 "
   ]
  },
  {
   "cell_type": "code",
   "execution_count": null,
   "metadata": {
    "collapsed": false
   },
   "outputs": [],
   "source": [
    "saved_path = Preprocess.refining_data()"
   ]
  },
  {
   "cell_type": "markdown",
   "metadata": {},
   "source": [
    "---\n",
    "* 저장된 preprocessed_data를 불러오기 위해 지정된 경로를 확인해보자"
   ]
  },
  {
   "cell_type": "code",
   "execution_count": null,
   "metadata": {
    "collapsed": false
   },
   "outputs": [],
   "source": [
    "saved_path"
   ]
  },
  {
   "cell_type": "markdown",
   "metadata": {},
   "source": [
    "---\n",
    "* 지정된 경로 preprocessed_file_path에 저장되어있는 data들의 경로를 list로 만들어주자"
   ]
  },
  {
   "cell_type": "code",
   "execution_count": null,
   "metadata": {
    "collapsed": false
   },
   "outputs": [],
   "source": [
    "preprocessed_file_list = FileIO.Load.load_binary_file_list(saved_path)\n",
    "preprocessed_file_list"
   ]
  },
  {
   "cell_type": "markdown",
   "metadata": {},
   "source": [
    "---\n",
    "* Preprocessing 후, preprocessed_file_list 안의 file들을 data를 graph를 통해 확인해보자 "
   ]
  },
  {
   "cell_type": "code",
   "execution_count": null,
   "metadata": {
    "collapsed": false
   },
   "outputs": [],
   "source": [
    "for file in preprocessed_file_list:\n",
    "    Graph.Show.refined_data2graph(file)"
   ]
  },
  {
   "cell_type": "markdown",
   "metadata": {
    "collapsed": true
   },
   "source": [
    "---\n",
    "##### 위 preprocessing & saving data 과정을 통해 아래와 같은 조건을 만족시켜 data를 분석하기 위한 준비과정을 완료하였음\n",
    "* preprocessed data\n",
    "* preprocessed data 를 저장하여, 분석 시 매번 preprocessing을 해야하는 문제 해결"
   ]
  },
  {
   "cell_type": "code",
   "execution_count": null,
   "metadata": {
    "collapsed": true
   },
   "outputs": [],
   "source": []
  }
 ],
 "metadata": {
  "kernelspec": {
   "display_name": "Python 2",
   "language": "python",
   "name": "python2"
  },
  "language_info": {
   "codemirror_mode": {
    "name": "ipython",
    "version": 2
   },
   "file_extension": ".py",
   "mimetype": "text/x-python",
   "name": "python",
   "nbconvert_exporter": "python",
   "pygments_lexer": "ipython2",
   "version": "2.7.11"
  }
 },
 "nbformat": 4,
 "nbformat_minor": 0
}
