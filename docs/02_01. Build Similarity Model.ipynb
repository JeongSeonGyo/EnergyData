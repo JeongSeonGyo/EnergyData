{
 "cells": [
  {
   "cell_type": "markdown",
   "metadata": {},
   "source": [
    "# Build & Save Similarity Model\n",
    "---"
   ]
  },
  {
   "cell_type": "markdown",
   "metadata": {},
   "source": [
    "### 개요\n",
    "* **Preprocessed_repository**로 부터 **preprocessing** 된 data를 불러와 각 data 사이 **유사도(similarity)**를 계산하여 하나의 **유사도 모델(similarity_model)**을 구성하여 반환/저장함\n",
    "\n",
    "---\n",
    "* 아래는 저장되어있는 preprocessed_data 사이 similarity를 계산하여 similarity_model을 구성/저장하는 과정임  \n",
    "\n",
    "<img src=\"https://raw.githubusercontent.com/jhyun0919/EnergyData_jhyun/master/docs/images/%EC%8A%A4%ED%81%AC%EB%A6%B0%EC%83%B7%202016-05-18%20%EC%98%A4%EC%A0%84%2010.26.43.jpg\" alt=\"Drawing\" style=\"width: 700px;\"/>"
   ]
  },
  {
   "cell_type": "markdown",
   "metadata": {},
   "source": [
    "---\n",
    "* similarity 계산과 save 과정에 필요한 module들을 import 하자"
   ]
  },
  {
   "cell_type": "code",
   "execution_count": 1,
   "metadata": {
    "collapsed": false
   },
   "outputs": [],
   "source": [
    "from utils import GlobalParameter\n",
    "from utils import FileIO\n",
    "from utils import Similarity\n",
    "import os"
   ]
  },
  {
   "cell_type": "markdown",
   "metadata": {},
   "source": [
    "---\n",
    "* 다음 과정은 repository의 경로를 지정하고 확인하는 과정이다"
   ]
  },
  {
   "cell_type": "code",
   "execution_count": 2,
   "metadata": {
    "collapsed": false
   },
   "outputs": [
    {
     "data": {
      "text/plain": [
       "'/Users/JH/Documents/GitHub/EnergyData_jhyun/repository/60/refined_data_fully_refined'"
      ]
     },
     "execution_count": 2,
     "metadata": {},
     "output_type": "execute_result"
    }
   ],
   "source": [
    "repository4prepodessed_path = os.path.join(GlobalParameter.Repository_Path, \n",
    "                                           str(GlobalParameter.Time_Interval), \n",
    "                                           GlobalParameter.Fully_Preprocessed_Path)\n",
    "repository4prepodessed_path"
   ]
  },
  {
   "cell_type": "markdown",
   "metadata": {},
   "source": [
    "---\n",
    "* 지정된 경로 아래에 있는 preprocessed_data file들의 abs_path를 list로 만들어 반환하자"
   ]
  },
  {
   "cell_type": "code",
   "execution_count": 3,
   "metadata": {
    "collapsed": false
   },
   "outputs": [
    {
     "data": {
      "text/plain": [
       "['/Users/JH/Documents/GitHub/EnergyData_jhyun/repository/60/refined_data_fully_refined/VTT_GW1_HA10_VM_EP_KV_K.bin',\n",
       " '/Users/JH/Documents/GitHub/EnergyData_jhyun/repository/60/refined_data_fully_refined/VTT_GW1_HA10_VM_KV_K.bin',\n",
       " '/Users/JH/Documents/GitHub/EnergyData_jhyun/repository/60/refined_data_fully_refined/VTT_GW1_HA10_VM_KV_KAM.bin',\n",
       " '/Users/JH/Documents/GitHub/EnergyData_jhyun/repository/60/refined_data_fully_refined/VTT_GW1_HA11_VM_EP_KV_K.bin',\n",
       " '/Users/JH/Documents/GitHub/EnergyData_jhyun/repository/60/refined_data_fully_refined/VTT_GW1_HA11_VM_KV_K.bin',\n",
       " '/Users/JH/Documents/GitHub/EnergyData_jhyun/repository/60/refined_data_fully_refined/VTT_GW1_HA11_VM_KV_KAM.bin',\n",
       " '/Users/JH/Documents/GitHub/EnergyData_jhyun/repository/60/refined_data_fully_refined/VTT_GW2_HA4_VM_EP_KV_K.bin',\n",
       " '/Users/JH/Documents/GitHub/EnergyData_jhyun/repository/60/refined_data_fully_refined/VTT_GW2_HA4_VM_KV_K.bin',\n",
       " '/Users/JH/Documents/GitHub/EnergyData_jhyun/repository/60/refined_data_fully_refined/VTT_GW2_HA4_VM_KV_KAM.bin']"
      ]
     },
     "execution_count": 3,
     "metadata": {},
     "output_type": "execute_result"
    }
   ],
   "source": [
    "file_list = FileIO.Load.binary_file_list(repository4prepodessed_path)\n",
    "file_list"
   ]
  },
  {
   "cell_type": "markdown",
   "metadata": {},
   "source": [
    "---\n",
    "* file_list를 인자값으로 전달하여 **similarity_model**을 구성하고, \n",
    "    * 해당 모델(similarity_model)과 \n",
    "    * 저장된 경로(model_save_path)를 반환 받자"
   ]
  },
  {
   "cell_type": "code",
   "execution_count": 5,
   "metadata": {
    "collapsed": false
   },
   "outputs": [
    {
     "name": "stdout",
     "output_type": "stream",
     "text": [
      "calculating covariance\n",
      "\trun_time: 2.67620491982 sec\n",
      "calculating cosine_similarity\n",
      "\trun_time: 3.37587618828 sec\n",
      "calculating euclidean_distance\n",
      "\trun_time: 3.22806119919 sec\n",
      "calculating manhattan_distance\n",
      "\trun_time: 4.99802017212 sec\n",
      "calculating gradient_similarity\n",
      "\trun_time: 3.63395404816 sec\n",
      "calculating reversed_gradient_similarity\n",
      "\trun_time: 3.4038131237 sec\n"
     ]
    }
   ],
   "source": [
    "similarity_model, model_save_path = Similarity.Build.similarity_model(GlobalParameter.Time_Interval, \n",
    "                                                                      GlobalParameter.Fully_Preprocessed_Path)"
   ]
  },
  {
   "cell_type": "markdown",
   "metadata": {},
   "source": [
    "---\n",
    "* 반환 받은 model_save_path를 확인해보자"
   ]
  },
  {
   "cell_type": "code",
   "execution_count": 6,
   "metadata": {
    "collapsed": false
   },
   "outputs": [
    {
     "data": {
      "text/plain": [
       "'/Users/JH/Documents/GitHub/EnergyData_jhyun/repository/60/refined_data_fully_refined/similarity_model/similarity.bin'"
      ]
     },
     "execution_count": 6,
     "metadata": {},
     "output_type": "execute_result"
    }
   ],
   "source": [
    "model_save_path"
   ]
  },
  {
   "cell_type": "markdown",
   "metadata": {},
   "source": [
    "---\n",
    "* 반환 받은 similarity_model을 확인해보자"
   ]
  },
  {
   "cell_type": "code",
   "execution_count": 7,
   "metadata": {
    "collapsed": false
   },
   "outputs": [
    {
     "data": {
      "text/plain": [
       "{'cosine_similarity': array([[ 0.        ,  0.04395962,  1.91224366,  0.07570824,  0.08059264,\n",
       "          1.57521987,  0.31992838,  0.08303485,  2.44220136],\n",
       "        [ 0.04395962,  0.        ,  1.91957027,  0.11966787,  0.09768805,\n",
       "          1.58987308,  0.3590036 ,  0.06838164,  2.44220136],\n",
       "        [ 1.91224366,  1.91957027,  0.        ,  1.93910788,  1.93910788,\n",
       "          0.363888  ,  2.00748951,  1.95620329,  2.44220136],\n",
       "        [ 0.07570824,  0.11966787,  1.93910788,  0.        ,  0.0048844 ,\n",
       "          1.56300887,  0.14897428,  0.05617063,  2.44220136],\n",
       "        [ 0.08059264,  0.09768805,  1.93910788,  0.0048844 ,  0.        ,\n",
       "          1.56300887,  0.15385869,  0.04884403,  2.44220136],\n",
       "        [ 1.57521987,  1.58987308,  0.363888  ,  1.56300887,  1.56300887,\n",
       "          0.        ,  1.65337032,  1.58743088,  2.44220136],\n",
       "        [ 0.31992838,  0.3590036 ,  2.00748951,  0.14897428,  0.15385869,\n",
       "          1.65337032,  0.        ,  0.20026051,  2.44220136],\n",
       "        [ 0.08303485,  0.06838164,  1.95620329,  0.05617063,  0.04884403,\n",
       "          1.58743088,  0.20026051,  0.        ,  2.44220136],\n",
       "        [ 2.44220136,  2.44220136,  2.44220136,  2.44220136,  2.44220136,\n",
       "          2.44220136,  2.44220136,  2.44220136,  0.        ]]),\n",
       " 'covariance': array([[ 0.10783927,  1.83853107,  3.1777161 ,  1.81450021,  1.83338054,\n",
       "          3.20926082,  2.04357923,  1.866151  ,  3.31663134],\n",
       "        [ 1.83853107,  0.14463336,  3.20216202,  1.85875227,  1.84971161,\n",
       "          3.28666996,  2.03977447,  1.852211  ,  3.31834099],\n",
       "        [ 3.1777161 ,  3.20216202,  0.31389509,  3.18443644,  3.1900068 ,\n",
       "          2.14644844,  3.20690894,  3.21880246,  3.31081514],\n",
       "        [ 1.81450021,  1.85875227,  3.18443644,  0.        ,  1.66117722,\n",
       "          3.1484395 ,  1.81826003,  1.74386952,  3.3159623 ],\n",
       "        [ 1.83338054,  1.84971161,  3.1900068 ,  1.66117722,  0.00332314,\n",
       "          3.16136215,  1.81229214,  1.74488395,  3.31629988],\n",
       "        [ 3.20926082,  3.28666996,  2.14644844,  3.1484395 ,  3.16136215,\n",
       "          0.28064634,  3.14032727,  3.22022906,  3.31184543],\n",
       "        [ 2.04357923,  2.03977447,  3.20690894,  1.81826003,  1.81229214,\n",
       "          3.14032727,  0.06157058,  1.85255153,  3.31403654],\n",
       "        [ 1.866151  ,  1.852211  ,  3.21880246,  1.74386952,  1.74488395,\n",
       "          3.22022906,  1.85255153,  0.03081447,  3.31692145],\n",
       "        [ 3.31663134,  3.31834099,  3.31081514,  3.3159623 ,  3.31629988,\n",
       "          3.31184543,  3.31403654,  3.31692145,  1.41877697]]),\n",
       " 'euclidean_distance': array([[ 0.        ,  0.65945954,  2.67370812,  0.64226099,  0.65135315,\n",
       "          2.49971629,  1.29192096,  0.67627539,  2.636145  ],\n",
       "        [ 0.65945954,  0.        ,  3.02290948,  1.00924077,  0.91827283,\n",
       "          2.84002265,  1.63830422,  0.74482606,  3.02786146],\n",
       "        [ 2.67370812,  3.02290948,  0.        ,  2.54651073,  2.60538939,\n",
       "          0.85975368,  2.26964071,  2.75267302,  1.61926172],\n",
       "        [ 0.64226099,  1.00924077,  2.54651073,  0.        ,  0.15557558,\n",
       "          2.35659603,  0.86055388,  0.5823154 ,  2.46934339],\n",
       "        [ 0.65135315,  0.91827283,  2.60538939,  0.15557558,  0.        ,\n",
       "          2.41120695,  0.91380793,  0.53279562,  2.53829996],\n",
       "        [ 2.49971629,  2.84002265,  0.85975368,  2.35659603,  2.41120695,\n",
       "          0.        ,  2.12262381,  2.55862974,  1.73234539],\n",
       "        [ 1.29192096,  1.63830422,  2.26964071,  0.86055388,  0.91380793,\n",
       "          2.12262381,  0.        ,  1.12502657,  2.08494472],\n",
       "        [ 0.67627539,  0.74482606,  2.75267302,  0.5823154 ,  0.53279562,\n",
       "          2.55862974,  1.12502657,  0.        ,  2.69760982],\n",
       "        [ 2.636145  ,  3.02786146,  1.61926172,  2.46934339,  2.53829996,\n",
       "          1.73234539,  2.08494472,  2.69760982,  0.        ]]),\n",
       " 'file_list': array([ '/Users/JH/Documents/GitHub/EnergyData_jhyun/repository/60/refined_data_fully_refined/VTT_GW1_HA10_VM_EP_KV_K.bin',\n",
       "        '/Users/JH/Documents/GitHub/EnergyData_jhyun/repository/60/refined_data_fully_refined/VTT_GW1_HA10_VM_KV_K.bin',\n",
       "        '/Users/JH/Documents/GitHub/EnergyData_jhyun/repository/60/refined_data_fully_refined/VTT_GW1_HA10_VM_KV_KAM.bin',\n",
       "        '/Users/JH/Documents/GitHub/EnergyData_jhyun/repository/60/refined_data_fully_refined/VTT_GW1_HA11_VM_EP_KV_K.bin',\n",
       "        '/Users/JH/Documents/GitHub/EnergyData_jhyun/repository/60/refined_data_fully_refined/VTT_GW1_HA11_VM_KV_K.bin',\n",
       "        '/Users/JH/Documents/GitHub/EnergyData_jhyun/repository/60/refined_data_fully_refined/VTT_GW1_HA11_VM_KV_KAM.bin',\n",
       "        '/Users/JH/Documents/GitHub/EnergyData_jhyun/repository/60/refined_data_fully_refined/VTT_GW2_HA4_VM_EP_KV_K.bin',\n",
       "        '/Users/JH/Documents/GitHub/EnergyData_jhyun/repository/60/refined_data_fully_refined/VTT_GW2_HA4_VM_KV_K.bin',\n",
       "        '/Users/JH/Documents/GitHub/EnergyData_jhyun/repository/60/refined_data_fully_refined/VTT_GW2_HA4_VM_KV_KAM.bin'], \n",
       "       dtype='|S112'),\n",
       " 'gradient_similarity': array([[ 0.        ,  0.15347773,  1.69460376,  0.10623185,  0.16536898,\n",
       "          2.35744011,  0.12511005,  0.18928584,  1.243828  ],\n",
       "        [ 0.15347773,  0.        ,  1.80352289,  0.17097869,  0.14459289,\n",
       "          2.44667487,  0.16819063,  0.16780433,  1.25207462],\n",
       "        [ 1.69460376,  1.80352289,  0.        ,  1.72747265,  1.77260229,\n",
       "          1.85258269,  1.69572906,  1.81208862,  2.79662694],\n",
       "        [ 0.10623185,  0.17097869,  1.72747265,  0.        ,  0.1128493 ,\n",
       "          2.3352364 ,  0.09929529,  0.17361559,  1.20855735],\n",
       "        [ 0.16536898,  0.14459289,  1.77260229,  0.1128493 ,  0.        ,\n",
       "          2.40801151,  0.13372616,  0.15413276,  1.21112707],\n",
       "        [ 2.35744011,  2.44667487,  1.85258269,  2.3352364 ,  2.40801151,\n",
       "          0.        ,  2.33965363,  2.45374579,  3.43986289],\n",
       "        [ 0.12511005,  0.16819063,  1.69572906,  0.09929529,  0.13372616,\n",
       "          2.33965363,  0.        ,  0.16545296,  1.16779455],\n",
       "        [ 0.18928584,  0.16780433,  1.81208862,  0.17361559,  0.15413276,\n",
       "          2.45374579,  0.16545296,  0.        ,  1.25200744],\n",
       "        [ 1.243828  ,  1.25207462,  2.79662694,  1.20855735,  1.21112707,\n",
       "          3.43986289,  1.16779455,  1.25200744,  0.        ]]),\n",
       " 'manhattan_distance': array([[ 0.        ,  0.70143691,  2.57887866,  0.71371292,  0.76266971,\n",
       "          2.21805604,  1.28795663,  0.80851937,  2.8401914 ],\n",
       "        [ 0.70143691,  0.        ,  3.27525046,  1.24669069,  1.15013752,\n",
       "          2.9014812 ,  1.88317952,  0.90162289,  3.54162331],\n",
       "        [ 2.57887866,  3.27525046,  0.        ,  2.2435543 ,  2.37809049,\n",
       "          0.75545609,  1.60120584,  2.68895139,  0.4381868 ],\n",
       "        [ 0.71371292,  1.24669069,  2.2435543 ,  0.        ,  0.1363811 ,\n",
       "          1.97278256,  0.88232689,  0.60942044,  2.45983416],\n",
       "        [ 0.76266971,  1.15013752,  2.37809049,  0.1363811 ,  0.        ,\n",
       "          2.1011579 ,  1.00381529,  0.56044782,  2.59621466],\n",
       "        [ 2.21805604,  2.9014812 ,  0.75545609,  1.97278256,  2.1011579 ,\n",
       "          0.        ,  1.53719211,  2.44169554,  0.91600122],\n",
       "        [ 1.28795663,  1.88317952,  1.60120584,  0.88232689,  1.00381529,\n",
       "          1.53719211,  0.        ,  1.23692154,  1.67320237],\n",
       "        [ 0.80851937,  0.90162289,  2.68895139,  0.60942044,  0.56044782,\n",
       "          2.44169554,  1.23692154,  0.        ,  2.90994433],\n",
       "        [ 2.8401914 ,  3.54162331,  0.4381868 ,  2.45983416,  2.59621466,\n",
       "          0.91600122,  1.67320237,  2.90994433,  0.        ]]),\n",
       " 'reversed_gradient_similarity': array([[ 0.2311555 ,  0.23848662,  1.5675068 ,  0.19959264,  0.20186108,\n",
       "          2.14289426,  0.16274176,  0.23842653,  1.1125119 ],\n",
       "        [ 0.23848662,  0.24581773,  1.60976588,  0.20692376,  0.2091922 ,\n",
       "          2.18211874,  0.17017804,  0.24575764,  1.11991813],\n",
       "        [ 1.5675068 ,  1.60976588,  3.01044472,  1.54908888,  1.57866873,\n",
       "          3.33870747,  1.51572328,  1.61418258,  2.50193868],\n",
       "        [ 0.19959264,  0.20692376,  1.54908888,  0.16802978,  0.17029822,\n",
       "          2.11041501,  0.13152443,  0.20686367,  1.08097908],\n",
       "        [ 0.20186108,  0.2091922 ,  1.57866873,  0.17029822,  0.17256666,\n",
       "          2.14594388,  0.13380789,  0.20913211,  1.08327757],\n",
       "        [ 2.14289426,  2.18211874,  3.33870747,  2.11041501,  2.14594388,\n",
       "          4.16470492,  2.09205718,  2.19093711,  3.07743129],\n",
       "        [ 0.16274176,  0.17017804,  1.51572328,  0.13152443,  0.13380789,\n",
       "          2.09205718,  0.09504912,  0.17031325,  1.04453382],\n",
       "        [ 0.23842653,  0.24575764,  1.61418258,  0.20686367,  0.20913211,\n",
       "          2.19093711,  0.17031325,  0.24569755,  1.11985804],\n",
       "        [ 1.1125119 ,  1.11991813,  2.50193868,  1.08097908,  1.08327757,\n",
       "          3.07743129,  1.04453382,  1.11985804,  1.9940035 ]])}"
      ]
     },
     "execution_count": 7,
     "metadata": {},
     "output_type": "execute_result"
    }
   ],
   "source": [
    "similarity_model"
   ]
  },
  {
   "cell_type": "markdown",
   "metadata": {
    "collapsed": true
   },
   "source": [
    "---\n",
    "### Similarity Model  \n",
    "\n",
    "* **similarity_model**의 구성\n",
    "    * file_list\n",
    "    * cosine_similarity\n",
    "    * euclidean_distance\n",
    "    * manhatton_distance\n",
    "    * gradient_similarity\n",
    "    * reversed_gradient_similarity"
   ]
  },
  {
   "cell_type": "markdown",
   "metadata": {},
   "source": [
    "---\n",
    "* **file_list**\n",
    "    * preprocessed_repository 아래에 있는 data file의 abs_path를 list로 관리하는 항목임임\n",
    "        * 각 file의 list_idx는 차후 similarity_matrix에서 row와 column의 idx와 일치하게 됨"
   ]
  },
  {
   "cell_type": "code",
   "execution_count": 8,
   "metadata": {
    "collapsed": false
   },
   "outputs": [
    {
     "data": {
      "text/plain": [
       "array([ '/Users/JH/Documents/GitHub/EnergyData_jhyun/repository/60/refined_data_fully_refined/VTT_GW1_HA10_VM_EP_KV_K.bin',\n",
       "       '/Users/JH/Documents/GitHub/EnergyData_jhyun/repository/60/refined_data_fully_refined/VTT_GW1_HA10_VM_KV_K.bin',\n",
       "       '/Users/JH/Documents/GitHub/EnergyData_jhyun/repository/60/refined_data_fully_refined/VTT_GW1_HA10_VM_KV_KAM.bin',\n",
       "       '/Users/JH/Documents/GitHub/EnergyData_jhyun/repository/60/refined_data_fully_refined/VTT_GW1_HA11_VM_EP_KV_K.bin',\n",
       "       '/Users/JH/Documents/GitHub/EnergyData_jhyun/repository/60/refined_data_fully_refined/VTT_GW1_HA11_VM_KV_K.bin',\n",
       "       '/Users/JH/Documents/GitHub/EnergyData_jhyun/repository/60/refined_data_fully_refined/VTT_GW1_HA11_VM_KV_KAM.bin',\n",
       "       '/Users/JH/Documents/GitHub/EnergyData_jhyun/repository/60/refined_data_fully_refined/VTT_GW2_HA4_VM_EP_KV_K.bin',\n",
       "       '/Users/JH/Documents/GitHub/EnergyData_jhyun/repository/60/refined_data_fully_refined/VTT_GW2_HA4_VM_KV_K.bin',\n",
       "       '/Users/JH/Documents/GitHub/EnergyData_jhyun/repository/60/refined_data_fully_refined/VTT_GW2_HA4_VM_KV_KAM.bin'], \n",
       "      dtype='|S112')"
      ]
     },
     "execution_count": 8,
     "metadata": {},
     "output_type": "execute_result"
    }
   ],
   "source": [
    "similarity_model['file_list']"
   ]
  },
  {
   "cell_type": "markdown",
   "metadata": {},
   "source": [
    "---\n",
    "* **covariance**\n",
    "    * 각 data 사이 **covariance**를 계산하여 해당 유사도(similarity)를 **symmetric matrix**로 구성"
   ]
  },
  {
   "cell_type": "code",
   "execution_count": 9,
   "metadata": {
    "collapsed": false
   },
   "outputs": [
    {
     "data": {
      "text/plain": [
       "array([[ 0.10783927,  1.83853107,  3.1777161 ,  1.81450021,  1.83338054,\n",
       "         3.20926082,  2.04357923,  1.866151  ,  3.31663134],\n",
       "       [ 1.83853107,  0.14463336,  3.20216202,  1.85875227,  1.84971161,\n",
       "         3.28666996,  2.03977447,  1.852211  ,  3.31834099],\n",
       "       [ 3.1777161 ,  3.20216202,  0.31389509,  3.18443644,  3.1900068 ,\n",
       "         2.14644844,  3.20690894,  3.21880246,  3.31081514],\n",
       "       [ 1.81450021,  1.85875227,  3.18443644,  0.        ,  1.66117722,\n",
       "         3.1484395 ,  1.81826003,  1.74386952,  3.3159623 ],\n",
       "       [ 1.83338054,  1.84971161,  3.1900068 ,  1.66117722,  0.00332314,\n",
       "         3.16136215,  1.81229214,  1.74488395,  3.31629988],\n",
       "       [ 3.20926082,  3.28666996,  2.14644844,  3.1484395 ,  3.16136215,\n",
       "         0.28064634,  3.14032727,  3.22022906,  3.31184543],\n",
       "       [ 2.04357923,  2.03977447,  3.20690894,  1.81826003,  1.81229214,\n",
       "         3.14032727,  0.06157058,  1.85255153,  3.31403654],\n",
       "       [ 1.866151  ,  1.852211  ,  3.21880246,  1.74386952,  1.74488395,\n",
       "         3.22022906,  1.85255153,  0.03081447,  3.31692145],\n",
       "       [ 3.31663134,  3.31834099,  3.31081514,  3.3159623 ,  3.31629988,\n",
       "         3.31184543,  3.31403654,  3.31692145,  1.41877697]])"
      ]
     },
     "execution_count": 9,
     "metadata": {},
     "output_type": "execute_result"
    }
   ],
   "source": [
    "similarity_model['covariance']"
   ]
  },
  {
   "cell_type": "markdown",
   "metadata": {},
   "source": [
    "---\n",
    "* **cosine_similarity**\n",
    "    * 각 data 사이 **cosine simialrity**를 계산하여 해당 유사도(similarity)를 **symmetric matrix**로 구성"
   ]
  },
  {
   "cell_type": "code",
   "execution_count": 10,
   "metadata": {
    "collapsed": false
   },
   "outputs": [
    {
     "data": {
      "text/plain": [
       "array([[ 0.        ,  0.04395962,  1.91224366,  0.07570824,  0.08059264,\n",
       "         1.57521987,  0.31992838,  0.08303485,  2.44220136],\n",
       "       [ 0.04395962,  0.        ,  1.91957027,  0.11966787,  0.09768805,\n",
       "         1.58987308,  0.3590036 ,  0.06838164,  2.44220136],\n",
       "       [ 1.91224366,  1.91957027,  0.        ,  1.93910788,  1.93910788,\n",
       "         0.363888  ,  2.00748951,  1.95620329,  2.44220136],\n",
       "       [ 0.07570824,  0.11966787,  1.93910788,  0.        ,  0.0048844 ,\n",
       "         1.56300887,  0.14897428,  0.05617063,  2.44220136],\n",
       "       [ 0.08059264,  0.09768805,  1.93910788,  0.0048844 ,  0.        ,\n",
       "         1.56300887,  0.15385869,  0.04884403,  2.44220136],\n",
       "       [ 1.57521987,  1.58987308,  0.363888  ,  1.56300887,  1.56300887,\n",
       "         0.        ,  1.65337032,  1.58743088,  2.44220136],\n",
       "       [ 0.31992838,  0.3590036 ,  2.00748951,  0.14897428,  0.15385869,\n",
       "         1.65337032,  0.        ,  0.20026051,  2.44220136],\n",
       "       [ 0.08303485,  0.06838164,  1.95620329,  0.05617063,  0.04884403,\n",
       "         1.58743088,  0.20026051,  0.        ,  2.44220136],\n",
       "       [ 2.44220136,  2.44220136,  2.44220136,  2.44220136,  2.44220136,\n",
       "         2.44220136,  2.44220136,  2.44220136,  0.        ]])"
      ]
     },
     "execution_count": 10,
     "metadata": {},
     "output_type": "execute_result"
    }
   ],
   "source": [
    "similarity_model['cosine_similarity']"
   ]
  },
  {
   "cell_type": "markdown",
   "metadata": {},
   "source": [
    "---\n",
    "* **euclidean_distance**\n",
    "    * 각 data 사이 **euclidean distance**를 계산하여 해당 유사도(similarity)를 **symmetric matrix**로 구성"
   ]
  },
  {
   "cell_type": "code",
   "execution_count": 11,
   "metadata": {
    "collapsed": false
   },
   "outputs": [
    {
     "data": {
      "text/plain": [
       "array([[ 0.        ,  0.65945954,  2.67370812,  0.64226099,  0.65135315,\n",
       "         2.49971629,  1.29192096,  0.67627539,  2.636145  ],\n",
       "       [ 0.65945954,  0.        ,  3.02290948,  1.00924077,  0.91827283,\n",
       "         2.84002265,  1.63830422,  0.74482606,  3.02786146],\n",
       "       [ 2.67370812,  3.02290948,  0.        ,  2.54651073,  2.60538939,\n",
       "         0.85975368,  2.26964071,  2.75267302,  1.61926172],\n",
       "       [ 0.64226099,  1.00924077,  2.54651073,  0.        ,  0.15557558,\n",
       "         2.35659603,  0.86055388,  0.5823154 ,  2.46934339],\n",
       "       [ 0.65135315,  0.91827283,  2.60538939,  0.15557558,  0.        ,\n",
       "         2.41120695,  0.91380793,  0.53279562,  2.53829996],\n",
       "       [ 2.49971629,  2.84002265,  0.85975368,  2.35659603,  2.41120695,\n",
       "         0.        ,  2.12262381,  2.55862974,  1.73234539],\n",
       "       [ 1.29192096,  1.63830422,  2.26964071,  0.86055388,  0.91380793,\n",
       "         2.12262381,  0.        ,  1.12502657,  2.08494472],\n",
       "       [ 0.67627539,  0.74482606,  2.75267302,  0.5823154 ,  0.53279562,\n",
       "         2.55862974,  1.12502657,  0.        ,  2.69760982],\n",
       "       [ 2.636145  ,  3.02786146,  1.61926172,  2.46934339,  2.53829996,\n",
       "         1.73234539,  2.08494472,  2.69760982,  0.        ]])"
      ]
     },
     "execution_count": 11,
     "metadata": {},
     "output_type": "execute_result"
    }
   ],
   "source": [
    "similarity_model['euclidean_distance']"
   ]
  },
  {
   "cell_type": "markdown",
   "metadata": {},
   "source": [
    "---\n",
    "* **manhatton_distance**\n",
    "    * 각 data 사이 **manhatton distance**를 계산하여 해당 유사도(similarity)를 **symmetric matrix**로 구성"
   ]
  },
  {
   "cell_type": "code",
   "execution_count": 12,
   "metadata": {
    "collapsed": false
   },
   "outputs": [
    {
     "data": {
      "text/plain": [
       "array([[ 0.        ,  0.70143691,  2.57887866,  0.71371292,  0.76266971,\n",
       "         2.21805604,  1.28795663,  0.80851937,  2.8401914 ],\n",
       "       [ 0.70143691,  0.        ,  3.27525046,  1.24669069,  1.15013752,\n",
       "         2.9014812 ,  1.88317952,  0.90162289,  3.54162331],\n",
       "       [ 2.57887866,  3.27525046,  0.        ,  2.2435543 ,  2.37809049,\n",
       "         0.75545609,  1.60120584,  2.68895139,  0.4381868 ],\n",
       "       [ 0.71371292,  1.24669069,  2.2435543 ,  0.        ,  0.1363811 ,\n",
       "         1.97278256,  0.88232689,  0.60942044,  2.45983416],\n",
       "       [ 0.76266971,  1.15013752,  2.37809049,  0.1363811 ,  0.        ,\n",
       "         2.1011579 ,  1.00381529,  0.56044782,  2.59621466],\n",
       "       [ 2.21805604,  2.9014812 ,  0.75545609,  1.97278256,  2.1011579 ,\n",
       "         0.        ,  1.53719211,  2.44169554,  0.91600122],\n",
       "       [ 1.28795663,  1.88317952,  1.60120584,  0.88232689,  1.00381529,\n",
       "         1.53719211,  0.        ,  1.23692154,  1.67320237],\n",
       "       [ 0.80851937,  0.90162289,  2.68895139,  0.60942044,  0.56044782,\n",
       "         2.44169554,  1.23692154,  0.        ,  2.90994433],\n",
       "       [ 2.8401914 ,  3.54162331,  0.4381868 ,  2.45983416,  2.59621466,\n",
       "         0.91600122,  1.67320237,  2.90994433,  0.        ]])"
      ]
     },
     "execution_count": 12,
     "metadata": {},
     "output_type": "execute_result"
    }
   ],
   "source": [
    "similarity_model['manhattan_distance']"
   ]
  },
  {
   "cell_type": "markdown",
   "metadata": {},
   "source": [
    "---\n",
    "* **gradient_similarity**\n",
    "    * 각 data 사이 **gradient simialrity**를 계산하여 해당 유사도(similarity)를 **symmetric matrix**로 구성"
   ]
  },
  {
   "cell_type": "code",
   "execution_count": 13,
   "metadata": {
    "collapsed": false
   },
   "outputs": [
    {
     "data": {
      "text/plain": [
       "array([[ 0.        ,  0.15347773,  1.69460376,  0.10623185,  0.16536898,\n",
       "         2.35744011,  0.12511005,  0.18928584,  1.243828  ],\n",
       "       [ 0.15347773,  0.        ,  1.80352289,  0.17097869,  0.14459289,\n",
       "         2.44667487,  0.16819063,  0.16780433,  1.25207462],\n",
       "       [ 1.69460376,  1.80352289,  0.        ,  1.72747265,  1.77260229,\n",
       "         1.85258269,  1.69572906,  1.81208862,  2.79662694],\n",
       "       [ 0.10623185,  0.17097869,  1.72747265,  0.        ,  0.1128493 ,\n",
       "         2.3352364 ,  0.09929529,  0.17361559,  1.20855735],\n",
       "       [ 0.16536898,  0.14459289,  1.77260229,  0.1128493 ,  0.        ,\n",
       "         2.40801151,  0.13372616,  0.15413276,  1.21112707],\n",
       "       [ 2.35744011,  2.44667487,  1.85258269,  2.3352364 ,  2.40801151,\n",
       "         0.        ,  2.33965363,  2.45374579,  3.43986289],\n",
       "       [ 0.12511005,  0.16819063,  1.69572906,  0.09929529,  0.13372616,\n",
       "         2.33965363,  0.        ,  0.16545296,  1.16779455],\n",
       "       [ 0.18928584,  0.16780433,  1.81208862,  0.17361559,  0.15413276,\n",
       "         2.45374579,  0.16545296,  0.        ,  1.25200744],\n",
       "       [ 1.243828  ,  1.25207462,  2.79662694,  1.20855735,  1.21112707,\n",
       "         3.43986289,  1.16779455,  1.25200744,  0.        ]])"
      ]
     },
     "execution_count": 13,
     "metadata": {},
     "output_type": "execute_result"
    }
   ],
   "source": [
    "similarity_model['gradient_similarity']"
   ]
  },
  {
   "cell_type": "markdown",
   "metadata": {},
   "source": [
    "---\n",
    "* **reversed_gradient_similarity**\n",
    "    * 각 data 사이 **reversed gradient simialrity**를 계산하여 해당 유사도(similarity)를 **symmetric matrix**로 구성"
   ]
  },
  {
   "cell_type": "code",
   "execution_count": 14,
   "metadata": {
    "collapsed": false,
    "scrolled": true
   },
   "outputs": [
    {
     "data": {
      "text/plain": [
       "array([[ 0.2311555 ,  0.23848662,  1.5675068 ,  0.19959264,  0.20186108,\n",
       "         2.14289426,  0.16274176,  0.23842653,  1.1125119 ],\n",
       "       [ 0.23848662,  0.24581773,  1.60976588,  0.20692376,  0.2091922 ,\n",
       "         2.18211874,  0.17017804,  0.24575764,  1.11991813],\n",
       "       [ 1.5675068 ,  1.60976588,  3.01044472,  1.54908888,  1.57866873,\n",
       "         3.33870747,  1.51572328,  1.61418258,  2.50193868],\n",
       "       [ 0.19959264,  0.20692376,  1.54908888,  0.16802978,  0.17029822,\n",
       "         2.11041501,  0.13152443,  0.20686367,  1.08097908],\n",
       "       [ 0.20186108,  0.2091922 ,  1.57866873,  0.17029822,  0.17256666,\n",
       "         2.14594388,  0.13380789,  0.20913211,  1.08327757],\n",
       "       [ 2.14289426,  2.18211874,  3.33870747,  2.11041501,  2.14594388,\n",
       "         4.16470492,  2.09205718,  2.19093711,  3.07743129],\n",
       "       [ 0.16274176,  0.17017804,  1.51572328,  0.13152443,  0.13380789,\n",
       "         2.09205718,  0.09504912,  0.17031325,  1.04453382],\n",
       "       [ 0.23842653,  0.24575764,  1.61418258,  0.20686367,  0.20913211,\n",
       "         2.19093711,  0.17031325,  0.24569755,  1.11985804],\n",
       "       [ 1.1125119 ,  1.11991813,  2.50193868,  1.08097908,  1.08327757,\n",
       "         3.07743129,  1.04453382,  1.11985804,  1.9940035 ]])"
      ]
     },
     "execution_count": 14,
     "metadata": {},
     "output_type": "execute_result"
    }
   ],
   "source": [
    "similarity_model['reversed_gradient_similarity']"
   ]
  },
  {
   "cell_type": "code",
   "execution_count": 15,
   "metadata": {
    "collapsed": false
   },
   "outputs": [
    {
     "name": "stdout",
     "output_type": "stream",
     "text": [
      "calculating covariance\n",
      "\trun_time: 3.01052808762 sec\n",
      "calculating cosine_similarity\n",
      "\trun_time: 3.64429688454 sec\n",
      "calculating euclidean_distance\n",
      "\trun_time: 3.26734900475 sec\n",
      "calculating manhattan_distance\n",
      "\trun_time: 3.04596590996 sec\n",
      "calculating gradient_similarity\n",
      "\trun_time: 3.40316390991 sec\n",
      "calculating reversed_gradient_similarity\n",
      "\trun_time: 3.44988083839 sec\n"
     ]
    }
   ],
   "source": [
    "_, _ = Similarity.Build.similarity_model(GlobalParameter.Time_Interval,GlobalParameter.Semi_Preprocessed_Path)"
   ]
  },
  {
   "cell_type": "code",
   "execution_count": 16,
   "metadata": {
    "collapsed": false
   },
   "outputs": [
    {
     "name": "stdout",
     "output_type": "stream",
     "text": [
      "calculating covariance\n",
      "\trun_time: 6.15459012985 sec\n",
      "calculating cosine_similarity\n",
      "\trun_time: 7.06285715103 sec\n",
      "calculating euclidean_distance\n",
      "\trun_time: 6.92847514153 sec\n",
      "calculating manhattan_distance\n",
      "\trun_time: 6.41056799889 sec\n",
      "calculating gradient_similarity\n",
      "\trun_time: 6.98600482941 sec\n",
      "calculating reversed_gradient_similarity\n",
      "\trun_time: 6.91096282005 sec\n",
      "\n",
      "calculating covariance\n",
      "\trun_time: 6.09513902664 sec\n",
      "calculating cosine_similarity\n",
      "\trun_time: 7.48777580261 sec\n",
      "calculating euclidean_distance\n",
      "\trun_time: 6.83860993385 sec\n",
      "calculating manhattan_distance\n",
      "\trun_time: 6.41062617302 sec\n",
      "calculating gradient_similarity\n",
      "\trun_time: 6.46687412262 sec\n",
      "calculating reversed_gradient_similarity\n",
      "\trun_time: 7.78916811943 sec\n"
     ]
    }
   ],
   "source": [
    "_, _ = Similarity.Build.similarity_model(30,GlobalParameter.Fully_Preprocessed_Path)\n",
    "print \n",
    "_, _ = Similarity.Build.similarity_model(30,GlobalParameter.Semi_Preprocessed_Path)"
   ]
  },
  {
   "cell_type": "code",
   "execution_count": 17,
   "metadata": {
    "collapsed": false
   },
   "outputs": [
    {
     "name": "stdout",
     "output_type": "stream",
     "text": [
      "calculating covariance\n",
      "\trun_time: 12.6768641472 sec\n",
      "calculating cosine_similarity\n",
      "\trun_time: 17.85947299 sec\n",
      "calculating euclidean_distance\n",
      "\trun_time: 16.0510501862 sec\n",
      "calculating manhattan_distance\n",
      "\trun_time: 14.9975569248 sec\n",
      "calculating gradient_similarity\n",
      "\trun_time: 14.0315999985 sec\n",
      "calculating reversed_gradient_similarity\n",
      "\trun_time: 14.111702919 sec\n",
      "\n",
      "calculating covariance\n",
      "\trun_time: 12.0890350342 sec\n",
      "calculating cosine_similarity\n",
      "\trun_time: 14.7661991119 sec\n",
      "calculating euclidean_distance\n",
      "\trun_time: 15.1407120228 sec\n",
      "calculating manhattan_distance\n",
      "\trun_time: 13.8755540848 sec\n",
      "calculating gradient_similarity\n",
      "\trun_time: 14.4772369862 sec\n",
      "calculating reversed_gradient_similarity\n",
      "\trun_time: 13.9717969894 sec\n"
     ]
    }
   ],
   "source": [
    "_, _ = Similarity.Build.similarity_model(15,GlobalParameter.Fully_Preprocessed_Path)\n",
    "print \n",
    "_, _ = Similarity.Build.similarity_model(15,GlobalParameter.Semi_Preprocessed_Path)"
   ]
  },
  {
   "cell_type": "code",
   "execution_count": null,
   "metadata": {
    "collapsed": true
   },
   "outputs": [],
   "source": []
  }
 ],
 "metadata": {
  "kernelspec": {
   "display_name": "Python 2",
   "language": "python",
   "name": "python2"
  },
  "language_info": {
   "codemirror_mode": {
    "name": "ipython",
    "version": 2
   },
   "file_extension": ".py",
   "mimetype": "text/x-python",
   "name": "python",
   "nbconvert_exporter": "python",
   "pygments_lexer": "ipython2",
   "version": "2.7.11"
  }
 },
 "nbformat": 4,
 "nbformat_minor": 0
}
