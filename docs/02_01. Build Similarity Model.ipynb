{
 "cells": [
  {
   "cell_type": "markdown",
   "metadata": {},
   "source": [
    "# Build & Save Similarity Model\n",
    "---"
   ]
  },
  {
   "cell_type": "markdown",
   "metadata": {},
   "source": [
    "### 개요\n",
    "* **Preprocessed_repository**로 부터 **preprocessing** 된 data를 불러와 각 data 사이 **유사도(similarity)**를 계산하여 하나의 **유사도 모델(similarity_model)**을 구성하여 반환/저장함\n",
    "\n",
    "---\n",
    "* 아래는 저장되어있는 preprocessed_data 사이 similarity를 계산하여 similarity_model을 구성/저장하는 과정임  \n",
    "\n",
    "<img src=\"https://raw.githubusercontent.com/jhyun0919/EnergyData_jhyun/master/docs/images/%EC%8A%A4%ED%81%AC%EB%A6%B0%EC%83%B7%202016-05-18%20%EC%98%A4%EC%A0%84%2010.26.43.jpg\" alt=\"Drawing\" style=\"width: 700px;\"/>"
   ]
  },
  {
   "cell_type": "markdown",
   "metadata": {},
   "source": [
    "---\n",
    "* similarity 계산과 save 과정에 필요한 module들을 import 하자"
   ]
  },
  {
   "cell_type": "code",
   "execution_count": 1,
   "metadata": {
    "collapsed": false
   },
   "outputs": [
    {
     "name": "stderr",
     "output_type": "stream",
     "text": [
      "/Users/JH/Documents/GitHub/EnergyData_jhyun/energy_data_venv/lib/python2.7/site-packages/matplotlib/font_manager.py:273: UserWarning: Matplotlib is building the font cache using fc-list. This may take a moment.\n",
      "  warnings.warn('Matplotlib is building the font cache using fc-list. This may take a moment.')\n"
     ]
    }
   ],
   "source": [
    "from utils import GlobalParameter\n",
    "from utils import FileIO\n",
    "from utils import Similarity\n",
    "import os"
   ]
  },
  {
   "cell_type": "markdown",
   "metadata": {},
   "source": [
    "---\n",
    "* 다음 과정은 repository의 경로를 지정하고 확인하는 과정이다"
   ]
  },
  {
   "cell_type": "code",
   "execution_count": 2,
   "metadata": {
    "collapsed": false
   },
   "outputs": [
    {
     "data": {
      "text/plain": [
       "'/Users/JH/Documents/GitHub/EnergyData_jhyun/repository/preprocessed_data'"
      ]
     },
     "execution_count": 2,
     "metadata": {},
     "output_type": "execute_result"
    }
   ],
   "source": [
    "repository4prepodessed_path = os.path.join(GlobalParameter.Repository_Path, GlobalParameter.Preprocessed_Path)\n",
    "repository4prepodessed_path"
   ]
  },
  {
   "cell_type": "markdown",
   "metadata": {},
   "source": [
    "---\n",
    "* 지정된 경로 아래에 있는 preprocessed_data file들의 abs_path를 list로 만들어 반환하자"
   ]
  },
  {
   "cell_type": "code",
   "execution_count": 3,
   "metadata": {
    "collapsed": false
   },
   "outputs": [
    {
     "data": {
      "text/plain": [
       "['/Users/JH/Documents/GitHub/EnergyData_jhyun/repository/preprocessed_data/PP_VTT_GW1_HA10_VM_EP_KV_K.bin',\n",
       " '/Users/JH/Documents/GitHub/EnergyData_jhyun/repository/preprocessed_data/PP_VTT_GW1_HA10_VM_KV_K.bin',\n",
       " '/Users/JH/Documents/GitHub/EnergyData_jhyun/repository/preprocessed_data/PP_VTT_GW1_HA10_VM_KV_KAM.bin',\n",
       " '/Users/JH/Documents/GitHub/EnergyData_jhyun/repository/preprocessed_data/PP_VTT_GW1_HA11_VM_EP_KV_K.bin',\n",
       " '/Users/JH/Documents/GitHub/EnergyData_jhyun/repository/preprocessed_data/PP_VTT_GW1_HA11_VM_KV_K.bin',\n",
       " '/Users/JH/Documents/GitHub/EnergyData_jhyun/repository/preprocessed_data/PP_VTT_GW1_HA11_VM_KV_KAM.bin',\n",
       " '/Users/JH/Documents/GitHub/EnergyData_jhyun/repository/preprocessed_data/PP_VTT_GW2_HA4_VM_EP_KV_K.bin',\n",
       " '/Users/JH/Documents/GitHub/EnergyData_jhyun/repository/preprocessed_data/PP_VTT_GW2_HA4_VM_KV_K.bin',\n",
       " '/Users/JH/Documents/GitHub/EnergyData_jhyun/repository/preprocessed_data/PP_VTT_GW2_HA4_VM_KV_KAM.bin']"
      ]
     },
     "execution_count": 3,
     "metadata": {},
     "output_type": "execute_result"
    }
   ],
   "source": [
    "file_list = FileIO.Load.load_filelist(repository4prepodessed_path)\n",
    "file_list"
   ]
  },
  {
   "cell_type": "markdown",
   "metadata": {},
   "source": [
    "---\n",
    "* file_list를 인자값으로 전달하여 **similarity_model**을 구성하고, \n",
    "    * 해당 모델(similarity_model)과 \n",
    "    * 저장된 경로(model_save_path)를 반환 받자"
   ]
  },
  {
   "cell_type": "code",
   "execution_count": 4,
   "metadata": {
    "collapsed": false
   },
   "outputs": [],
   "source": [
    "similarity_model, model_save_path = Similarity.Model.build_model(file_list)"
   ]
  },
  {
   "cell_type": "markdown",
   "metadata": {},
   "source": [
    "---\n",
    "* 반환 받은 model_save_path를 확인해보자"
   ]
  },
  {
   "cell_type": "code",
   "execution_count": 5,
   "metadata": {
    "collapsed": false
   },
   "outputs": [
    {
     "data": {
      "text/plain": [
       "'/Users/JH/Documents/GitHub/EnergyData_jhyun/repository/model/model.bin'"
      ]
     },
     "execution_count": 5,
     "metadata": {},
     "output_type": "execute_result"
    }
   ],
   "source": [
    "model_save_path"
   ]
  },
  {
   "cell_type": "markdown",
   "metadata": {},
   "source": [
    "---\n",
    "* 반환 받은 similarity_model을 확인해보자"
   ]
  },
  {
   "cell_type": "code",
   "execution_count": 6,
   "metadata": {
    "collapsed": false
   },
   "outputs": [
    {
     "data": {
      "text/plain": [
       "{'cosine_similarity': array([[ 0.   ,  0.018,  0.784,  0.031,  0.033,  0.647,  0.131,  0.034,  1.   ],\n",
       "        [ 0.018,  0.   ,  0.788,  0.049,  0.043,  0.654,  0.147,  0.028,  1.   ],\n",
       "        [ 0.784,  0.788,  0.   ,  0.795,  0.795,  0.148,  0.823,  0.803,  1.   ],\n",
       "        [ 0.031,  0.049,  0.795,  0.   ,  0.002,  0.642,  0.061,  0.023,  1.   ],\n",
       "        [ 0.033,  0.043,  0.795,  0.002,  0.   ,  0.641,  0.063,  0.023,  1.   ],\n",
       "        [ 0.647,  0.654,  0.148,  0.642,  0.641,  0.   ,  0.678,  0.653,  1.   ],\n",
       "        [ 0.131,  0.147,  0.823,  0.061,  0.063,  0.678,  0.   ,  0.082,  1.   ],\n",
       "        [ 0.034,  0.028,  0.803,  0.023,  0.023,  0.653,  0.082,  0.   ,  1.   ],\n",
       "        [ 1.   ,  1.   ,  1.   ,  1.   ,  1.   ,  1.   ,  1.   ,  1.   ,  0.   ]]),\n",
       " 'covariance': array([[  6.36089729e+02,   5.33009878e+02,   8.57556961e+00,\n",
       "           7.26216445e+02,   6.97625219e+02,   7.15140857e+00,\n",
       "           6.61663182e+02,   6.23831746e+02,  -2.18822623e-03],\n",
       "        [  5.33009878e+02,   4.84569097e+02,   6.73427740e+00,\n",
       "           6.20936756e+02,   6.15941674e+02,   3.49532666e+00,\n",
       "           5.84748335e+02,   5.49810742e+02,  -2.20098979e-03],\n",
       "        [  8.57556961e+00,   6.73427740e+00,   1.31534289e+01,\n",
       "           9.59640031e+00,   9.76126154e+00,   1.25425492e+01,\n",
       "           8.46741371e+00,   6.65993695e+00,  -4.03273336e-05],\n",
       "        [  7.26216445e+02,   6.20936756e+02,   9.59640031e+00,\n",
       "           9.49352590e+02,   9.20153290e+02,   1.35201371e+01,\n",
       "           9.20638373e+02,   7.99284040e+02,  -2.32934952e-03],\n",
       "        [  6.97625219e+02,   6.15941674e+02,   9.76126154e+00,\n",
       "           9.20153290e+02,   9.07136992e+02,   1.45045611e+01,\n",
       "           8.99293702e+02,   7.70782801e+02,  -2.14319908e-03],\n",
       "        [  7.15140857e+00,   3.49532666e+00,   1.25425492e+01,\n",
       "           1.35201371e+01,   1.45045611e+01,   1.62439129e+01,\n",
       "           1.52672929e+01,   8.15893241e+00,  -9.30334584e-05],\n",
       "        [  6.61663182e+02,   5.84748335e+02,   8.46741371e+00,\n",
       "           9.20638373e+02,   8.99293702e+02,   1.52672929e+01,\n",
       "           1.05815179e+03,   8.00300950e+02,  -1.71615431e-03],\n",
       "        [  6.23831746e+02,   5.49810742e+02,   6.65993695e+00,\n",
       "           7.99284040e+02,   7.70782801e+02,   8.15893241e+00,\n",
       "           8.00300950e+02,   7.19464711e+02,  -2.19714405e-03],\n",
       "        [ -2.18822623e-03,  -2.20098979e-03,  -4.03273336e-05,\n",
       "          -2.32934952e-03,  -2.14319908e-03,  -9.30334584e-05,\n",
       "          -1.71615431e-03,  -2.19714405e-03,   2.48762083e-04]]),\n",
       " 'euclidean_distance': array([[     0.   ,   2642.098,  13504.789,   3861.998,   3958.654,\n",
       "          13265.964,   6993.981,   3842.326,  13721.771],\n",
       "        [  2642.098,      0.   ,  13802.378,   4675.627,   4403.274,\n",
       "          13568.805,   7479.117,   3514.483,  14015.209],\n",
       "        [ 13504.789,  13802.378,      0.   ,  14911.893,  14940.325,\n",
       "            785.959,  13385.896,  14622.85 ,   1270.772],\n",
       "        [  3861.998,   4675.627,  14911.893,      0.   ,    863.385,\n",
       "          14649.591,   5239.52 ,   3195.704,  15120.411],\n",
       "        [  3958.654,   4403.274,  14940.325,    863.385,      0.   ,\n",
       "          14677.27 ,   5313.004,   3212.968,  15148.529],\n",
       "        [ 13265.964,  13568.805,    785.959,  14649.591,  14677.27 ,\n",
       "              0.   ,  13145.714,  14368.155,   1501.651],\n",
       "        [  6993.981,   7479.117,  13385.896,   5239.52 ,   5313.004,\n",
       "          13145.714,      0.   ,   5875.922,  13551.702],\n",
       "        [  3842.326,   3514.483,  14622.85 ,   3195.704,   3212.968,\n",
       "          14368.155,   5875.922,      0.   ,  14820.05 ],\n",
       "        [ 13721.771,  14015.209,   1270.772,  15120.411,  15148.529,\n",
       "           1501.651,  13551.702,  14820.05 ,      0.   ]]),\n",
       " 'file_list': ['/Users/JH/Documents/GitHub/EnergyData_jhyun/repository/preprocessed_data/PP_VTT_GW1_HA10_VM_EP_KV_K.bin',\n",
       "  '/Users/JH/Documents/GitHub/EnergyData_jhyun/repository/preprocessed_data/PP_VTT_GW1_HA10_VM_KV_K.bin',\n",
       "  '/Users/JH/Documents/GitHub/EnergyData_jhyun/repository/preprocessed_data/PP_VTT_GW1_HA10_VM_KV_KAM.bin',\n",
       "  '/Users/JH/Documents/GitHub/EnergyData_jhyun/repository/preprocessed_data/PP_VTT_GW1_HA11_VM_EP_KV_K.bin',\n",
       "  '/Users/JH/Documents/GitHub/EnergyData_jhyun/repository/preprocessed_data/PP_VTT_GW1_HA11_VM_KV_K.bin',\n",
       "  '/Users/JH/Documents/GitHub/EnergyData_jhyun/repository/preprocessed_data/PP_VTT_GW1_HA11_VM_KV_KAM.bin',\n",
       "  '/Users/JH/Documents/GitHub/EnergyData_jhyun/repository/preprocessed_data/PP_VTT_GW2_HA4_VM_EP_KV_K.bin',\n",
       "  '/Users/JH/Documents/GitHub/EnergyData_jhyun/repository/preprocessed_data/PP_VTT_GW2_HA4_VM_KV_K.bin',\n",
       "  '/Users/JH/Documents/GitHub/EnergyData_jhyun/repository/preprocessed_data/PP_VTT_GW2_HA4_VM_KV_KAM.bin'],\n",
       " 'gradient_similarity': array([[ 0.        ,  0.00207609,  0.00395646,  0.00144547,  0.00244227,\n",
       "          0.00601553,  0.00176359,  0.00271583,  0.0018041 ],\n",
       "        [ 0.00207609,  0.        ,  0.00489012,  0.00234   ,  0.00201816,\n",
       "          0.0066422 ,  0.00232618,  0.00233234,  0.00161326],\n",
       "        [ 0.00395646,  0.00489012,  0.        ,  0.00442052,  0.00479404,\n",
       "          0.00382169,  0.00406317,  0.00523414,  0.0034438 ],\n",
       "        [ 0.00144547,  0.00234   ,  0.00442052,  0.        ,  0.00196436,\n",
       "          0.00570512,  0.00162707,  0.00264815,  0.0015578 ],\n",
       "        [ 0.00244227,  0.00201816,  0.00479404,  0.00196436,  0.        ,\n",
       "          0.00648779,  0.00223118,  0.00240035,  0.00148086],\n",
       "        [ 0.00601553,  0.0066422 ,  0.00382169,  0.00570512,  0.00648779,\n",
       "          0.        ,  0.00578989,  0.00696167,  0.00518702],\n",
       "        [ 0.00176359,  0.00232618,  0.00406317,  0.00162707,  0.00223118,\n",
       "          0.00578989,  0.        ,  0.00258435,  0.000972  ],\n",
       "        [ 0.00271583,  0.00233234,  0.00523414,  0.00264815,  0.00240035,\n",
       "          0.00696167,  0.00258435,  0.        ,  0.00192691],\n",
       "        [ 0.0018041 ,  0.00161326,  0.0034438 ,  0.0015578 ,  0.00148086,\n",
       "          0.00518702,  0.000972  ,  0.00192691,  0.        ]]),\n",
       " 'manhattan_distance': array([[  0.        ,   3.25471372,  31.81870433,   7.82647339,\n",
       "           8.69115082,  30.80160279,  15.24280938,   9.51509212,\n",
       "          32.40001293],\n",
       "        [  3.25471372,   0.        ,  33.81244044,  11.01312243,\n",
       "          10.23811025,  32.84977573,  18.4404397 ,   8.48195366,\n",
       "          34.36353824],\n",
       "        [ 31.81870433,  33.81244044,   0.        ,  32.6116483 ,\n",
       "          31.73311299,   1.39772756,  24.00491751,  33.30164425,\n",
       "           0.73369298],\n",
       "        [  7.82647339,  11.01312243,  32.6116483 ,   0.        ,\n",
       "           0.93195459,  31.61010915,  10.95329826,   7.14077374,\n",
       "          33.13142385],\n",
       "        [  8.69115082,  10.23811025,  31.73311299,   0.93195459,\n",
       "           0.        ,  30.78142965,  11.83220839,   7.29324067,  32.2261594 ],\n",
       "        [ 30.80160279,  32.84977573,   1.39772756,  31.61010915,\n",
       "          30.78142965,   0.        ,  23.60137438,  32.55306785,   1.6956011 ],\n",
       "        [ 15.24280938,  18.4404397 ,  24.00491751,  10.95329826,\n",
       "          11.83220839,  23.60137438,   0.        ,  10.71511785,\n",
       "          24.21107012],\n",
       "        [  9.51509212,   8.48195366,  33.30164425,   7.14077374,\n",
       "           7.29324067,  32.55306785,  10.71511785,   0.        ,\n",
       "          33.80429009],\n",
       "        [ 32.40001293,  34.36353824,   0.73369298,  33.13142385,\n",
       "          32.2261594 ,   1.6956011 ,  24.21107012,  33.80429009,   0.        ]]),\n",
       " 'reversed_gradient_similarity': array([[ 0.00349142,  0.0033884 ,  0.00480964,  0.00324464,  0.00324981,\n",
       "          0.00655412,  0.00265261,  0.00370379,  0.00180496],\n",
       "        [ 0.0033884 ,  0.00311348,  0.00489197,  0.00314162,  0.00298095,\n",
       "          0.00660361,  0.00255304,  0.00342711,  0.00161326],\n",
       "        [ 0.00480964,  0.00489197,  0.00677804,  0.00465954,  0.00475077,\n",
       "          0.00794305,  0.00405068,  0.00519061,  0.00344433],\n",
       "        [ 0.00324464,  0.00314162,  0.00465954,  0.00299787,  0.00300303,\n",
       "          0.0061877 ,  0.00241081,  0.00345702,  0.00155835],\n",
       "        [ 0.00324981,  0.00298095,  0.00475077,  0.00300303,  0.00284884,\n",
       "          0.00644887,  0.0024164 ,  0.00329476,  0.00148092],\n",
       "        [ 0.00655412,  0.00660361,  0.00794305,  0.0061877 ,  0.00644887,\n",
       "          0.01026654,  0.00579803,  0.00692617,  0.00518349],\n",
       "        [ 0.00265261,  0.00255304,  0.00405068,  0.00241081,  0.0024164 ,\n",
       "          0.00579803,  0.00182463,  0.00287024,  0.000972  ],\n",
       "        [ 0.00370379,  0.00342711,  0.00519061,  0.00345702,  0.00329476,\n",
       "          0.00692617,  0.00287024,  0.00374078,  0.00192691],\n",
       "        [ 0.00180496,  0.00161326,  0.00344433,  0.00155835,  0.00148092,\n",
       "          0.00518349,  0.000972  ,  0.00192691,  0.00011305]])}"
      ]
     },
     "execution_count": 6,
     "metadata": {},
     "output_type": "execute_result"
    }
   ],
   "source": [
    "similarity_model"
   ]
  },
  {
   "cell_type": "markdown",
   "metadata": {
    "collapsed": true
   },
   "source": [
    "---\n",
    "### Similarity Model  \n",
    "\n",
    "* **similarity_model**의 구성\n",
    "    * file_list\n",
    "    * cosine_similarity\n",
    "    * euclidean_distance\n",
    "    * manhatton_distance\n",
    "    * gradient_similarity\n",
    "    * reversed_gradient_similarity"
   ]
  },
  {
   "cell_type": "markdown",
   "metadata": {},
   "source": [
    "---\n",
    "* **file_list**\n",
    "    * preprocessed_repository 아래에 있는 data file의 abs_path를 list로 관리하는 항목임임\n",
    "        * 각 file의 list_idx는 차후 similarity_matrix에서 row와 column의 idx와 일치하게 됨"
   ]
  },
  {
   "cell_type": "code",
   "execution_count": 7,
   "metadata": {
    "collapsed": false
   },
   "outputs": [
    {
     "data": {
      "text/plain": [
       "['/Users/JH/Documents/GitHub/EnergyData_jhyun/repository/preprocessed_data/PP_VTT_GW1_HA10_VM_EP_KV_K.bin',\n",
       " '/Users/JH/Documents/GitHub/EnergyData_jhyun/repository/preprocessed_data/PP_VTT_GW1_HA10_VM_KV_K.bin',\n",
       " '/Users/JH/Documents/GitHub/EnergyData_jhyun/repository/preprocessed_data/PP_VTT_GW1_HA10_VM_KV_KAM.bin',\n",
       " '/Users/JH/Documents/GitHub/EnergyData_jhyun/repository/preprocessed_data/PP_VTT_GW1_HA11_VM_EP_KV_K.bin',\n",
       " '/Users/JH/Documents/GitHub/EnergyData_jhyun/repository/preprocessed_data/PP_VTT_GW1_HA11_VM_KV_K.bin',\n",
       " '/Users/JH/Documents/GitHub/EnergyData_jhyun/repository/preprocessed_data/PP_VTT_GW1_HA11_VM_KV_KAM.bin',\n",
       " '/Users/JH/Documents/GitHub/EnergyData_jhyun/repository/preprocessed_data/PP_VTT_GW2_HA4_VM_EP_KV_K.bin',\n",
       " '/Users/JH/Documents/GitHub/EnergyData_jhyun/repository/preprocessed_data/PP_VTT_GW2_HA4_VM_KV_K.bin',\n",
       " '/Users/JH/Documents/GitHub/EnergyData_jhyun/repository/preprocessed_data/PP_VTT_GW2_HA4_VM_KV_KAM.bin']"
      ]
     },
     "execution_count": 7,
     "metadata": {},
     "output_type": "execute_result"
    }
   ],
   "source": [
    "similarity_model['file_list']"
   ]
  },
  {
   "cell_type": "markdown",
   "metadata": {},
   "source": [
    "---\n",
    "* **covariance**\n",
    "    * 각 data 사이 **covariance**를 계산하여 해당 유사도(similarity)를 **symmetric matrix**로 구성"
   ]
  },
  {
   "cell_type": "code",
   "execution_count": 8,
   "metadata": {
    "collapsed": false
   },
   "outputs": [
    {
     "data": {
      "text/plain": [
       "array([[  6.36089729e+02,   5.33009878e+02,   8.57556961e+00,\n",
       "          7.26216445e+02,   6.97625219e+02,   7.15140857e+00,\n",
       "          6.61663182e+02,   6.23831746e+02,  -2.18822623e-03],\n",
       "       [  5.33009878e+02,   4.84569097e+02,   6.73427740e+00,\n",
       "          6.20936756e+02,   6.15941674e+02,   3.49532666e+00,\n",
       "          5.84748335e+02,   5.49810742e+02,  -2.20098979e-03],\n",
       "       [  8.57556961e+00,   6.73427740e+00,   1.31534289e+01,\n",
       "          9.59640031e+00,   9.76126154e+00,   1.25425492e+01,\n",
       "          8.46741371e+00,   6.65993695e+00,  -4.03273336e-05],\n",
       "       [  7.26216445e+02,   6.20936756e+02,   9.59640031e+00,\n",
       "          9.49352590e+02,   9.20153290e+02,   1.35201371e+01,\n",
       "          9.20638373e+02,   7.99284040e+02,  -2.32934952e-03],\n",
       "       [  6.97625219e+02,   6.15941674e+02,   9.76126154e+00,\n",
       "          9.20153290e+02,   9.07136992e+02,   1.45045611e+01,\n",
       "          8.99293702e+02,   7.70782801e+02,  -2.14319908e-03],\n",
       "       [  7.15140857e+00,   3.49532666e+00,   1.25425492e+01,\n",
       "          1.35201371e+01,   1.45045611e+01,   1.62439129e+01,\n",
       "          1.52672929e+01,   8.15893241e+00,  -9.30334584e-05],\n",
       "       [  6.61663182e+02,   5.84748335e+02,   8.46741371e+00,\n",
       "          9.20638373e+02,   8.99293702e+02,   1.52672929e+01,\n",
       "          1.05815179e+03,   8.00300950e+02,  -1.71615431e-03],\n",
       "       [  6.23831746e+02,   5.49810742e+02,   6.65993695e+00,\n",
       "          7.99284040e+02,   7.70782801e+02,   8.15893241e+00,\n",
       "          8.00300950e+02,   7.19464711e+02,  -2.19714405e-03],\n",
       "       [ -2.18822623e-03,  -2.20098979e-03,  -4.03273336e-05,\n",
       "         -2.32934952e-03,  -2.14319908e-03,  -9.30334584e-05,\n",
       "         -1.71615431e-03,  -2.19714405e-03,   2.48762083e-04]])"
      ]
     },
     "execution_count": 8,
     "metadata": {},
     "output_type": "execute_result"
    }
   ],
   "source": [
    "similarity_model['covariance']"
   ]
  },
  {
   "cell_type": "markdown",
   "metadata": {},
   "source": [
    "---\n",
    "* **cosine_similarity**\n",
    "    * 각 data 사이 **cosine simialrity**를 계산하여 해당 유사도(similarity)를 **symmetric matrix**로 구성"
   ]
  },
  {
   "cell_type": "code",
   "execution_count": 9,
   "metadata": {
    "collapsed": false
   },
   "outputs": [
    {
     "data": {
      "text/plain": [
       "array([[ 0.   ,  0.018,  0.784,  0.031,  0.033,  0.647,  0.131,  0.034,  1.   ],\n",
       "       [ 0.018,  0.   ,  0.788,  0.049,  0.043,  0.654,  0.147,  0.028,  1.   ],\n",
       "       [ 0.784,  0.788,  0.   ,  0.795,  0.795,  0.148,  0.823,  0.803,  1.   ],\n",
       "       [ 0.031,  0.049,  0.795,  0.   ,  0.002,  0.642,  0.061,  0.023,  1.   ],\n",
       "       [ 0.033,  0.043,  0.795,  0.002,  0.   ,  0.641,  0.063,  0.023,  1.   ],\n",
       "       [ 0.647,  0.654,  0.148,  0.642,  0.641,  0.   ,  0.678,  0.653,  1.   ],\n",
       "       [ 0.131,  0.147,  0.823,  0.061,  0.063,  0.678,  0.   ,  0.082,  1.   ],\n",
       "       [ 0.034,  0.028,  0.803,  0.023,  0.023,  0.653,  0.082,  0.   ,  1.   ],\n",
       "       [ 1.   ,  1.   ,  1.   ,  1.   ,  1.   ,  1.   ,  1.   ,  1.   ,  0.   ]])"
      ]
     },
     "execution_count": 9,
     "metadata": {},
     "output_type": "execute_result"
    }
   ],
   "source": [
    "similarity_model['cosine_similarity']"
   ]
  },
  {
   "cell_type": "markdown",
   "metadata": {},
   "source": [
    "---\n",
    "* **euclidean_distance**\n",
    "    * 각 data 사이 **euclidean distance**를 계산하여 해당 유사도(similarity)를 **symmetric matrix**로 구성"
   ]
  },
  {
   "cell_type": "code",
   "execution_count": 10,
   "metadata": {
    "collapsed": false
   },
   "outputs": [
    {
     "data": {
      "text/plain": [
       "array([[     0.   ,   2642.098,  13504.789,   3861.998,   3958.654,\n",
       "         13265.964,   6993.981,   3842.326,  13721.771],\n",
       "       [  2642.098,      0.   ,  13802.378,   4675.627,   4403.274,\n",
       "         13568.805,   7479.117,   3514.483,  14015.209],\n",
       "       [ 13504.789,  13802.378,      0.   ,  14911.893,  14940.325,\n",
       "           785.959,  13385.896,  14622.85 ,   1270.772],\n",
       "       [  3861.998,   4675.627,  14911.893,      0.   ,    863.385,\n",
       "         14649.591,   5239.52 ,   3195.704,  15120.411],\n",
       "       [  3958.654,   4403.274,  14940.325,    863.385,      0.   ,\n",
       "         14677.27 ,   5313.004,   3212.968,  15148.529],\n",
       "       [ 13265.964,  13568.805,    785.959,  14649.591,  14677.27 ,\n",
       "             0.   ,  13145.714,  14368.155,   1501.651],\n",
       "       [  6993.981,   7479.117,  13385.896,   5239.52 ,   5313.004,\n",
       "         13145.714,      0.   ,   5875.922,  13551.702],\n",
       "       [  3842.326,   3514.483,  14622.85 ,   3195.704,   3212.968,\n",
       "         14368.155,   5875.922,      0.   ,  14820.05 ],\n",
       "       [ 13721.771,  14015.209,   1270.772,  15120.411,  15148.529,\n",
       "          1501.651,  13551.702,  14820.05 ,      0.   ]])"
      ]
     },
     "execution_count": 10,
     "metadata": {},
     "output_type": "execute_result"
    }
   ],
   "source": [
    "similarity_model['euclidean_distance']"
   ]
  },
  {
   "cell_type": "markdown",
   "metadata": {},
   "source": [
    "---\n",
    "* **manhatton_distance**\n",
    "    * 각 data 사이 **manhatton distance**를 계산하여 해당 유사도(similarity)를 **symmetric matrix**로 구성"
   ]
  },
  {
   "cell_type": "code",
   "execution_count": 11,
   "metadata": {
    "collapsed": false
   },
   "outputs": [
    {
     "data": {
      "text/plain": [
       "array([[  0.        ,   3.25471372,  31.81870433,   7.82647339,\n",
       "          8.69115082,  30.80160279,  15.24280938,   9.51509212,\n",
       "         32.40001293],\n",
       "       [  3.25471372,   0.        ,  33.81244044,  11.01312243,\n",
       "         10.23811025,  32.84977573,  18.4404397 ,   8.48195366,\n",
       "         34.36353824],\n",
       "       [ 31.81870433,  33.81244044,   0.        ,  32.6116483 ,\n",
       "         31.73311299,   1.39772756,  24.00491751,  33.30164425,\n",
       "          0.73369298],\n",
       "       [  7.82647339,  11.01312243,  32.6116483 ,   0.        ,\n",
       "          0.93195459,  31.61010915,  10.95329826,   7.14077374,\n",
       "         33.13142385],\n",
       "       [  8.69115082,  10.23811025,  31.73311299,   0.93195459,\n",
       "          0.        ,  30.78142965,  11.83220839,   7.29324067,  32.2261594 ],\n",
       "       [ 30.80160279,  32.84977573,   1.39772756,  31.61010915,\n",
       "         30.78142965,   0.        ,  23.60137438,  32.55306785,   1.6956011 ],\n",
       "       [ 15.24280938,  18.4404397 ,  24.00491751,  10.95329826,\n",
       "         11.83220839,  23.60137438,   0.        ,  10.71511785,\n",
       "         24.21107012],\n",
       "       [  9.51509212,   8.48195366,  33.30164425,   7.14077374,\n",
       "          7.29324067,  32.55306785,  10.71511785,   0.        ,\n",
       "         33.80429009],\n",
       "       [ 32.40001293,  34.36353824,   0.73369298,  33.13142385,\n",
       "         32.2261594 ,   1.6956011 ,  24.21107012,  33.80429009,   0.        ]])"
      ]
     },
     "execution_count": 11,
     "metadata": {},
     "output_type": "execute_result"
    }
   ],
   "source": [
    "similarity_model['manhattan_distance']"
   ]
  },
  {
   "cell_type": "markdown",
   "metadata": {},
   "source": [
    "---\n",
    "* **gradient_similarity**\n",
    "    * 각 data 사이 **gradient simialrity**를 계산하여 해당 유사도(similarity)를 **symmetric matrix**로 구성"
   ]
  },
  {
   "cell_type": "code",
   "execution_count": 12,
   "metadata": {
    "collapsed": false
   },
   "outputs": [
    {
     "data": {
      "text/plain": [
       "array([[ 0.        ,  0.00207609,  0.00395646,  0.00144547,  0.00244227,\n",
       "         0.00601553,  0.00176359,  0.00271583,  0.0018041 ],\n",
       "       [ 0.00207609,  0.        ,  0.00489012,  0.00234   ,  0.00201816,\n",
       "         0.0066422 ,  0.00232618,  0.00233234,  0.00161326],\n",
       "       [ 0.00395646,  0.00489012,  0.        ,  0.00442052,  0.00479404,\n",
       "         0.00382169,  0.00406317,  0.00523414,  0.0034438 ],\n",
       "       [ 0.00144547,  0.00234   ,  0.00442052,  0.        ,  0.00196436,\n",
       "         0.00570512,  0.00162707,  0.00264815,  0.0015578 ],\n",
       "       [ 0.00244227,  0.00201816,  0.00479404,  0.00196436,  0.        ,\n",
       "         0.00648779,  0.00223118,  0.00240035,  0.00148086],\n",
       "       [ 0.00601553,  0.0066422 ,  0.00382169,  0.00570512,  0.00648779,\n",
       "         0.        ,  0.00578989,  0.00696167,  0.00518702],\n",
       "       [ 0.00176359,  0.00232618,  0.00406317,  0.00162707,  0.00223118,\n",
       "         0.00578989,  0.        ,  0.00258435,  0.000972  ],\n",
       "       [ 0.00271583,  0.00233234,  0.00523414,  0.00264815,  0.00240035,\n",
       "         0.00696167,  0.00258435,  0.        ,  0.00192691],\n",
       "       [ 0.0018041 ,  0.00161326,  0.0034438 ,  0.0015578 ,  0.00148086,\n",
       "         0.00518702,  0.000972  ,  0.00192691,  0.        ]])"
      ]
     },
     "execution_count": 12,
     "metadata": {},
     "output_type": "execute_result"
    }
   ],
   "source": [
    "similarity_model['gradient_similarity']"
   ]
  },
  {
   "cell_type": "markdown",
   "metadata": {},
   "source": [
    "---\n",
    "* **reversed_gradient_similarity**\n",
    "    * 각 data 사이 **reversed gradient simialrity**를 계산하여 해당 유사도(similarity)를 **symmetric matrix**로 구성"
   ]
  },
  {
   "cell_type": "code",
   "execution_count": 13,
   "metadata": {
    "collapsed": false,
    "scrolled": true
   },
   "outputs": [
    {
     "data": {
      "text/plain": [
       "array([[ 0.00349142,  0.0033884 ,  0.00480964,  0.00324464,  0.00324981,\n",
       "         0.00655412,  0.00265261,  0.00370379,  0.00180496],\n",
       "       [ 0.0033884 ,  0.00311348,  0.00489197,  0.00314162,  0.00298095,\n",
       "         0.00660361,  0.00255304,  0.00342711,  0.00161326],\n",
       "       [ 0.00480964,  0.00489197,  0.00677804,  0.00465954,  0.00475077,\n",
       "         0.00794305,  0.00405068,  0.00519061,  0.00344433],\n",
       "       [ 0.00324464,  0.00314162,  0.00465954,  0.00299787,  0.00300303,\n",
       "         0.0061877 ,  0.00241081,  0.00345702,  0.00155835],\n",
       "       [ 0.00324981,  0.00298095,  0.00475077,  0.00300303,  0.00284884,\n",
       "         0.00644887,  0.0024164 ,  0.00329476,  0.00148092],\n",
       "       [ 0.00655412,  0.00660361,  0.00794305,  0.0061877 ,  0.00644887,\n",
       "         0.01026654,  0.00579803,  0.00692617,  0.00518349],\n",
       "       [ 0.00265261,  0.00255304,  0.00405068,  0.00241081,  0.0024164 ,\n",
       "         0.00579803,  0.00182463,  0.00287024,  0.000972  ],\n",
       "       [ 0.00370379,  0.00342711,  0.00519061,  0.00345702,  0.00329476,\n",
       "         0.00692617,  0.00287024,  0.00374078,  0.00192691],\n",
       "       [ 0.00180496,  0.00161326,  0.00344433,  0.00155835,  0.00148092,\n",
       "         0.00518349,  0.000972  ,  0.00192691,  0.00011305]])"
      ]
     },
     "execution_count": 13,
     "metadata": {},
     "output_type": "execute_result"
    }
   ],
   "source": [
    "similarity_model['reversed_gradient_similarity']"
   ]
  },
  {
   "cell_type": "code",
   "execution_count": null,
   "metadata": {
    "collapsed": true
   },
   "outputs": [],
   "source": []
  },
  {
   "cell_type": "code",
   "execution_count": null,
   "metadata": {
    "collapsed": true
   },
   "outputs": [],
   "source": []
  }
 ],
 "metadata": {
  "kernelspec": {
   "display_name": "Python 2",
   "language": "python",
   "name": "python2"
  },
  "language_info": {
   "codemirror_mode": {
    "name": "ipython",
    "version": 2
   },
   "file_extension": ".py",
   "mimetype": "text/x-python",
   "name": "python",
   "nbconvert_exporter": "python",
   "pygments_lexer": "ipython2",
   "version": "2.7.11"
  }
 },
 "nbformat": 4,
 "nbformat_minor": 0
}
