{
 "cells": [
  {
   "cell_type": "markdown",
   "metadata": {},
   "source": [
    "# Build & Save Similarity Model\n",
    "---"
   ]
  },
  {
   "cell_type": "markdown",
   "metadata": {},
   "source": [
    "### 개요\n",
    "* **Preprocessed_repository**로 부터 **preprocessing** 된 data를 불러와 각 data 사이 **유사도(similarity)**를 계산하여 하나의 **유사도 모델(similarity_model)**을 구성하여 반환/저장함\n",
    "\n",
    "---\n",
    "* 아래는 저장되어있는 preprocessed_data 사이 similarity를 계산하여 similarity_model을 구성/저장하는 과정임  \n",
    "\n",
    "<img src=\"https://raw.githubusercontent.com/jhyun0919/EnergyData_jhyun/master/docs/images/%EC%8A%A4%ED%81%AC%EB%A6%B0%EC%83%B7%202016-05-18%20%EC%98%A4%EC%A0%84%2010.26.43.jpg\" alt=\"Drawing\" style=\"width: 700px;\"/>"
   ]
  },
  {
   "cell_type": "markdown",
   "metadata": {},
   "source": [
    "---\n",
    "* similarity 계산과 save 과정에 필요한 module들을 import 하자"
   ]
  },
  {
   "cell_type": "code",
   "execution_count": 1,
   "metadata": {
    "collapsed": false
   },
   "outputs": [
    {
     "name": "stderr",
     "output_type": "stream",
     "text": [
      "/Users/JH/Documents/GitHub/EnergyData_jhyun/energy_data_venv/lib/python2.7/site-packages/matplotlib/font_manager.py:273: UserWarning: Matplotlib is building the font cache using fc-list. This may take a moment.\n",
      "  warnings.warn('Matplotlib is building the font cache using fc-list. This may take a moment.')\n"
     ]
    }
   ],
   "source": [
    "from utils import GlobalParameter\n",
    "from utils import FileIO\n",
    "from utils import Similarity\n",
    "import os"
   ]
  },
  {
   "cell_type": "markdown",
   "metadata": {},
   "source": [
    "---\n",
    "* 다음 과정은 repository의 경로를 지정하고 확인하는 과정이다"
   ]
  },
  {
   "cell_type": "code",
   "execution_count": 2,
   "metadata": {
    "collapsed": false
   },
   "outputs": [
    {
     "data": {
      "text/plain": [
       "'/Users/JH/Documents/GitHub/EnergyData_jhyun/repository/preprocessed_data'"
      ]
     },
     "execution_count": 2,
     "metadata": {},
     "output_type": "execute_result"
    }
   ],
   "source": [
    "repository4prepodessed_path = os.path.join(GlobalParameter.Repository_Path, GlobalParameter.Preprocessed_Path)\n",
    "repository4prepodessed_path"
   ]
  },
  {
   "cell_type": "markdown",
   "metadata": {},
   "source": [
    "---\n",
    "* 지정된 경로 아래에 있는 preprocessed_data file들의 abs_path를 list로 만들어 반환하자"
   ]
  },
  {
   "cell_type": "code",
   "execution_count": 3,
   "metadata": {
    "collapsed": false
   },
   "outputs": [
    {
     "data": {
      "text/plain": [
       "['/Users/JH/Documents/GitHub/EnergyData_jhyun/repository/preprocessed_data/PP_VTT_GW1_HA10_VM_EP_KV_K.bin',\n",
       " '/Users/JH/Documents/GitHub/EnergyData_jhyun/repository/preprocessed_data/PP_VTT_GW1_HA10_VM_KV_K.bin',\n",
       " '/Users/JH/Documents/GitHub/EnergyData_jhyun/repository/preprocessed_data/PP_VTT_GW1_HA10_VM_KV_KAM.bin',\n",
       " '/Users/JH/Documents/GitHub/EnergyData_jhyun/repository/preprocessed_data/PP_VTT_GW1_HA11_VM_EP_KV_K.bin',\n",
       " '/Users/JH/Documents/GitHub/EnergyData_jhyun/repository/preprocessed_data/PP_VTT_GW1_HA11_VM_KV_K.bin',\n",
       " '/Users/JH/Documents/GitHub/EnergyData_jhyun/repository/preprocessed_data/PP_VTT_GW1_HA11_VM_KV_KAM.bin',\n",
       " '/Users/JH/Documents/GitHub/EnergyData_jhyun/repository/preprocessed_data/PP_VTT_GW2_HA4_VM_EP_KV_K.bin',\n",
       " '/Users/JH/Documents/GitHub/EnergyData_jhyun/repository/preprocessed_data/PP_VTT_GW2_HA4_VM_KV_K.bin',\n",
       " '/Users/JH/Documents/GitHub/EnergyData_jhyun/repository/preprocessed_data/PP_VTT_GW2_HA4_VM_KV_KAM.bin']"
      ]
     },
     "execution_count": 3,
     "metadata": {},
     "output_type": "execute_result"
    }
   ],
   "source": [
    "file_list = FileIO.Load.load_filelist(repository4prepodessed_path)\n",
    "file_list"
   ]
  },
  {
   "cell_type": "markdown",
   "metadata": {},
   "source": [
    "---\n",
    "* file_list를 인자값으로 전달하여 **similarity_model**을 구성하고, \n",
    "    * 해당 모델(similarity_model)과 \n",
    "    * 저장된 경로(model_save_path)를 반환 받자"
   ]
  },
  {
   "cell_type": "code",
   "execution_count": 4,
   "metadata": {
    "collapsed": false
   },
   "outputs": [],
   "source": [
    "similarity_model, model_save_path = Similarity.Model.build_model(file_list)"
   ]
  },
  {
   "cell_type": "markdown",
   "metadata": {},
   "source": [
    "---\n",
    "* 반환 받은 model_save_path를 확인해보자"
   ]
  },
  {
   "cell_type": "code",
   "execution_count": 5,
   "metadata": {
    "collapsed": false
   },
   "outputs": [
    {
     "data": {
      "text/plain": [
       "'/Users/JH/Documents/GitHub/EnergyData_jhyun/repository/model/model.bin'"
      ]
     },
     "execution_count": 5,
     "metadata": {},
     "output_type": "execute_result"
    }
   ],
   "source": [
    "model_save_path"
   ]
  },
  {
   "cell_type": "markdown",
   "metadata": {},
   "source": [
    "---\n",
    "* 반환 받은 similarity_model을 확인해보자"
   ]
  },
  {
   "cell_type": "code",
   "execution_count": 6,
   "metadata": {
    "collapsed": false
   },
   "outputs": [
    {
     "data": {
      "text/plain": [
       "{'cosine_similarity': array([[ 0.   ,  0.018,  0.787,  0.03 ,  0.032,  0.658,  0.128,  0.033,  1.   ],\n",
       "        [ 0.018,  0.   ,  0.791,  0.048,  0.042,  0.665,  0.144,  0.028,  1.   ],\n",
       "        [ 0.787,  0.791,  0.   ,  0.798,  0.799,  0.147,  0.825,  0.806,  1.   ],\n",
       "        [ 0.03 ,  0.048,  0.798,  0.   ,  0.002,  0.656,  0.059,  0.022,  1.   ],\n",
       "        [ 0.032,  0.042,  0.799,  0.002,  0.   ,  0.656,  0.061,  0.023,  1.   ],\n",
       "        [ 0.658,  0.665,  0.147,  0.656,  0.656,  0.   ,  0.693,  0.666,  1.   ],\n",
       "        [ 0.128,  0.144,  0.825,  0.059,  0.061,  0.693,  0.   ,  0.081,  1.   ],\n",
       "        [ 0.033,  0.028,  0.806,  0.022,  0.023,  0.666,  0.081,  0.   ,  1.   ],\n",
       "        [ 1.   ,  1.   ,  1.   ,  1.   ,  1.   ,  1.   ,  1.   ,  1.   ,  0.   ]]),\n",
       " 'euclidean_distance': array([[     0.   ,   2642.35 ,  13562.254,   3838.5  ,   3935.521,\n",
       "          13338.732,   6934.901,   3828.04 ,  13775.754],\n",
       "        [  2642.35 ,      0.   ,  13858.202,   4656.261,   4383.415,\n",
       "          13639.555,   7423.263,   3501.575,  14067.647],\n",
       "        [ 13562.254,  13858.202,      0.   ,  14987.302,  15014.644,\n",
       "            780.26 ,  13443.173,  14660.575,   1270.35 ],\n",
       "        [  3838.5  ,   4656.261,  14987.302,      0.   ,    863.361,\n",
       "          14744.373,   5204.77 ,   3186.513,  15191.619],\n",
       "        [  3935.521,   4383.415,  15014.644,    863.361,      0.   ,\n",
       "          14771.002,   5278.966,   3224.633,  15218.663],\n",
       "        [ 13338.732,  13639.555,    780.26 ,  14744.373,  14771.002,\n",
       "              0.   ,  13225.429,  14424.24 ,   1493.382],\n",
       "        [  6934.901,   7423.263,  13443.173,   5204.77 ,   5278.966,\n",
       "          13225.429,      0.   ,   5824.987,  13606.85 ],\n",
       "        [  3828.04 ,   3501.575,  14660.575,   3186.513,   3224.633,\n",
       "          14424.24 ,   5824.987,      0.   ,  14853.905],\n",
       "        [ 13775.754,  14067.647,   1270.35 ,  15191.619,  15218.663,\n",
       "           1493.382,  13606.85 ,  14853.905,      0.   ]]),\n",
       " 'file_list': ['/Users/JH/Documents/GitHub/EnergyData_jhyun/repository/preprocessed_data/PP_VTT_GW1_HA10_VM_EP_KV_K.bin',\n",
       "  '/Users/JH/Documents/GitHub/EnergyData_jhyun/repository/preprocessed_data/PP_VTT_GW1_HA10_VM_KV_K.bin',\n",
       "  '/Users/JH/Documents/GitHub/EnergyData_jhyun/repository/preprocessed_data/PP_VTT_GW1_HA10_VM_KV_KAM.bin',\n",
       "  '/Users/JH/Documents/GitHub/EnergyData_jhyun/repository/preprocessed_data/PP_VTT_GW1_HA11_VM_EP_KV_K.bin',\n",
       "  '/Users/JH/Documents/GitHub/EnergyData_jhyun/repository/preprocessed_data/PP_VTT_GW1_HA11_VM_KV_K.bin',\n",
       "  '/Users/JH/Documents/GitHub/EnergyData_jhyun/repository/preprocessed_data/PP_VTT_GW1_HA11_VM_KV_KAM.bin',\n",
       "  '/Users/JH/Documents/GitHub/EnergyData_jhyun/repository/preprocessed_data/PP_VTT_GW2_HA4_VM_EP_KV_K.bin',\n",
       "  '/Users/JH/Documents/GitHub/EnergyData_jhyun/repository/preprocessed_data/PP_VTT_GW2_HA4_VM_KV_K.bin',\n",
       "  '/Users/JH/Documents/GitHub/EnergyData_jhyun/repository/preprocessed_data/PP_VTT_GW2_HA4_VM_KV_KAM.bin'],\n",
       " 'gradient_similarity': array([[ 0.        ,  0.00208466,  0.00395662,  0.00144547,  0.00244612,\n",
       "          0.00601553,  0.00177311,  0.00272743,  0.0018041 ],\n",
       "        [ 0.00208466,  0.        ,  0.00489024,  0.00234003,  0.00202164,\n",
       "          0.00664223,  0.00234035,  0.00234193,  0.00161328],\n",
       "        [ 0.00395662,  0.00489024,  0.        ,  0.00442068,  0.00479398,\n",
       "          0.00382184,  0.00406345,  0.00523414,  0.0034438 ],\n",
       "        [ 0.00144547,  0.00234003,  0.00442068,  0.        ,  0.00196922,\n",
       "          0.00570512,  0.00166231,  0.00268299,  0.0015578 ],\n",
       "        [ 0.00244612,  0.00202164,  0.00479398,  0.00196922,  0.        ,\n",
       "          0.0064926 ,  0.00226905,  0.00243586,  0.00148083],\n",
       "        [ 0.00601553,  0.00664223,  0.00382184,  0.00570512,  0.0064926 ,\n",
       "          0.        ,  0.00579008,  0.00696167,  0.00518702],\n",
       "        [ 0.00177311,  0.00234035,  0.00406345,  0.00166231,  0.00226905,\n",
       "          0.00579008,  0.        ,  0.00259492,  0.000972  ],\n",
       "        [ 0.00272743,  0.00234193,  0.00523414,  0.00268299,  0.00243586,\n",
       "          0.00696167,  0.00259492,  0.        ,  0.00192691],\n",
       "        [ 0.0018041 ,  0.00161328,  0.0034438 ,  0.0015578 ,  0.00148083,\n",
       "          0.00518702,  0.000972  ,  0.00192691,  0.        ]]),\n",
       " 'manhattan_distance': array([[  0.        ,   3.25540708,  31.82507657,   7.81085148,\n",
       "           8.67394117,  30.83050115,  15.01547835,   9.47018381,\n",
       "          32.39041941],\n",
       "        [  3.25540708,   0.        ,  33.81701641,  10.99700717,\n",
       "          10.2241571 ,  32.87824217,  18.21221861,   8.47199324,\n",
       "          34.35555481],\n",
       "        [ 31.82507657,  33.81701641,   0.        ,  32.65734072,\n",
       "          31.77390668,   1.38168621,  24.11103903,  33.28170774,\n",
       "           0.72742094],\n",
       "        [  7.81085148,  10.99700717,  32.65734072,   0.        ,\n",
       "           0.92934826,  31.67382387,  10.7878635 ,   7.07132538,\n",
       "          33.15664669],\n",
       "        [  8.67394117,  10.2241571 ,  31.77390668,   0.92934826,\n",
       "           0.        ,  30.83869946,  11.66738691,   7.26606295,\n",
       "          32.24697934],\n",
       "        [ 30.83050115,  32.87824217,   1.38168621,  31.67382387,\n",
       "          30.83869946,   0.        ,  23.74864835,  32.55789442,\n",
       "           1.65915124],\n",
       "        [ 15.01547835,  18.21221861,  24.11103903,  10.7878635 ,\n",
       "          11.66738691,  23.74864835,   0.        ,  10.53225335,\n",
       "          24.32082911],\n",
       "        [  9.47018381,   8.47199324,  33.28170774,   7.07132538,\n",
       "           7.26606295,  32.55789442,  10.53225335,   0.        ,\n",
       "          33.77154656],\n",
       "        [ 32.39041941,  34.35555481,   0.72742094,  33.15664669,\n",
       "          32.24697934,   1.65915124,  24.32082911,  33.77154656,   0.        ]]),\n",
       " 'reversed_gradient_similarity': array([[ 0.        ,  0.00338842,  0.00480964,  0.00324464,  0.00324978,\n",
       "          0.00655412,  0.00265261,  0.00370379,  0.00180496],\n",
       "        [ 0.00338842,  0.        ,  0.00489199,  0.00314165,  0.00298095,\n",
       "          0.00660363,  0.00255306,  0.00342713,  0.00161328],\n",
       "        [ 0.00480964,  0.00489199,  0.        ,  0.00465954,  0.00475072,\n",
       "          0.00794305,  0.00405224,  0.00519512,  0.00344433],\n",
       "        [ 0.00324464,  0.00314165,  0.00465954,  0.        ,  0.003003  ,\n",
       "          0.0061877 ,  0.00241081,  0.00345702,  0.00155835],\n",
       "        [ 0.00324978,  0.00298095,  0.00475072,  0.003003  ,  0.        ,\n",
       "          0.00645082,  0.00241638,  0.00329473,  0.0014809 ],\n",
       "        [ 0.00655412,  0.00660363,  0.00794305,  0.0061877 ,  0.00645082,\n",
       "          0.        ,  0.00580954,  0.00693758,  0.00518349],\n",
       "        [ 0.00265261,  0.00255306,  0.00405224,  0.00241081,  0.00241638,\n",
       "          0.00580954,  0.        ,  0.00287024,  0.000972  ],\n",
       "        [ 0.00370379,  0.00342713,  0.00519512,  0.00345702,  0.00329473,\n",
       "          0.00693758,  0.00287024,  0.        ,  0.00192691],\n",
       "        [ 0.00180496,  0.00161328,  0.00344433,  0.00155835,  0.0014809 ,\n",
       "          0.00518349,  0.000972  ,  0.00192691,  0.        ]])}"
      ]
     },
     "execution_count": 6,
     "metadata": {},
     "output_type": "execute_result"
    }
   ],
   "source": [
    "similarity_model"
   ]
  },
  {
   "cell_type": "markdown",
   "metadata": {
    "collapsed": true
   },
   "source": [
    "---\n",
    "### Similarity Model  \n",
    "\n",
    "* **similarity_model**의 구성\n",
    "    * file_list\n",
    "    * cosine_similarity\n",
    "    * euclidean_distance\n",
    "    * manhatton_distance\n",
    "    * gradient_similarity\n",
    "    * reversed_gradient_similarity"
   ]
  },
  {
   "cell_type": "markdown",
   "metadata": {},
   "source": [
    "---\n",
    "* **file_list**\n",
    "    * preprocessed_repository 아래에 있는 data file의 abs_path를 list로 관리하는 항목임임\n",
    "        * 각 file의 list_idx는 차후 similarity_matrix에서 row와 column의 idx와 일치하게 됨"
   ]
  },
  {
   "cell_type": "code",
   "execution_count": 7,
   "metadata": {
    "collapsed": false
   },
   "outputs": [
    {
     "data": {
      "text/plain": [
       "['/Users/JH/Documents/GitHub/EnergyData_jhyun/repository/preprocessed_data/PP_VTT_GW1_HA10_VM_EP_KV_K.bin',\n",
       " '/Users/JH/Documents/GitHub/EnergyData_jhyun/repository/preprocessed_data/PP_VTT_GW1_HA10_VM_KV_K.bin',\n",
       " '/Users/JH/Documents/GitHub/EnergyData_jhyun/repository/preprocessed_data/PP_VTT_GW1_HA10_VM_KV_KAM.bin',\n",
       " '/Users/JH/Documents/GitHub/EnergyData_jhyun/repository/preprocessed_data/PP_VTT_GW1_HA11_VM_EP_KV_K.bin',\n",
       " '/Users/JH/Documents/GitHub/EnergyData_jhyun/repository/preprocessed_data/PP_VTT_GW1_HA11_VM_KV_K.bin',\n",
       " '/Users/JH/Documents/GitHub/EnergyData_jhyun/repository/preprocessed_data/PP_VTT_GW1_HA11_VM_KV_KAM.bin',\n",
       " '/Users/JH/Documents/GitHub/EnergyData_jhyun/repository/preprocessed_data/PP_VTT_GW2_HA4_VM_EP_KV_K.bin',\n",
       " '/Users/JH/Documents/GitHub/EnergyData_jhyun/repository/preprocessed_data/PP_VTT_GW2_HA4_VM_KV_K.bin',\n",
       " '/Users/JH/Documents/GitHub/EnergyData_jhyun/repository/preprocessed_data/PP_VTT_GW2_HA4_VM_KV_KAM.bin']"
      ]
     },
     "execution_count": 7,
     "metadata": {},
     "output_type": "execute_result"
    }
   ],
   "source": [
    "similarity_model['file_list']"
   ]
  },
  {
   "cell_type": "markdown",
   "metadata": {},
   "source": [
    "---\n",
    "* **cosine_similarity**\n",
    "    * 각 data 사이 **cosine simialrity**를 계산하여 해당 유사도(similarity)를 **symmetric matrix**로 구성"
   ]
  },
  {
   "cell_type": "code",
   "execution_count": 8,
   "metadata": {
    "collapsed": false
   },
   "outputs": [
    {
     "data": {
      "text/plain": [
       "array([[ 0.   ,  0.018,  0.787,  0.03 ,  0.032,  0.658,  0.128,  0.033,  1.   ],\n",
       "       [ 0.018,  0.   ,  0.791,  0.048,  0.042,  0.665,  0.144,  0.028,  1.   ],\n",
       "       [ 0.787,  0.791,  0.   ,  0.798,  0.799,  0.147,  0.825,  0.806,  1.   ],\n",
       "       [ 0.03 ,  0.048,  0.798,  0.   ,  0.002,  0.656,  0.059,  0.022,  1.   ],\n",
       "       [ 0.032,  0.042,  0.799,  0.002,  0.   ,  0.656,  0.061,  0.023,  1.   ],\n",
       "       [ 0.658,  0.665,  0.147,  0.656,  0.656,  0.   ,  0.693,  0.666,  1.   ],\n",
       "       [ 0.128,  0.144,  0.825,  0.059,  0.061,  0.693,  0.   ,  0.081,  1.   ],\n",
       "       [ 0.033,  0.028,  0.806,  0.022,  0.023,  0.666,  0.081,  0.   ,  1.   ],\n",
       "       [ 1.   ,  1.   ,  1.   ,  1.   ,  1.   ,  1.   ,  1.   ,  1.   ,  0.   ]])"
      ]
     },
     "execution_count": 8,
     "metadata": {},
     "output_type": "execute_result"
    }
   ],
   "source": [
    "similarity_model['cosine_similarity']"
   ]
  },
  {
   "cell_type": "markdown",
   "metadata": {},
   "source": [
    "---\n",
    "* **euclidean_distance**\n",
    "    * 각 data 사이 **euclidean distance**를 계산하여 해당 유사도(similarity)를 **symmetric matrix**로 구성"
   ]
  },
  {
   "cell_type": "code",
   "execution_count": 9,
   "metadata": {
    "collapsed": false
   },
   "outputs": [
    {
     "data": {
      "text/plain": [
       "array([[     0.   ,   2642.35 ,  13562.254,   3838.5  ,   3935.521,\n",
       "         13338.732,   6934.901,   3828.04 ,  13775.754],\n",
       "       [  2642.35 ,      0.   ,  13858.202,   4656.261,   4383.415,\n",
       "         13639.555,   7423.263,   3501.575,  14067.647],\n",
       "       [ 13562.254,  13858.202,      0.   ,  14987.302,  15014.644,\n",
       "           780.26 ,  13443.173,  14660.575,   1270.35 ],\n",
       "       [  3838.5  ,   4656.261,  14987.302,      0.   ,    863.361,\n",
       "         14744.373,   5204.77 ,   3186.513,  15191.619],\n",
       "       [  3935.521,   4383.415,  15014.644,    863.361,      0.   ,\n",
       "         14771.002,   5278.966,   3224.633,  15218.663],\n",
       "       [ 13338.732,  13639.555,    780.26 ,  14744.373,  14771.002,\n",
       "             0.   ,  13225.429,  14424.24 ,   1493.382],\n",
       "       [  6934.901,   7423.263,  13443.173,   5204.77 ,   5278.966,\n",
       "         13225.429,      0.   ,   5824.987,  13606.85 ],\n",
       "       [  3828.04 ,   3501.575,  14660.575,   3186.513,   3224.633,\n",
       "         14424.24 ,   5824.987,      0.   ,  14853.905],\n",
       "       [ 13775.754,  14067.647,   1270.35 ,  15191.619,  15218.663,\n",
       "          1493.382,  13606.85 ,  14853.905,      0.   ]])"
      ]
     },
     "execution_count": 9,
     "metadata": {},
     "output_type": "execute_result"
    }
   ],
   "source": [
    "similarity_model['euclidean_distance']"
   ]
  },
  {
   "cell_type": "markdown",
   "metadata": {},
   "source": [
    "---\n",
    "* **manhatton_distance**\n",
    "    * 각 data 사이 **manhatton distance**를 계산하여 해당 유사도(similarity)를 **symmetric matrix**로 구성"
   ]
  },
  {
   "cell_type": "code",
   "execution_count": 10,
   "metadata": {
    "collapsed": false
   },
   "outputs": [
    {
     "data": {
      "text/plain": [
       "array([[  0.        ,   3.25540708,  31.82507657,   7.81085148,\n",
       "          8.67394117,  30.83050115,  15.01547835,   9.47018381,\n",
       "         32.39041941],\n",
       "       [  3.25540708,   0.        ,  33.81701641,  10.99700717,\n",
       "         10.2241571 ,  32.87824217,  18.21221861,   8.47199324,\n",
       "         34.35555481],\n",
       "       [ 31.82507657,  33.81701641,   0.        ,  32.65734072,\n",
       "         31.77390668,   1.38168621,  24.11103903,  33.28170774,\n",
       "          0.72742094],\n",
       "       [  7.81085148,  10.99700717,  32.65734072,   0.        ,\n",
       "          0.92934826,  31.67382387,  10.7878635 ,   7.07132538,\n",
       "         33.15664669],\n",
       "       [  8.67394117,  10.2241571 ,  31.77390668,   0.92934826,\n",
       "          0.        ,  30.83869946,  11.66738691,   7.26606295,\n",
       "         32.24697934],\n",
       "       [ 30.83050115,  32.87824217,   1.38168621,  31.67382387,\n",
       "         30.83869946,   0.        ,  23.74864835,  32.55789442,\n",
       "          1.65915124],\n",
       "       [ 15.01547835,  18.21221861,  24.11103903,  10.7878635 ,\n",
       "         11.66738691,  23.74864835,   0.        ,  10.53225335,\n",
       "         24.32082911],\n",
       "       [  9.47018381,   8.47199324,  33.28170774,   7.07132538,\n",
       "          7.26606295,  32.55789442,  10.53225335,   0.        ,\n",
       "         33.77154656],\n",
       "       [ 32.39041941,  34.35555481,   0.72742094,  33.15664669,\n",
       "         32.24697934,   1.65915124,  24.32082911,  33.77154656,   0.        ]])"
      ]
     },
     "execution_count": 10,
     "metadata": {},
     "output_type": "execute_result"
    }
   ],
   "source": [
    "similarity_model['manhattan_distance']"
   ]
  },
  {
   "cell_type": "markdown",
   "metadata": {},
   "source": [
    "---\n",
    "* **gradient_similarity**\n",
    "    * 각 data 사이 **gradient simialrity**를 계산하여 해당 유사도(similarity)를 **symmetric matrix**로 구성"
   ]
  },
  {
   "cell_type": "code",
   "execution_count": 11,
   "metadata": {
    "collapsed": false
   },
   "outputs": [
    {
     "data": {
      "text/plain": [
       "array([[ 0.        ,  0.00208466,  0.00395662,  0.00144547,  0.00244612,\n",
       "         0.00601553,  0.00177311,  0.00272743,  0.0018041 ],\n",
       "       [ 0.00208466,  0.        ,  0.00489024,  0.00234003,  0.00202164,\n",
       "         0.00664223,  0.00234035,  0.00234193,  0.00161328],\n",
       "       [ 0.00395662,  0.00489024,  0.        ,  0.00442068,  0.00479398,\n",
       "         0.00382184,  0.00406345,  0.00523414,  0.0034438 ],\n",
       "       [ 0.00144547,  0.00234003,  0.00442068,  0.        ,  0.00196922,\n",
       "         0.00570512,  0.00166231,  0.00268299,  0.0015578 ],\n",
       "       [ 0.00244612,  0.00202164,  0.00479398,  0.00196922,  0.        ,\n",
       "         0.0064926 ,  0.00226905,  0.00243586,  0.00148083],\n",
       "       [ 0.00601553,  0.00664223,  0.00382184,  0.00570512,  0.0064926 ,\n",
       "         0.        ,  0.00579008,  0.00696167,  0.00518702],\n",
       "       [ 0.00177311,  0.00234035,  0.00406345,  0.00166231,  0.00226905,\n",
       "         0.00579008,  0.        ,  0.00259492,  0.000972  ],\n",
       "       [ 0.00272743,  0.00234193,  0.00523414,  0.00268299,  0.00243586,\n",
       "         0.00696167,  0.00259492,  0.        ,  0.00192691],\n",
       "       [ 0.0018041 ,  0.00161328,  0.0034438 ,  0.0015578 ,  0.00148083,\n",
       "         0.00518702,  0.000972  ,  0.00192691,  0.        ]])"
      ]
     },
     "execution_count": 11,
     "metadata": {},
     "output_type": "execute_result"
    }
   ],
   "source": [
    "similarity_model['gradient_similarity']"
   ]
  },
  {
   "cell_type": "markdown",
   "metadata": {},
   "source": [
    "---\n",
    "* **reversed_gradient_similarity**\n",
    "    * 각 data 사이 **reversed gradient simialrity**를 계산하여 해당 유사도(similarity)를 **symmetric matrix**로 구성"
   ]
  },
  {
   "cell_type": "code",
   "execution_count": 12,
   "metadata": {
    "collapsed": false,
    "scrolled": true
   },
   "outputs": [
    {
     "data": {
      "text/plain": [
       "array([[ 0.        ,  0.00338842,  0.00480964,  0.00324464,  0.00324978,\n",
       "         0.00655412,  0.00265261,  0.00370379,  0.00180496],\n",
       "       [ 0.00338842,  0.        ,  0.00489199,  0.00314165,  0.00298095,\n",
       "         0.00660363,  0.00255306,  0.00342713,  0.00161328],\n",
       "       [ 0.00480964,  0.00489199,  0.        ,  0.00465954,  0.00475072,\n",
       "         0.00794305,  0.00405224,  0.00519512,  0.00344433],\n",
       "       [ 0.00324464,  0.00314165,  0.00465954,  0.        ,  0.003003  ,\n",
       "         0.0061877 ,  0.00241081,  0.00345702,  0.00155835],\n",
       "       [ 0.00324978,  0.00298095,  0.00475072,  0.003003  ,  0.        ,\n",
       "         0.00645082,  0.00241638,  0.00329473,  0.0014809 ],\n",
       "       [ 0.00655412,  0.00660363,  0.00794305,  0.0061877 ,  0.00645082,\n",
       "         0.        ,  0.00580954,  0.00693758,  0.00518349],\n",
       "       [ 0.00265261,  0.00255306,  0.00405224,  0.00241081,  0.00241638,\n",
       "         0.00580954,  0.        ,  0.00287024,  0.000972  ],\n",
       "       [ 0.00370379,  0.00342713,  0.00519512,  0.00345702,  0.00329473,\n",
       "         0.00693758,  0.00287024,  0.        ,  0.00192691],\n",
       "       [ 0.00180496,  0.00161328,  0.00344433,  0.00155835,  0.0014809 ,\n",
       "         0.00518349,  0.000972  ,  0.00192691,  0.        ]])"
      ]
     },
     "execution_count": 12,
     "metadata": {},
     "output_type": "execute_result"
    }
   ],
   "source": [
    "similarity_model['reversed_gradient_similarity']"
   ]
  },
  {
   "cell_type": "code",
   "execution_count": null,
   "metadata": {
    "collapsed": true
   },
   "outputs": [],
   "source": []
  },
  {
   "cell_type": "code",
   "execution_count": null,
   "metadata": {
    "collapsed": true
   },
   "outputs": [],
   "source": []
  }
 ],
 "metadata": {
  "kernelspec": {
   "display_name": "Python 2",
   "language": "python",
   "name": "python2"
  },
  "language_info": {
   "codemirror_mode": {
    "name": "ipython",
    "version": 2
   },
   "file_extension": ".py",
   "mimetype": "text/x-python",
   "name": "python",
   "nbconvert_exporter": "python",
   "pygments_lexer": "ipython2",
   "version": "2.7.11"
  }
 },
 "nbformat": 4,
 "nbformat_minor": 0
}
