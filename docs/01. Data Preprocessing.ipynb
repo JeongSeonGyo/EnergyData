{
 "cells": [
  {
   "cell_type": "markdown",
   "metadata": {},
   "source": [
    "# Data Preprocessing \n",
    "---"
   ]
  },
  {
   "cell_type": "markdown",
   "metadata": {},
   "source": [
    "* 배포한 모듈에 대한 변경사항이 있는 경우 반드시 다음 명령어를 실행하여 변경사항이 배포된 버전에 반영되도록 하자\n",
    "```\n",
    ">>> python setup.py sdist\n",
    ">>> python setup.py install\n",
    "```"
   ]
  },
  {
   "cell_type": "markdown",
   "metadata": {},
   "source": [
    "---\n",
    "* data-preprocessing 과정에 필요한 module들을 import 하자 "
   ]
  },
  {
   "cell_type": "code",
   "execution_count": 1,
   "metadata": {
    "collapsed": false
   },
   "outputs": [
    {
     "name": "stderr",
     "output_type": "stream",
     "text": [
      "/Users/JH/Documents/GitHub/EnergyData_jhyun/energy_data_venv/lib/python2.7/site-packages/matplotlib/font_manager.py:273: UserWarning: Matplotlib is building the font cache using fc-list. This may take a moment.\n",
      "  warnings.warn('Matplotlib is building the font cache using fc-list. This may take a moment.')\n"
     ]
    }
   ],
   "source": [
    "from utils import Preprocess\n",
    "from utils import FileIO\n",
    "from utils import GlobalParameter\n",
    "from utils import Graph\n",
    "%matplotlib inline\n",
    "import os"
   ]
  },
  {
   "cell_type": "markdown",
   "metadata": {},
   "source": [
    "---\n",
    "* 모든 file은 GlobalParameter.Repository_Path의 경로 아래에 저장하고 불러온다\n",
    "* 다음 과정은 주어진 경로 아래에 저장된 특정 file을 지정하고 확인해보는 과정이다"
   ]
  },
  {
   "cell_type": "code",
   "execution_count": 2,
   "metadata": {
    "collapsed": false
   },
   "outputs": [
    {
     "data": {
      "text/plain": [
       "'/Users/JH/Documents/GitHub/EnergyData_jhyun/repository/VTT/VTT_GW1_HA10_VM_EP_KV_K.bin'"
      ]
     },
     "execution_count": 2,
     "metadata": {},
     "output_type": "execute_result"
    }
   ],
   "source": [
    "file_path = os.path.join(GlobalParameter.Repository_Path, 'VTT')\n",
    "file_name = 'VTT_GW1_HA10_VM_EP_KV_K.bin'\n",
    "file_path = os.path.join(file_path, file_name)\n",
    "\n",
    "file_path"
   ]
  },
  {
   "cell_type": "markdown",
   "metadata": {},
   "source": [
    "---\n",
    "* 해당 file의 data를 graph를 통해 확인해보자"
   ]
  },
  {
   "cell_type": "code",
   "execution_count": 3,
   "metadata": {
    "collapsed": false
   },
   "outputs": [
    {
     "data": {
      "image/png": "[encoded data removed]",
      "text/plain": [
       "<matplotlib.figure.Figure at 0x1073d27d0>"
      ]
     },
     "metadata": {},
     "output_type": "display_data"
    }
   ],
   "source": [
    "Graph.Show.bin2graph(file_path)"
   ]
  },
  {
   "cell_type": "markdown",
   "metadata": {},
   "source": [
    "---\n",
    "* 해당 file의 data를 직접 출력하여 확인해보자"
   ]
  },
  {
   "cell_type": "code",
   "execution_count": 4,
   "metadata": {
    "collapsed": false
   },
   "outputs": [
    {
     "data": {
      "text/plain": [
       "{'file_name': 'VTT_GW1_HA10_VM_EP_KV_K',\n",
       " 'ts': array([[datetime.datetime(2013, 5, 15, 10, 37, 23), 23, 37, ..., 2, 15, 5],\n",
       "        [datetime.datetime(2013, 5, 15, 10, 42, 30), 30, 42, ..., 2, 15, 5],\n",
       "        [datetime.datetime(2013, 5, 15, 10, 47, 30), 30, 47, ..., 2, 15, 5],\n",
       "        ..., \n",
       "        [datetime.datetime(2015, 6, 30, 0, 46, 32), 32, 46, ..., 1, 30, 6],\n",
       "        [datetime.datetime(2015, 6, 30, 0, 51, 32), 32, 51, ..., 1, 30, 6],\n",
       "        [datetime.datetime(2015, 6, 30, 0, 56, 32), 32, 56, ..., 1, 30, 6]], dtype=object),\n",
       " 'value': array([     0.,      0.,      0., ...,  24826.,  24826.,  24826.])}"
      ]
     },
     "execution_count": 4,
     "metadata": {},
     "output_type": "execute_result"
    }
   ],
   "source": [
    "data_dictionary = FileIO.Load.unpickling(file_path)\n",
    "\n",
    "data_dictionary"
   ]
  },
  {
   "cell_type": "markdown",
   "metadata": {},
   "source": [
    "---\n",
    "* 전처리의 첫 단계인 scaling을 실행해보자\n",
    "* scaling을 통해 data의 모든 value값들이 절댓값 GlobalParameter.Scale_Size 사이 값으로 조정된다\n",
    "* scaling의 크기는 GlobalParameter.Scale_Size에서 확인/변경 가능하다"
   ]
  },
  {
   "cell_type": "code",
   "execution_count": 5,
   "metadata": {
    "collapsed": false
   },
   "outputs": [
    {
     "data": {
      "text/plain": [
       "100"
      ]
     },
     "execution_count": 5,
     "metadata": {},
     "output_type": "execute_result"
    }
   ],
   "source": [
    "GlobalParameter.Scale_Size"
   ]
  },
  {
   "cell_type": "code",
   "execution_count": 6,
   "metadata": {
    "collapsed": false
   },
   "outputs": [
    {
     "data": {
      "text/plain": [
       "{'file_name': 'VTT_GW1_HA10_VM_EP_KV_K',\n",
       " 'ts': array([[datetime.datetime(2013, 5, 15, 10, 37, 23), 23, 37, ..., 2, 15, 5],\n",
       "        [datetime.datetime(2013, 5, 15, 10, 42, 30), 30, 42, ..., 2, 15, 5],\n",
       "        [datetime.datetime(2013, 5, 15, 10, 47, 30), 30, 47, ..., 2, 15, 5],\n",
       "        ..., \n",
       "        [datetime.datetime(2015, 6, 30, 0, 46, 32), 32, 46, ..., 1, 30, 6],\n",
       "        [datetime.datetime(2015, 6, 30, 0, 51, 32), 32, 51, ..., 1, 30, 6],\n",
       "        [datetime.datetime(2015, 6, 30, 0, 56, 32), 32, 56, ..., 1, 30, 6]], dtype=object),\n",
       " 'value': array([   0.,    0.,    0., ...,  100.,  100.,  100.])}"
      ]
     },
     "execution_count": 6,
     "metadata": {},
     "output_type": "execute_result"
    }
   ],
   "source": [
    "data_dictionary = Preprocess.scaling(data_dictionary)\n",
    "\n",
    "data_dictionary"
   ]
  },
  {
   "cell_type": "code",
   "execution_count": 7,
   "metadata": {
    "collapsed": false
   },
   "outputs": [
    {
     "data": {
      "image/png": "[encoded data removed]",
      "text/plain": [
       "<matplotlib.figure.Figure at 0x108c8ae50>"
      ]
     },
     "metadata": {},
     "output_type": "display_data"
    }
   ],
   "source": [
    "Graph.Show.dic2graph(data_dictionary)"
   ]
  },
  {
   "cell_type": "markdown",
   "metadata": {},
   "source": [
    "---\n",
    "* 전처리의 두 번째 단계인 normalization을 실행해보자\n",
    "* normalization을 통해 data의 모든 ts가 GlobalParameter.Normalization_Interval의 일정한 간격으로 조정된다\n",
    "* 간격의 크기는 GlobalParameter.Normalization_Interval에서 확인/변경 가능하다"
   ]
  },
  {
   "cell_type": "code",
   "execution_count": 8,
   "metadata": {
    "collapsed": false
   },
   "outputs": [
    {
     "data": {
      "text/plain": [
       "10"
      ]
     },
     "execution_count": 8,
     "metadata": {},
     "output_type": "execute_result"
    }
   ],
   "source": [
    "GlobalParameter.Normalization_Interval"
   ]
  },
  {
   "cell_type": "markdown",
   "metadata": {},
   "source": [
    "* GlobalParameter.Normalization_Interval 사이 해당하는 value 값이 없으면 해당 값에 nan을 넣어주는 알고리즘이다"
   ]
  },
  {
   "cell_type": "code",
   "execution_count": 9,
   "metadata": {
    "collapsed": false
   },
   "outputs": [
    {
     "data": {
      "text/plain": [
       "{'file_name': 'VTT_GW1_HA10_VM_EP_KV_K',\n",
       " 'ts': array([datetime.datetime(2013, 5, 15, 10, 30),\n",
       "        datetime.datetime(2013, 5, 15, 10, 40),\n",
       "        datetime.datetime(2013, 5, 15, 10, 50), ...,\n",
       "        datetime.datetime(2015, 6, 30, 0, 30),\n",
       "        datetime.datetime(2015, 6, 30, 0, 40),\n",
       "        datetime.datetime(2015, 6, 30, 0, 50)], dtype=object),\n",
       " 'value': array([   0.,    0.,    0., ...,  100.,  100.,  100.])}"
      ]
     },
     "execution_count": 9,
     "metadata": {},
     "output_type": "execute_result"
    }
   ],
   "source": [
    "data_dictionary = Preprocess.normalization(data_dictionary)\n",
    "\n",
    "data_dictionary"
   ]
  },
  {
   "cell_type": "code",
   "execution_count": 10,
   "metadata": {
    "collapsed": false
   },
   "outputs": [
    {
     "data": {
      "image/png": "[encoded data removed]",
      "text/plain": [
       "<matplotlib.figure.Figure at 0x1083c9b10>"
      ]
     },
     "metadata": {},
     "output_type": "display_data"
    }
   ],
   "source": [
    "Graph.Show.dic2graph(data_dictionary)"
   ]
  },
  {
   "cell_type": "markdown",
   "metadata": {},
   "source": [
    "---\n",
    "* 전처리의 마지막 단계인 interpolation을 실행해보자\n",
    "* interpolation을 통해 기록된 값이 없는 경우(nan)에 적절한 값을 배정하여 준다"
   ]
  },
  {
   "cell_type": "code",
   "execution_count": 14,
   "metadata": {
    "collapsed": false,
    "scrolled": true
   },
   "outputs": [
    {
     "data": {
      "text/plain": [
       "{'file_name': 'VTT_GW1_HA10_VM_EP_KV_K',\n",
       " 'ts': array([datetime.datetime(2013, 5, 15, 10, 30),\n",
       "        datetime.datetime(2013, 5, 15, 10, 40),\n",
       "        datetime.datetime(2013, 5, 15, 10, 50), ...,\n",
       "        datetime.datetime(2015, 6, 30, 0, 30),\n",
       "        datetime.datetime(2015, 6, 30, 0, 40),\n",
       "        datetime.datetime(2015, 6, 30, 0, 50)], dtype=object),\n",
       " 'value': array([   0.,    0.,    0., ...,  100.,  100.,  100.])}"
      ]
     },
     "execution_count": 14,
     "metadata": {},
     "output_type": "execute_result"
    }
   ],
   "source": [
    "data_dictionary = Preprocess.interpolation(data_dictionary)\n",
    "\n",
    "data_dictionary"
   ]
  },
  {
   "cell_type": "code",
   "execution_count": 12,
   "metadata": {
    "collapsed": false
   },
   "outputs": [
    {
     "data": {
      "image/png": "[encoded data removed]",
      "text/plain": [
       "<matplotlib.figure.Figure at 0x10a29f350>"
      ]
     },
     "metadata": {},
     "output_type": "display_data"
    }
   ],
   "source": [
    "Graph.Show.dic2graph(data_dictionary)"
   ]
  },
  {
   "cell_type": "markdown",
   "metadata": {},
   "source": [
    "---\n",
    "위 preprocessing 과정을 통해 data를 분석하기 위한 준비과정이 완료되었음\n"
   ]
  }
 ],
 "metadata": {
  "kernelspec": {
   "display_name": "Python 2",
   "language": "python",
   "name": "python2"
  },
  "language_info": {
   "codemirror_mode": {
    "name": "ipython",
    "version": 2
   },
   "file_extension": ".py",
   "mimetype": "text/x-python",
   "name": "python",
   "nbconvert_exporter": "python",
   "pygments_lexer": "ipython2",
   "version": "2.7.11"
  }
 },
 "nbformat": 4,
 "nbformat_minor": 0
}
