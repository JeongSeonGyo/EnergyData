{
 "cells": [
  {
   "cell_type": "code",
   "execution_count": 1,
   "metadata": {
    "collapsed": false
   },
   "outputs": [
    {
     "name": "stderr",
     "output_type": "stream",
     "text": [
      "/Users/JH/Documents/GitHub/EnergyData_jhyun/energy_data_venv/lib/python2.7/site-packages/matplotlib/font_manager.py:273: UserWarning: Matplotlib is building the font cache using fc-list. This may take a moment.\n",
      "  warnings.warn('Matplotlib is building the font cache using fc-list. This may take a moment.')\n"
     ]
    }
   ],
   "source": [
    "from utils import Preprocess\n",
    "from utils import FileIO\n",
    "from utils import GlobalParameter\n",
    "import os\n",
    "import time"
   ]
  },
  {
   "cell_type": "code",
   "execution_count": 2,
   "metadata": {
    "collapsed": false
   },
   "outputs": [
    {
     "data": {
      "text/plain": [
       "'/Users/JH/Documents/GitHub/EnergyData_jhyun/repository/VTT'"
      ]
     },
     "execution_count": 2,
     "metadata": {},
     "output_type": "execute_result"
    }
   ],
   "source": [
    "file_list_path = os.path.join(GlobalParameter.Repository_Path, 'VTT')\n",
    "file_list_path"
   ]
  },
  {
   "cell_type": "code",
   "execution_count": 3,
   "metadata": {
    "collapsed": false
   },
   "outputs": [
    {
     "data": {
      "text/plain": [
       "['/Users/JH/Documents/GitHub/EnergyData_jhyun/repository/VTT/VTT_GW1_HA10_VM_EP_KV_K.bin',\n",
       " '/Users/JH/Documents/GitHub/EnergyData_jhyun/repository/VTT/VTT_GW1_HA10_VM_KV_K.bin',\n",
       " '/Users/JH/Documents/GitHub/EnergyData_jhyun/repository/VTT/VTT_GW1_HA10_VM_KV_KAM.bin',\n",
       " '/Users/JH/Documents/GitHub/EnergyData_jhyun/repository/VTT/VTT_GW1_HA11_VM_EP_KV_K.bin',\n",
       " '/Users/JH/Documents/GitHub/EnergyData_jhyun/repository/VTT/VTT_GW1_HA11_VM_KV_K.bin',\n",
       " '/Users/JH/Documents/GitHub/EnergyData_jhyun/repository/VTT/VTT_GW1_HA11_VM_KV_KAM.bin',\n",
       " '/Users/JH/Documents/GitHub/EnergyData_jhyun/repository/VTT/VTT_GW2_HA4_VM_EP_KV_K.bin',\n",
       " '/Users/JH/Documents/GitHub/EnergyData_jhyun/repository/VTT/VTT_GW2_HA4_VM_KV_K.bin',\n",
       " '/Users/JH/Documents/GitHub/EnergyData_jhyun/repository/VTT/VTT_GW2_HA4_VM_KV_KAM.bin']"
      ]
     },
     "execution_count": 3,
     "metadata": {},
     "output_type": "execute_result"
    }
   ],
   "source": [
    "file_list = FileIO.Load.load_filelist(file_list_path)\n",
    "file_list"
   ]
  },
  {
   "cell_type": "code",
   "execution_count": 4,
   "metadata": {
    "collapsed": false
   },
   "outputs": [
    {
     "name": "stdout",
     "output_type": "stream",
     "text": [
      "preprocessing file name:  VTT_GW1_HA10_VM_EP_KV_K.bin\trun_time: 4.96242213249 sec\n",
      "preprocessing file name:  VTT_GW1_HA10_VM_KV_K.bin\trun_time: 6.92030382156 sec\n",
      "preprocessing file name:  VTT_GW1_HA10_VM_KV_KAM.bin\trun_time: 7.32190799713 sec\n",
      "preprocessing file name:  VTT_GW1_HA11_VM_EP_KV_K.bin\trun_time: 4.39775490761 sec\n",
      "preprocessing file name:  VTT_GW1_HA11_VM_KV_K.bin\trun_time: 7.22514200211 sec\n",
      "preprocessing file name:  VTT_GW1_HA11_VM_KV_KAM.bin\trun_time: 6.69666314125 sec\n",
      "preprocessing file name:  VTT_GW2_HA4_VM_EP_KV_K.bin\trun_time: 4.64002108574 sec\n",
      "preprocessing file name:  VTT_GW2_HA4_VM_KV_K.bin\trun_time: 7.05392503738 sec\n",
      "preprocessing file name:  VTT_GW2_HA4_VM_KV_KAM.bin\trun_time: 6.72928500175 sec\n"
     ]
    }
   ],
   "source": [
    "for file in file_list:\n",
    "    file_name = file.rsplit('/', 1)[-1]\n",
    "    print 'preprocessing file name: ',\n",
    "    print file_name + '\\t', \n",
    "    \n",
    "    start_time = time.time()\n",
    "    FileIO.Save.preprocessed_data2bin_file(Preprocess.data_preprocess(file))\n",
    "    end_time = time.time()\n",
    "    run_time = end_time - start_time\n",
    "    print 'run_time: ' + str(run_time) + ' sec'"
   ]
  },
  {
   "cell_type": "code",
   "execution_count": null,
   "metadata": {
    "collapsed": true
   },
   "outputs": [],
   "source": []
  }
 ],
 "metadata": {
  "kernelspec": {
   "display_name": "Python 2",
   "language": "python",
   "name": "python2"
  },
  "language_info": {
   "codemirror_mode": {
    "name": "ipython",
    "version": 2
   },
   "file_extension": ".py",
   "mimetype": "text/x-python",
   "name": "python",
   "nbconvert_exporter": "python",
   "pygments_lexer": "ipython2",
   "version": "2.7.11"
  }
 },
 "nbformat": 4,
 "nbformat_minor": 0
}
