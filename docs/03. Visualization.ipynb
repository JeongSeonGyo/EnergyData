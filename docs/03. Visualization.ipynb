{
 "cells": [
  {
   "cell_type": "markdown",
   "metadata": {
    "collapsed": true
   },
   "source": [
    "# Visualization\n",
    "\n",
    "---\n",
    "\n",
    "<img src=\"https://raw.githubusercontent.com/jhyun0919/EnergyData_jhyun/master/docs/images/bluprint_visualization.jpg\" alt=\"Drawing\" style=\"width: 800px;\"/>\n",
    "\n",
    "## 개요\n",
    "\n",
    "* "
   ]
  },
  {
   "cell_type": "markdown",
   "metadata": {},
   "source": [
    "---\n",
    "# 01. "
   ]
  },
  {
   "cell_type": "code",
   "execution_count": 1,
   "metadata": {
    "collapsed": true
   },
   "outputs": [],
   "source": [
    "from utils import Visualization\n",
    "from utils import GlobalParameter"
   ]
  },
  {
   "cell_type": "markdown",
   "metadata": {},
   "source": [
    "---\n",
    "### 01-01. Heat Map"
   ]
  },
  {
   "cell_type": "code",
   "execution_count": 2,
   "metadata": {
    "collapsed": false
   },
   "outputs": [
    {
     "name": "stdout",
     "output_type": "stream",
     "text": [
      "> HeatMap\n",
      "setting value data tsv file\n",
      "setting row label tsv file\n",
      "setting column label tsv file\n",
      "setting clusters tsv file\n"
     ]
    }
   ],
   "source": [
    "Visualization.HeatMap.set_data(time_interval=GlobalParameter.TimeInterval, \n",
    "                               refined_type=GlobalParameter.FullyPreprocessedPath)"
   ]
  },
  {
   "cell_type": "markdown",
   "metadata": {
    "collapsed": true
   },
   "source": [
    "---\n",
    "### 01-02. Network"
   ]
  },
  {
   "cell_type": "code",
   "execution_count": 3,
   "metadata": {
    "collapsed": false
   },
   "outputs": [
    {
     "name": "stdout",
     "output_type": "stream",
     "text": [
      "> Network [under construction]\n",
      "setting clusters\n",
      "affinity propagation clusters\n",
      "estimated number of clusters: 7\n",
      "cluster 1: VTT_GW1_HA10_VM_EP_KV_K.bin\n",
      "cluster 2: VTT_GW1_HA10_VM_KV_K.bin, VTT_GW1_HA11_VM_EP_KV_K.bin, VTT_GW1_HA11_VM_KV_K.bin, VTT_GW2_HA4_VM_KV_K.bin\n",
      "cluster 3: VTT_GW1_HA11_VM_KV_KAM.bin\n",
      "cluster 4: VTT_GW1_HA10_VM_KV_KAM.bin, VTT_GW1_KIINT_KV_KAM.bin, VTT_GW1_KIINT_KV_KO_KAM.bin\n",
      "cluster 5: VTT_GW1_TAVOIT_KV_KAM.bin, VTT_GW2_HA35_VM_EP_KV_K.bin, VTT_GW2_HA35_VM_KV_K.bin\n",
      "cluster 6: VTT_GW2_HA4_VM_EP_KV_K.bin\n",
      "cluster 7: VTT_GW2_HA31_VM_KV_K.bin, VTT_GW2_HA35_VM_KV_KAM.bin, VTT_GW2_HA4_VM_KV_KAM.bin\n",
      "setting graph figure\n",
      "raw data graph\n",
      "drawing : VTT_GW1_HA10_VM_EP_KV_K\n",
      "drawing : VTT_GW1_HA10_VM_KV_K\n",
      "drawing : VTT_GW1_HA10_VM_KV_KAM\n",
      "drawing : VTT_GW1_HA11_VM_EP_KV_K\n",
      "drawing : VTT_GW1_HA11_VM_KV_K\n",
      "drawing : VTT_GW1_HA11_VM_KV_KAM\n",
      "drawing : VTT_GW1_KIINT_KV_KAM\n",
      "drawing : VTT_GW1_KIINT_KV_KO_KAM\n",
      "drawing : VTT_GW1_TAVOIT_KV_KAM\n",
      "drawing : VTT_GW2_HA31_VM_KV_K\n",
      "drawing : VTT_GW2_HA35_VM_EP_KV_K\n",
      "drawing : VTT_GW2_HA35_VM_KV_K\n",
      "drawing : VTT_GW2_HA35_VM_KV_KAM\n",
      "drawing : VTT_GW2_HA4_VM_EP_KV_K\n",
      "drawing : VTT_GW2_HA4_VM_KV_K\n",
      "drawing : VTT_GW2_HA4_VM_KV_KAM\n",
      "refined data graph\n",
      "drawing : VTT_GW1_HA10_VM_EP_KV_K\n",
      "drawing : VTT_GW1_HA10_VM_KV_K\n",
      "drawing : VTT_GW1_HA10_VM_KV_KAM\n",
      "drawing : VTT_GW1_HA11_VM_EP_KV_K\n",
      "drawing : VTT_GW1_HA11_VM_KV_K\n",
      "drawing : VTT_GW1_HA11_VM_KV_KAM\n",
      "drawing : VTT_GW1_KIINT_KV_KAM\n",
      "drawing : VTT_GW1_KIINT_KV_KO_KAM\n",
      "drawing : VTT_GW1_TAVOIT_KV_KAM\n",
      "drawing : VTT_GW2_HA31_VM_KV_K\n",
      "drawing : VTT_GW2_HA35_VM_EP_KV_K\n",
      "drawing : VTT_GW2_HA35_VM_KV_K\n",
      "drawing : VTT_GW2_HA35_VM_KV_KAM\n",
      "drawing : VTT_GW2_HA4_VM_EP_KV_K\n",
      "drawing : VTT_GW2_HA4_VM_KV_K\n",
      "drawing : VTT_GW2_HA4_VM_KV_KAM\n"
     ]
    }
   ],
   "source": [
    "Visualization.Network.set_data(time_interval=GlobalParameter.TimeInterval, \n",
    "                               refined_type=GlobalParameter.FullyPreprocessedPath)"
   ]
  },
  {
   "cell_type": "markdown",
   "metadata": {
    "collapsed": true
   },
   "source": [
    "---\n",
    "# 02.  A Command line to Set Data for Visualization"
   ]
  },
  {
   "cell_type": "code",
   "execution_count": 4,
   "metadata": {
    "collapsed": false
   },
   "outputs": [
    {
     "name": "stdout",
     "output_type": "stream",
     "text": [
      "\n",
      "Set Data for Visualization\n",
      "> HeatMap\n",
      "setting value data tsv file\n",
      "setting row label tsv file\n",
      "setting column label tsv file\n",
      "setting clusters tsv file\n",
      "> Network [under construction]\n",
      "setting clusters\n",
      "affinity propagation clusters\n",
      "estimated number of clusters: 7\n",
      "cluster 1: VTT_GW1_HA10_VM_EP_KV_K.bin\n",
      "cluster 2: VTT_GW1_HA10_VM_KV_K.bin, VTT_GW1_HA11_VM_EP_KV_K.bin, VTT_GW1_HA11_VM_KV_K.bin, VTT_GW2_HA4_VM_KV_K.bin\n",
      "cluster 3: VTT_GW1_HA11_VM_KV_KAM.bin\n",
      "cluster 4: VTT_GW1_HA10_VM_KV_KAM.bin, VTT_GW1_KIINT_KV_KAM.bin, VTT_GW1_KIINT_KV_KO_KAM.bin\n",
      "cluster 5: VTT_GW1_TAVOIT_KV_KAM.bin, VTT_GW2_HA35_VM_EP_KV_K.bin, VTT_GW2_HA35_VM_KV_K.bin\n",
      "cluster 6: VTT_GW2_HA4_VM_EP_KV_K.bin\n",
      "cluster 7: VTT_GW2_HA31_VM_KV_K.bin, VTT_GW2_HA35_VM_KV_KAM.bin, VTT_GW2_HA4_VM_KV_KAM.bin\n",
      "setting graph figure\n",
      "raw data graph\n",
      "drawing : VTT_GW1_HA10_VM_EP_KV_K\n",
      "drawing : VTT_GW1_HA10_VM_KV_K\n",
      "drawing : VTT_GW1_HA10_VM_KV_KAM\n",
      "drawing : VTT_GW1_HA11_VM_EP_KV_K\n",
      "drawing : VTT_GW1_HA11_VM_KV_K\n",
      "drawing : VTT_GW1_HA11_VM_KV_KAM\n",
      "drawing : VTT_GW1_KIINT_KV_KAM\n",
      "drawing : VTT_GW1_KIINT_KV_KO_KAM\n",
      "drawing : VTT_GW1_TAVOIT_KV_KAM\n",
      "drawing : VTT_GW2_HA31_VM_KV_K\n",
      "drawing : VTT_GW2_HA35_VM_EP_KV_K\n",
      "drawing : VTT_GW2_HA35_VM_KV_K\n",
      "drawing : VTT_GW2_HA35_VM_KV_KAM\n",
      "drawing : VTT_GW2_HA4_VM_EP_KV_K\n",
      "drawing : VTT_GW2_HA4_VM_KV_K\n",
      "drawing : VTT_GW2_HA4_VM_KV_KAM\n",
      "refined data graph\n",
      "drawing : VTT_GW1_HA10_VM_EP_KV_K\n",
      "drawing : VTT_GW1_HA10_VM_KV_K\n",
      "drawing : VTT_GW1_HA10_VM_KV_KAM\n",
      "drawing : VTT_GW1_HA11_VM_EP_KV_K\n",
      "drawing : VTT_GW1_HA11_VM_KV_K\n",
      "drawing : VTT_GW1_HA11_VM_KV_KAM\n",
      "drawing : VTT_GW1_KIINT_KV_KAM\n",
      "drawing : VTT_GW1_KIINT_KV_KO_KAM\n",
      "drawing : VTT_GW1_TAVOIT_KV_KAM\n",
      "drawing : VTT_GW2_HA31_VM_KV_K\n",
      "drawing : VTT_GW2_HA35_VM_EP_KV_K\n",
      "drawing : VTT_GW2_HA35_VM_KV_K\n",
      "drawing : VTT_GW2_HA35_VM_KV_KAM\n",
      "drawing : VTT_GW2_HA4_VM_EP_KV_K\n",
      "drawing : VTT_GW2_HA4_VM_KV_K\n",
      "drawing : VTT_GW2_HA4_VM_KV_KAM\n"
     ]
    }
   ],
   "source": [
    "Visualization.set_data4visualization(time_interval=GlobalParameter.TimeInterval, \n",
    "                                     refined_type=GlobalParameter.FullyPreprocessedPath)"
   ]
  },
  {
   "cell_type": "code",
   "execution_count": null,
   "metadata": {
    "collapsed": true
   },
   "outputs": [],
   "source": []
  }
 ],
 "metadata": {
  "kernelspec": {
   "display_name": "Python 2",
   "language": "python",
   "name": "python2"
  },
  "language_info": {
   "codemirror_mode": {
    "name": "ipython",
    "version": 2
   },
   "file_extension": ".py",
   "mimetype": "text/x-python",
   "name": "python",
   "nbconvert_exporter": "python",
   "pygments_lexer": "ipython2",
   "version": "2.7.12"
  }
 },
 "nbformat": 4,
 "nbformat_minor": 0
}
