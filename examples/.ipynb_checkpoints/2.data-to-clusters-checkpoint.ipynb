{
 "cells": [
  {
   "cell_type": "code",
   "execution_count": 1,
   "metadata": {
    "collapsed": false
   },
   "outputs": [
    {
     "name": "stderr",
     "output_type": "stream",
     "text": [
      "/Users/JH/Documents/GitHub/EnergyData_jhyun/energy_data_venv/lib/python2.7/site-packages/matplotlib/font_manager.py:273: UserWarning: Matplotlib is building the font cache using fc-list. This may take a moment.\n",
      "  warnings.warn('Matplotlib is building the font cache using fc-list. This may take a moment.')\n"
     ]
    }
   ],
   "source": [
    "from utils import Cluster\n",
    "from utils import Data2Vec\n",
    "from utils import LoadData\n",
    "from utils import SaveData"
   ]
  },
  {
   "cell_type": "code",
   "execution_count": 2,
   "metadata": {
    "collapsed": true
   },
   "outputs": [],
   "source": [
    "# get directory path\n",
    "abs_path = LoadData.get_directory('/Users/JH/Documents/GitHub/EnergyData_jhyun/utils/VTT/')"
   ]
  },
  {
   "cell_type": "code",
   "execution_count": 3,
   "metadata": {
    "collapsed": true
   },
   "outputs": [],
   "source": [
    "# make a list of files from the path\n",
    "file_list = LoadData.load_file(abs_path)"
   ]
  },
  {
   "cell_type": "code",
   "execution_count": 4,
   "metadata": {
    "collapsed": false
   },
   "outputs": [
    {
     "name": "stdout",
     "output_type": "stream",
     "text": [
      "data2vector /Users/JH/Documents/GitHub/EnergyData_jhyun/utils/VTT/VTT_GW1_HA10_VM_EP_KV_K.bin \trun time: 0.913125991821\n",
      "data2vector /Users/JH/Documents/GitHub/EnergyData_jhyun/utils/VTT/VTT_GW1_HA10_VM_KV_K.bin \trun time: 0.975747823715\n",
      "data2vector /Users/JH/Documents/GitHub/EnergyData_jhyun/utils/VTT/VTT_GW1_HA10_VM_KV_KAM.bin \trun time: 0.89590382576\n",
      "data2vector /Users/JH/Documents/GitHub/EnergyData_jhyun/utils/VTT/VTT_GW1_HA11_VM_EP_KV_K.bin \trun time: 1.09714102745\n",
      "data2vector /Users/JH/Documents/GitHub/EnergyData_jhyun/utils/VTT/VTT_GW1_HA11_VM_KV_K.bin \trun time: 1.0776219368\n",
      "data2vector /Users/JH/Documents/GitHub/EnergyData_jhyun/utils/VTT/VTT_GW1_HA11_VM_KV_KAM.bin \trun time: 0.908668994904\n",
      "data2vector /Users/JH/Documents/GitHub/EnergyData_jhyun/utils/VTT/VTT_GW1_HA12_VM_EP_KV_K.bin \trun time: 0.871579885483\n",
      "data2vector /Users/JH/Documents/GitHub/EnergyData_jhyun/utils/VTT/VTT_GW1_HA12_VM_KV_K.bin \trun time: 0.975038051605\n",
      "data2vector /Users/JH/Documents/GitHub/EnergyData_jhyun/utils/VTT/VTT_GW1_HA12_VM_KV_KAM.bin \trun time: 0.887835979462\n",
      "data2vector /Users/JH/Documents/GitHub/EnergyData_jhyun/utils/VTT/VTT_GW1_HA13_VM_EP_KV_K.bin \trun time: 0.857599973679\n",
      "data2vector /Users/JH/Documents/GitHub/EnergyData_jhyun/utils/VTT/VTT_GW1_HA13_VM_KV_K.bin \trun time: 0.931510925293\n",
      "data2vector /Users/JH/Documents/GitHub/EnergyData_jhyun/utils/VTT/VTT_GW1_HA13_VM_KV_KAM.bin \trun time: 0.878473997116\n",
      "data2vector /Users/JH/Documents/GitHub/EnergyData_jhyun/utils/VTT/VTT_GW1_HA1_VM_EP_KV_K.bin \trun time: 0.871184110641\n",
      "data2vector /Users/JH/Documents/GitHub/EnergyData_jhyun/utils/VTT/VTT_GW1_HA1_VM_KV_K.bin \trun time: 0.997396945953\n",
      "data2vector /Users/JH/Documents/GitHub/EnergyData_jhyun/utils/VTT/VTT_GW1_HA1_VM_KV_KAM.bin \trun time: 0.860597848892\n",
      "data2vector /Users/JH/Documents/GitHub/EnergyData_jhyun/utils/VTT/VTT_GW1_HA2_VM_EP_KV_K.bin \trun time: 0.815638780594\n",
      "data2vector /Users/JH/Documents/GitHub/EnergyData_jhyun/utils/VTT/VTT_GW1_HA2_VM_KV_K.bin \trun time: 0.941709041595\n",
      "data2vector /Users/JH/Documents/GitHub/EnergyData_jhyun/utils/VTT/VTT_GW1_HA2_VM_KV_KAM.bin \trun time: 0.870412111282\n",
      "data2vector /Users/JH/Documents/GitHub/EnergyData_jhyun/utils/VTT/VTT_GW1_HA3_VM_EP_KV_K.bin \trun time: 0.860783100128\n",
      "data2vector /Users/JH/Documents/GitHub/EnergyData_jhyun/utils/VTT/VTT_GW1_HA3_VM_KV_K.bin \trun time: 0.938827991486\n",
      "data2vector /Users/JH/Documents/GitHub/EnergyData_jhyun/utils/VTT/VTT_GW1_HA3_VM_KV_KAM.bin \trun time: 0.878244876862\n"
     ]
    }
   ],
   "source": [
    "# convert files to vector dictionary\n",
    "vector_dic = Data2Vec.bins2vectors2dic(file_list)"
   ]
  },
  {
   "cell_type": "code",
   "execution_count": 5,
   "metadata": {
    "collapsed": false
   },
   "outputs": [],
   "source": [
    "clusters = Cluster.affinity_propagation(vector_dic)"
   ]
  },
  {
   "cell_type": "code",
   "execution_count": 6,
   "metadata": {
    "collapsed": false
   },
   "outputs": [],
   "source": [
    "cluster_structure = Cluster.make_cluster_structure(vector_dic, clusters)"
   ]
  },
  {
   "cell_type": "code",
   "execution_count": 7,
   "metadata": {
    "collapsed": false
   },
   "outputs": [
    {
     "name": "stdout",
     "output_type": "stream",
     "text": [
      "{'file_name': array([ '/Users/JH/Documents/GitHub/EnergyData_jhyun/utils/VTT/VTT_GW1_HA10_VM_EP_KV_K.bin',\n",
      "       '/Users/JH/Documents/GitHub/EnergyData_jhyun/utils/VTT/VTT_GW1_HA10_VM_KV_K.bin',\n",
      "       '/Users/JH/Documents/GitHub/EnergyData_jhyun/utils/VTT/VTT_GW1_HA10_VM_KV_KAM.bin',\n",
      "       '/Users/JH/Documents/GitHub/EnergyData_jhyun/utils/VTT/VTT_GW1_HA11_VM_EP_KV_K.bin',\n",
      "       '/Users/JH/Documents/GitHub/EnergyData_jhyun/utils/VTT/VTT_GW1_HA11_VM_KV_K.bin',\n",
      "       '/Users/JH/Documents/GitHub/EnergyData_jhyun/utils/VTT/VTT_GW1_HA11_VM_KV_KAM.bin',\n",
      "       '/Users/JH/Documents/GitHub/EnergyData_jhyun/utils/VTT/VTT_GW1_HA12_VM_EP_KV_K.bin',\n",
      "       '/Users/JH/Documents/GitHub/EnergyData_jhyun/utils/VTT/VTT_GW1_HA12_VM_KV_K.bin',\n",
      "       '/Users/JH/Documents/GitHub/EnergyData_jhyun/utils/VTT/VTT_GW1_HA12_VM_KV_KAM.bin',\n",
      "       '/Users/JH/Documents/GitHub/EnergyData_jhyun/utils/VTT/VTT_GW1_HA13_VM_EP_KV_K.bin',\n",
      "       '/Users/JH/Documents/GitHub/EnergyData_jhyun/utils/VTT/VTT_GW1_HA13_VM_KV_K.bin',\n",
      "       '/Users/JH/Documents/GitHub/EnergyData_jhyun/utils/VTT/VTT_GW1_HA13_VM_KV_KAM.bin',\n",
      "       '/Users/JH/Documents/GitHub/EnergyData_jhyun/utils/VTT/VTT_GW1_HA1_VM_EP_KV_K.bin',\n",
      "       '/Users/JH/Documents/GitHub/EnergyData_jhyun/utils/VTT/VTT_GW1_HA1_VM_KV_K.bin',\n",
      "       '/Users/JH/Documents/GitHub/EnergyData_jhyun/utils/VTT/VTT_GW1_HA1_VM_KV_KAM.bin',\n",
      "       '/Users/JH/Documents/GitHub/EnergyData_jhyun/utils/VTT/VTT_GW1_HA2_VM_EP_KV_K.bin',\n",
      "       '/Users/JH/Documents/GitHub/EnergyData_jhyun/utils/VTT/VTT_GW1_HA2_VM_KV_K.bin',\n",
      "       '/Users/JH/Documents/GitHub/EnergyData_jhyun/utils/VTT/VTT_GW1_HA2_VM_KV_KAM.bin',\n",
      "       '/Users/JH/Documents/GitHub/EnergyData_jhyun/utils/VTT/VTT_GW1_HA3_VM_EP_KV_K.bin',\n",
      "       '/Users/JH/Documents/GitHub/EnergyData_jhyun/utils/VTT/VTT_GW1_HA3_VM_KV_K.bin',\n",
      "       '/Users/JH/Documents/GitHub/EnergyData_jhyun/utils/VTT/VTT_GW1_HA3_VM_KV_KAM.bin'], \n",
      "      dtype='|S81'), 'cluster_tag': array([0, 0, 3, 1, 1, 3, 2, 2, 3, 4, 5, 3, 4, 4, 3, 4, 4, 3, 5, 5, 3]), 'vec_data': array([[  0,   0,   0, ...,  96,  96,  98],\n",
      "       [ 11,  12,  12, ...,  96,  96,  98],\n",
      "       [  0,   0,   0, ...,   0,   0,   1],\n",
      "       ..., \n",
      "       [  0,   0,   0, ...,  98, 100, 100],\n",
      "       [ 12,  16,  18, ...,  98, 100, 100],\n",
      "       [  0,   0,   0, ...,   1,   0,   0]])}\n"
     ]
    }
   ],
   "source": [
    "print cluster_structure"
   ]
  },
  {
   "cell_type": "code",
   "execution_count": 9,
   "metadata": {
    "collapsed": false
   },
   "outputs": [],
   "source": [
    "SaveData.cluster_structure2bin(abs_path, cluster_structure)"
   ]
  },
  {
   "cell_type": "code",
   "execution_count": null,
   "metadata": {
    "collapsed": true
   },
   "outputs": [],
   "source": []
  }
 ],
 "metadata": {
  "kernelspec": {
   "display_name": "Python 2",
   "language": "python",
   "name": "python2"
  },
  "language_info": {
   "codemirror_mode": {
    "name": "ipython",
    "version": 2
   },
   "file_extension": ".py",
   "mimetype": "text/x-python",
   "name": "python",
   "nbconvert_exporter": "python",
   "pygments_lexer": "ipython2",
   "version": "2.7.11"
  }
 },
 "nbformat": 4,
 "nbformat_minor": 0
}
