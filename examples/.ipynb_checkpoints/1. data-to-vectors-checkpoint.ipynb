{
 "cells": [
  {
   "cell_type": "code",
   "execution_count": 1,
   "metadata": {
    "collapsed": false
   },
   "outputs": [
    {
     "name": "stderr",
     "output_type": "stream",
     "text": [
      "/Users/JH/Documents/GitHub/EnergyData_jhyun/energy_data_venv/lib/python2.7/site-packages/matplotlib/font_manager.py:273: UserWarning: Matplotlib is building the font cache using fc-list. This may take a moment.\n",
      "  warnings.warn('Matplotlib is building the font cache using fc-list. This may take a moment.')\n"
     ]
    }
   ],
   "source": [
    "from utils import LoadData\n",
    "from utils import SaveData\n",
    "from utils import Data2Vec"
   ]
  },
  {
   "cell_type": "code",
   "execution_count": 6,
   "metadata": {
    "collapsed": false
   },
   "outputs": [],
   "source": [
    "# get directory path\n",
    "abs_path = LoadData.get_directory('/Users/JH/Documents/GitHub/EnergyData_jhyun/utils/VTT/')"
   ]
  },
  {
   "cell_type": "code",
   "execution_count": 7,
   "metadata": {
    "collapsed": false
   },
   "outputs": [],
   "source": [
    "# make a list of files from the path\n",
    "file_list = LoadData.load_file(abs_path)"
   ]
  },
  {
   "cell_type": "code",
   "execution_count": 8,
   "metadata": {
    "collapsed": false
   },
   "outputs": [
    {
     "name": "stdout",
     "output_type": "stream",
     "text": [
      "data2vector /Users/JH/Documents/GitHub/EnergyData_jhyun/utils/VTT/VTT_GW1_HA10_VM_EP_KV_K.bin \trun time: 0.955986976624\n",
      "data2vector /Users/JH/Documents/GitHub/EnergyData_jhyun/utils/VTT/VTT_GW1_HA10_VM_KV_K.bin \trun time: 1.03228902817\n",
      "data2vector /Users/JH/Documents/GitHub/EnergyData_jhyun/utils/VTT/VTT_GW1_HA10_VM_KV_KAM.bin \trun time: 0.955540895462\n",
      "data2vector /Users/JH/Documents/GitHub/EnergyData_jhyun/utils/VTT/VTT_GW1_HA11_VM_EP_KV_K.bin \trun time: 0.882477998734\n",
      "data2vector /Users/JH/Documents/GitHub/EnergyData_jhyun/utils/VTT/VTT_GW1_HA11_VM_KV_K.bin \trun time: 1.06383109093\n",
      "data2vector /Users/JH/Documents/GitHub/EnergyData_jhyun/utils/VTT/VTT_GW1_HA11_VM_KV_KAM.bin \trun time: 0.901829957962\n",
      "data2vector /Users/JH/Documents/GitHub/EnergyData_jhyun/utils/VTT/VTT_GW1_HA12_VM_EP_KV_K.bin \trun time: 0.892565965652\n",
      "data2vector /Users/JH/Documents/GitHub/EnergyData_jhyun/utils/VTT/VTT_GW1_HA12_VM_KV_K.bin \trun time: 1.01311016083\n",
      "data2vector /Users/JH/Documents/GitHub/EnergyData_jhyun/utils/VTT/VTT_GW1_HA12_VM_KV_KAM.bin \trun time: 0.893841028214\n",
      "data2vector /Users/JH/Documents/GitHub/EnergyData_jhyun/utils/VTT/VTT_GW1_HA13_VM_EP_KV_K.bin \trun time: 0.894500017166\n",
      "data2vector /Users/JH/Documents/GitHub/EnergyData_jhyun/utils/VTT/VTT_GW1_HA13_VM_KV_K.bin \trun time: 1.15573310852\n",
      "data2vector /Users/JH/Documents/GitHub/EnergyData_jhyun/utils/VTT/VTT_GW1_HA13_VM_KV_KAM.bin \trun time: 0.917572021484\n",
      "data2vector /Users/JH/Documents/GitHub/EnergyData_jhyun/utils/VTT/VTT_GW1_HA1_VM_EP_KV_K.bin \trun time: 0.911364078522\n",
      "data2vector /Users/JH/Documents/GitHub/EnergyData_jhyun/utils/VTT/VTT_GW1_HA1_VM_KV_K.bin \trun time: 1.32784795761\n",
      "data2vector /Users/JH/Documents/GitHub/EnergyData_jhyun/utils/VTT/VTT_GW1_HA1_VM_KV_KAM.bin \trun time: 0.988854885101\n",
      "data2vector /Users/JH/Documents/GitHub/EnergyData_jhyun/utils/VTT/VTT_GW1_HA2_VM_EP_KV_K.bin \trun time: 0.893162965775\n",
      "data2vector /Users/JH/Documents/GitHub/EnergyData_jhyun/utils/VTT/VTT_GW1_HA2_VM_KV_K.bin \trun time: 0.999153137207\n",
      "data2vector /Users/JH/Documents/GitHub/EnergyData_jhyun/utils/VTT/VTT_GW1_HA2_VM_KV_KAM.bin \trun time: 0.893346071243\n",
      "data2vector /Users/JH/Documents/GitHub/EnergyData_jhyun/utils/VTT/VTT_GW1_HA3_VM_EP_KV_K.bin \trun time: 0.877810001373\n",
      "data2vector /Users/JH/Documents/GitHub/EnergyData_jhyun/utils/VTT/VTT_GW1_HA3_VM_KV_K.bin \trun time: 1.25174212456\n",
      "data2vector /Users/JH/Documents/GitHub/EnergyData_jhyun/utils/VTT/VTT_GW1_HA3_VM_KV_KAM.bin \trun time: 0.907060146332\n"
     ]
    }
   ],
   "source": [
    "# convert files to vector dictionary\n",
    "vector_dic = Data2Vec.bins2vectors2dic(file_list)"
   ]
  },
  {
   "cell_type": "code",
   "execution_count": 9,
   "metadata": {
    "collapsed": false
   },
   "outputs": [],
   "source": [
    "# save as bin file\n",
    "SaveData.dictionary2bin(abs_path, vector_dic)"
   ]
  },
  {
   "cell_type": "code",
   "execution_count": null,
   "metadata": {
    "collapsed": true
   },
   "outputs": [],
   "source": [
    "from utils import parsing_module\n",
    "\n"
   ]
  }
 ],
 "metadata": {
  "kernelspec": {
   "display_name": "Python 2",
   "language": "python",
   "name": "python2"
  },
  "language_info": {
   "codemirror_mode": {
    "name": "ipython",
    "version": 2
   },
   "file_extension": ".py",
   "mimetype": "text/x-python",
   "name": "python",
   "nbconvert_exporter": "python",
   "pygments_lexer": "ipython2",
   "version": "2.7.11"
  }
 },
 "nbformat": 4,
 "nbformat_minor": 0
}
