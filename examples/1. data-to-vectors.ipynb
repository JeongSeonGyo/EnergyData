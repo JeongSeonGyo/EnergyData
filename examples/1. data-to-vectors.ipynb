{
 "cells": [
  {
   "cell_type": "code",
   "execution_count": 1,
   "metadata": {
    "collapsed": false
   },
   "outputs": [
    {
     "name": "stderr",
     "output_type": "stream",
     "text": [
      "/Users/JH/Documents/GitHub/EnergyData_jhyun/energy_data_venv/lib/python2.7/site-packages/matplotlib/font_manager.py:273: UserWarning: Matplotlib is building the font cache using fc-list. This may take a moment.\n",
      "  warnings.warn('Matplotlib is building the font cache using fc-list. This may take a moment.')\n"
     ]
    }
   ],
   "source": [
    "from utils import LoadData\n",
    "from utils import SaveData\n",
    "from utils import Data2Vec"
   ]
  },
  {
   "cell_type": "code",
   "execution_count": 2,
   "metadata": {
    "collapsed": false
   },
   "outputs": [],
   "source": [
    "# get directory path\n",
    "abs_path = LoadData.get_directory('/Users/JH/Documents/GitHub/EnergyData_jhyun/utils/VTT/')"
   ]
  },
  {
   "cell_type": "code",
   "execution_count": 3,
   "metadata": {
    "collapsed": false
   },
   "outputs": [],
   "source": [
    "# make a list of files from the path\n",
    "file_list = LoadData.load_file(abs_path)"
   ]
  },
  {
   "cell_type": "code",
   "execution_count": 4,
   "metadata": {
    "collapsed": false
   },
   "outputs": [
    {
     "name": "stdout",
     "output_type": "stream",
     "text": [
      "data2vector /Users/JH/Documents/GitHub/EnergyData_jhyun/utils/VTT/VTT_GW1_HA10_VM_EP_KV_K.bin \trun time: 1.27694201469\n",
      "data2vector /Users/JH/Documents/GitHub/EnergyData_jhyun/utils/VTT/VTT_GW1_HA10_VM_KV_K.bin \trun time: 1.10596418381\n",
      "data2vector /Users/JH/Documents/GitHub/EnergyData_jhyun/utils/VTT/VTT_GW1_HA10_VM_KV_KAM.bin \trun time: 0.951948881149\n",
      "data2vector /Users/JH/Documents/GitHub/EnergyData_jhyun/utils/VTT/VTT_GW1_HA11_VM_EP_KV_K.bin \trun time: 1.01344799995\n",
      "data2vector /Users/JH/Documents/GitHub/EnergyData_jhyun/utils/VTT/VTT_GW1_HA11_VM_KV_K.bin \trun time: 1.28869485855\n",
      "data2vector /Users/JH/Documents/GitHub/EnergyData_jhyun/utils/VTT/VTT_GW1_HA11_VM_KV_KAM.bin \trun time: 0.929980993271\n",
      "data2vector /Users/JH/Documents/GitHub/EnergyData_jhyun/utils/VTT/VTT_GW1_HA12_VM_EP_KV_K.bin \trun time: 0.951152086258\n",
      "data2vector /Users/JH/Documents/GitHub/EnergyData_jhyun/utils/VTT/VTT_GW1_HA12_VM_KV_K.bin \trun time: 1.04273700714\n",
      "data2vector /Users/JH/Documents/GitHub/EnergyData_jhyun/utils/VTT/VTT_GW1_HA12_VM_KV_KAM.bin \trun time: 0.964492797852\n",
      "data2vector /Users/JH/Documents/GitHub/EnergyData_jhyun/utils/VTT/VTT_GW1_HA13_VM_EP_KV_K.bin \trun time: 0.991240024567\n",
      "data2vector /Users/JH/Documents/GitHub/EnergyData_jhyun/utils/VTT/VTT_GW1_HA13_VM_KV_K.bin \trun time: 1.15119385719\n",
      "data2vector /Users/JH/Documents/GitHub/EnergyData_jhyun/utils/VTT/VTT_GW1_HA13_VM_KV_KAM.bin \trun time: 0.951164007187\n",
      "data2vector /Users/JH/Documents/GitHub/EnergyData_jhyun/utils/VTT/VTT_GW1_HA1_VM_EP_KV_K.bin \trun time: 0.911052942276\n",
      "data2vector /Users/JH/Documents/GitHub/EnergyData_jhyun/utils/VTT/VTT_GW1_HA1_VM_KV_K.bin \trun time: 1.11053490639\n",
      "data2vector /Users/JH/Documents/GitHub/EnergyData_jhyun/utils/VTT/VTT_GW1_HA1_VM_KV_KAM.bin \trun time: 0.899561166763\n",
      "data2vector /Users/JH/Documents/GitHub/EnergyData_jhyun/utils/VTT/VTT_GW1_HA2_VM_EP_KV_K.bin \trun time: 0.86230301857\n",
      "data2vector /Users/JH/Documents/GitHub/EnergyData_jhyun/utils/VTT/VTT_GW1_HA2_VM_KV_K.bin \trun time: 0.973015069962\n",
      "data2vector /Users/JH/Documents/GitHub/EnergyData_jhyun/utils/VTT/VTT_GW1_HA2_VM_KV_KAM.bin \trun time: 0.973456859589\n",
      "data2vector /Users/JH/Documents/GitHub/EnergyData_jhyun/utils/VTT/VTT_GW1_HA3_VM_EP_KV_K.bin \trun time: 0.933876991272\n",
      "data2vector /Users/JH/Documents/GitHub/EnergyData_jhyun/utils/VTT/VTT_GW1_HA3_VM_KV_K.bin \trun time: 0.974565029144\n",
      "data2vector /Users/JH/Documents/GitHub/EnergyData_jhyun/utils/VTT/VTT_GW1_HA3_VM_KV_KAM.bin \trun time: 0.876043081284\n"
     ]
    }
   ],
   "source": [
    "# convert files to vector dictionary\n",
    "vector_dic = Data2Vec.bins2vectors2dic(file_list)"
   ]
  },
  {
   "cell_type": "code",
   "execution_count": 5,
   "metadata": {
    "collapsed": false
   },
   "outputs": [],
   "source": [
    "# save as bin file\n",
    "SaveData.dictionary2bin(abs_path, vector_dic)"
   ]
  },
  {
   "cell_type": "code",
   "execution_count": 6,
   "metadata": {
    "collapsed": false
   },
   "outputs": [],
   "source": [
    "from utils import parsing_module\n",
    "from utils import GlobalParam"
   ]
  },
  {
   "cell_type": "code",
   "execution_count": 7,
   "metadata": {
    "collapsed": false
   },
   "outputs": [
    {
     "name": "stdout",
     "output_type": "stream",
     "text": [
      "{'file_name': array([ '/Users/JH/Documents/GitHub/EnergyData_jhyun/utils/VTT/VTT_GW1_HA10_VM_EP_KV_K.bin',\n",
      "       '/Users/JH/Documents/GitHub/EnergyData_jhyun/utils/VTT/VTT_GW1_HA10_VM_KV_K.bin',\n",
      "       '/Users/JH/Documents/GitHub/EnergyData_jhyun/utils/VTT/VTT_GW1_HA10_VM_KV_KAM.bin',\n",
      "       '/Users/JH/Documents/GitHub/EnergyData_jhyun/utils/VTT/VTT_GW1_HA11_VM_EP_KV_K.bin',\n",
      "       '/Users/JH/Documents/GitHub/EnergyData_jhyun/utils/VTT/VTT_GW1_HA11_VM_KV_K.bin',\n",
      "       '/Users/JH/Documents/GitHub/EnergyData_jhyun/utils/VTT/VTT_GW1_HA11_VM_KV_KAM.bin',\n",
      "       '/Users/JH/Documents/GitHub/EnergyData_jhyun/utils/VTT/VTT_GW1_HA12_VM_EP_KV_K.bin',\n",
      "       '/Users/JH/Documents/GitHub/EnergyData_jhyun/utils/VTT/VTT_GW1_HA12_VM_KV_K.bin',\n",
      "       '/Users/JH/Documents/GitHub/EnergyData_jhyun/utils/VTT/VTT_GW1_HA12_VM_KV_KAM.bin',\n",
      "       '/Users/JH/Documents/GitHub/EnergyData_jhyun/utils/VTT/VTT_GW1_HA13_VM_EP_KV_K.bin',\n",
      "       '/Users/JH/Documents/GitHub/EnergyData_jhyun/utils/VTT/VTT_GW1_HA13_VM_KV_K.bin',\n",
      "       '/Users/JH/Documents/GitHub/EnergyData_jhyun/utils/VTT/VTT_GW1_HA13_VM_KV_KAM.bin',\n",
      "       '/Users/JH/Documents/GitHub/EnergyData_jhyun/utils/VTT/VTT_GW1_HA1_VM_EP_KV_K.bin',\n",
      "       '/Users/JH/Documents/GitHub/EnergyData_jhyun/utils/VTT/VTT_GW1_HA1_VM_KV_K.bin',\n",
      "       '/Users/JH/Documents/GitHub/EnergyData_jhyun/utils/VTT/VTT_GW1_HA1_VM_KV_KAM.bin',\n",
      "       '/Users/JH/Documents/GitHub/EnergyData_jhyun/utils/VTT/VTT_GW1_HA2_VM_EP_KV_K.bin',\n",
      "       '/Users/JH/Documents/GitHub/EnergyData_jhyun/utils/VTT/VTT_GW1_HA2_VM_KV_K.bin',\n",
      "       '/Users/JH/Documents/GitHub/EnergyData_jhyun/utils/VTT/VTT_GW1_HA2_VM_KV_KAM.bin',\n",
      "       '/Users/JH/Documents/GitHub/EnergyData_jhyun/utils/VTT/VTT_GW1_HA3_VM_EP_KV_K.bin',\n",
      "       '/Users/JH/Documents/GitHub/EnergyData_jhyun/utils/VTT/VTT_GW1_HA3_VM_KV_K.bin',\n",
      "       '/Users/JH/Documents/GitHub/EnergyData_jhyun/utils/VTT/VTT_GW1_HA3_VM_KV_KAM.bin'], \n",
      "      dtype='|S81'), 'vec_data': array([[  0,   0,   0, ...,  96,  96,  98],\n",
      "       [ 11,  12,  12, ...,  96,  96,  98],\n",
      "       [  0,   0,   0, ...,   0,   0,   1],\n",
      "       ..., \n",
      "       [  0,   0,   0, ...,  98, 100, 100],\n",
      "       [ 12,  16,  18, ...,  98, 100, 100],\n",
      "       [  0,   0,   0, ...,   1,   0,   0]])}\n"
     ]
    }
   ],
   "source": [
    "path = '/Users/JH/Documents/GitHub/EnergyData_jhyun/utils/VTT/results/vectorized_data_dim_'\n",
    "path = path + str(GlobalParam.VEC_DIMENSION)\n",
    "path = path + '.bin'\n",
    "    \n",
    "data = parsing_module.parsing(path)\n",
    "\n",
    "print data"
   ]
  },
  {
   "cell_type": "code",
   "execution_count": null,
   "metadata": {
    "collapsed": true
   },
   "outputs": [],
   "source": []
  }
 ],
 "metadata": {
  "kernelspec": {
   "display_name": "Python 2",
   "language": "python",
   "name": "python2"
  },
  "language_info": {
   "codemirror_mode": {
    "name": "ipython",
    "version": 2
   },
   "file_extension": ".py",
   "mimetype": "text/x-python",
   "name": "python",
   "nbconvert_exporter": "python",
   "pygments_lexer": "ipython2",
   "version": "2.7.11"
  }
 },
 "nbformat": 4,
 "nbformat_minor": 0
}
