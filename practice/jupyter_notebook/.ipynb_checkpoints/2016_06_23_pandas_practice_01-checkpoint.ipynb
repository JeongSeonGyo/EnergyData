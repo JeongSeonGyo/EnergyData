{
 "cells": [
  {
   "cell_type": "markdown",
   "metadata": {},
   "source": [
    "# pandas Dataframe\n",
    "\n",
    "* pd.Dataframe을 사용할 지 고민 중\n",
    "* python 내부에서 excel과 같은 강력한 역할을 수행함\n",
    "* 기능은 강력하나 메모리를 많이 잡아먹는 단점이 있음"
   ]
  },
  {
   "cell_type": "code",
   "execution_count": 1,
   "metadata": {
    "collapsed": true
   },
   "outputs": [],
   "source": [
    "import pandas as pd\n",
    "import numpy as np\n",
    "import cPickle as pickle"
   ]
  },
  {
   "cell_type": "code",
   "execution_count": 2,
   "metadata": {
    "collapsed": false
   },
   "outputs": [
    {
     "data": {
      "text/plain": [
       "{'ts': array([[datetime.datetime(2013, 4, 1, 23, 43, 16), 16, 43, ..., 0, 1, 4],\n",
       "        [datetime.datetime(2013, 4, 1, 23, 48, 16), 16, 48, ..., 0, 1, 4],\n",
       "        [datetime.datetime(2013, 4, 1, 23, 50, 32), 32, 50, ..., 0, 1, 4],\n",
       "        ..., \n",
       "        [datetime.datetime(2015, 6, 30, 0, 45, 22), 22, 45, ..., 1, 30, 6],\n",
       "        [datetime.datetime(2015, 6, 30, 0, 50, 22), 22, 50, ..., 1, 30, 6],\n",
       "        [datetime.datetime(2015, 6, 30, 0, 55, 22), 22, 55, ..., 1, 30, 6]], dtype=object),\n",
       " 'value': array([  3.40000000e+01,   3.40000000e+01,   3.40000000e+01, ...,\n",
       "          4.89360000e+04,   4.89360000e+04,   4.89360000e+04])}"
      ]
     },
     "execution_count": 2,
     "metadata": {},
     "output_type": "execute_result"
    }
   ],
   "source": [
    "file_path = '/Users/JH/Documents/GitHub/EnergyData_jhyun/repository/VTT/VTT_GW1_HA11_VM_KV_K.bin'\n",
    "\n",
    "data = pickle.load(open(file_path))\n",
    "data"
   ]
  },
  {
   "cell_type": "code",
   "execution_count": 3,
   "metadata": {
    "collapsed": false
   },
   "outputs": [
    {
     "data": {
      "text/html": [
       "<div>\n",
       "<table border=\"1\" class=\"dataframe\">\n",
       "  <thead>\n",
       "    <tr style=\"text-align: right;\">\n",
       "      <th></th>\n",
       "      <th>ts</th>\n",
       "      <th>value</th>\n",
       "    </tr>\n",
       "  </thead>\n",
       "  <tbody>\n",
       "    <tr>\n",
       "      <th>0</th>\n",
       "      <td>2013-04-01 23:43:16</td>\n",
       "      <td>34.0</td>\n",
       "    </tr>\n",
       "    <tr>\n",
       "      <th>1</th>\n",
       "      <td>2013-04-01 23:48:16</td>\n",
       "      <td>34.0</td>\n",
       "    </tr>\n",
       "    <tr>\n",
       "      <th>2</th>\n",
       "      <td>2013-04-01 23:50:32</td>\n",
       "      <td>34.0</td>\n",
       "    </tr>\n",
       "    <tr>\n",
       "      <th>3</th>\n",
       "      <td>2013-04-01 23:55:32</td>\n",
       "      <td>34.0</td>\n",
       "    </tr>\n",
       "    <tr>\n",
       "      <th>4</th>\n",
       "      <td>2013-04-02 00:00:32</td>\n",
       "      <td>34.0</td>\n",
       "    </tr>\n",
       "    <tr>\n",
       "      <th>5</th>\n",
       "      <td>2013-04-02 00:05:32</td>\n",
       "      <td>34.0</td>\n",
       "    </tr>\n",
       "    <tr>\n",
       "      <th>6</th>\n",
       "      <td>2013-04-02 00:10:32</td>\n",
       "      <td>34.0</td>\n",
       "    </tr>\n",
       "    <tr>\n",
       "      <th>7</th>\n",
       "      <td>2013-04-02 00:15:32</td>\n",
       "      <td>34.0</td>\n",
       "    </tr>\n",
       "    <tr>\n",
       "      <th>8</th>\n",
       "      <td>2013-04-02 00:20:32</td>\n",
       "      <td>34.0</td>\n",
       "    </tr>\n",
       "    <tr>\n",
       "      <th>9</th>\n",
       "      <td>2013-04-02 00:25:32</td>\n",
       "      <td>34.0</td>\n",
       "    </tr>\n",
       "    <tr>\n",
       "      <th>10</th>\n",
       "      <td>2013-04-02 00:30:32</td>\n",
       "      <td>34.0</td>\n",
       "    </tr>\n",
       "    <tr>\n",
       "      <th>11</th>\n",
       "      <td>2013-04-02 00:35:32</td>\n",
       "      <td>34.0</td>\n",
       "    </tr>\n",
       "    <tr>\n",
       "      <th>12</th>\n",
       "      <td>2013-04-02 00:40:32</td>\n",
       "      <td>34.0</td>\n",
       "    </tr>\n",
       "    <tr>\n",
       "      <th>13</th>\n",
       "      <td>2013-04-02 00:45:32</td>\n",
       "      <td>34.0</td>\n",
       "    </tr>\n",
       "    <tr>\n",
       "      <th>14</th>\n",
       "      <td>2013-04-02 00:50:32</td>\n",
       "      <td>34.0</td>\n",
       "    </tr>\n",
       "    <tr>\n",
       "      <th>15</th>\n",
       "      <td>2013-04-02 00:55:32</td>\n",
       "      <td>34.0</td>\n",
       "    </tr>\n",
       "    <tr>\n",
       "      <th>16</th>\n",
       "      <td>2013-04-01 23:43:16</td>\n",
       "      <td>34.0</td>\n",
       "    </tr>\n",
       "    <tr>\n",
       "      <th>17</th>\n",
       "      <td>2013-04-01 23:48:16</td>\n",
       "      <td>34.0</td>\n",
       "    </tr>\n",
       "    <tr>\n",
       "      <th>18</th>\n",
       "      <td>2013-04-01 23:50:32</td>\n",
       "      <td>34.0</td>\n",
       "    </tr>\n",
       "    <tr>\n",
       "      <th>19</th>\n",
       "      <td>2013-04-01 23:55:32</td>\n",
       "      <td>34.0</td>\n",
       "    </tr>\n",
       "    <tr>\n",
       "      <th>20</th>\n",
       "      <td>2013-04-02 00:00:32</td>\n",
       "      <td>34.0</td>\n",
       "    </tr>\n",
       "    <tr>\n",
       "      <th>21</th>\n",
       "      <td>2013-04-02 00:05:32</td>\n",
       "      <td>34.0</td>\n",
       "    </tr>\n",
       "    <tr>\n",
       "      <th>22</th>\n",
       "      <td>2013-04-02 00:10:32</td>\n",
       "      <td>34.0</td>\n",
       "    </tr>\n",
       "    <tr>\n",
       "      <th>23</th>\n",
       "      <td>2013-04-02 00:15:32</td>\n",
       "      <td>34.0</td>\n",
       "    </tr>\n",
       "    <tr>\n",
       "      <th>24</th>\n",
       "      <td>2013-04-02 00:20:32</td>\n",
       "      <td>34.0</td>\n",
       "    </tr>\n",
       "    <tr>\n",
       "      <th>25</th>\n",
       "      <td>2013-04-02 00:25:32</td>\n",
       "      <td>34.0</td>\n",
       "    </tr>\n",
       "    <tr>\n",
       "      <th>26</th>\n",
       "      <td>2013-04-02 00:30:32</td>\n",
       "      <td>34.0</td>\n",
       "    </tr>\n",
       "    <tr>\n",
       "      <th>27</th>\n",
       "      <td>2013-04-02 00:35:32</td>\n",
       "      <td>34.0</td>\n",
       "    </tr>\n",
       "    <tr>\n",
       "      <th>28</th>\n",
       "      <td>2013-04-02 00:40:32</td>\n",
       "      <td>34.0</td>\n",
       "    </tr>\n",
       "    <tr>\n",
       "      <th>29</th>\n",
       "      <td>2013-04-02 00:45:32</td>\n",
       "      <td>34.0</td>\n",
       "    </tr>\n",
       "    <tr>\n",
       "      <th>...</th>\n",
       "      <td>...</td>\n",
       "      <td>...</td>\n",
       "    </tr>\n",
       "    <tr>\n",
       "      <th>229836</th>\n",
       "      <td>2015-06-29 22:30:17</td>\n",
       "      <td>48936.0</td>\n",
       "    </tr>\n",
       "    <tr>\n",
       "      <th>229837</th>\n",
       "      <td>2015-06-29 22:35:17</td>\n",
       "      <td>48936.0</td>\n",
       "    </tr>\n",
       "    <tr>\n",
       "      <th>229838</th>\n",
       "      <td>2015-06-29 22:40:19</td>\n",
       "      <td>48936.0</td>\n",
       "    </tr>\n",
       "    <tr>\n",
       "      <th>229839</th>\n",
       "      <td>2015-06-29 22:45:19</td>\n",
       "      <td>48936.0</td>\n",
       "    </tr>\n",
       "    <tr>\n",
       "      <th>229840</th>\n",
       "      <td>2015-06-29 22:50:19</td>\n",
       "      <td>48936.0</td>\n",
       "    </tr>\n",
       "    <tr>\n",
       "      <th>229841</th>\n",
       "      <td>2015-06-29 22:55:19</td>\n",
       "      <td>48936.0</td>\n",
       "    </tr>\n",
       "    <tr>\n",
       "      <th>229842</th>\n",
       "      <td>2015-06-29 23:00:19</td>\n",
       "      <td>48936.0</td>\n",
       "    </tr>\n",
       "    <tr>\n",
       "      <th>229843</th>\n",
       "      <td>2015-06-29 23:05:19</td>\n",
       "      <td>48936.0</td>\n",
       "    </tr>\n",
       "    <tr>\n",
       "      <th>229844</th>\n",
       "      <td>2015-06-29 23:10:19</td>\n",
       "      <td>48936.0</td>\n",
       "    </tr>\n",
       "    <tr>\n",
       "      <th>229845</th>\n",
       "      <td>2015-06-29 23:15:19</td>\n",
       "      <td>48936.0</td>\n",
       "    </tr>\n",
       "    <tr>\n",
       "      <th>229846</th>\n",
       "      <td>2015-06-29 23:20:19</td>\n",
       "      <td>48936.0</td>\n",
       "    </tr>\n",
       "    <tr>\n",
       "      <th>229847</th>\n",
       "      <td>2015-06-29 23:25:19</td>\n",
       "      <td>48936.0</td>\n",
       "    </tr>\n",
       "    <tr>\n",
       "      <th>229848</th>\n",
       "      <td>2015-06-29 23:30:20</td>\n",
       "      <td>48936.0</td>\n",
       "    </tr>\n",
       "    <tr>\n",
       "      <th>229849</th>\n",
       "      <td>2015-06-29 23:35:20</td>\n",
       "      <td>48936.0</td>\n",
       "    </tr>\n",
       "    <tr>\n",
       "      <th>229850</th>\n",
       "      <td>2015-06-29 23:40:20</td>\n",
       "      <td>48936.0</td>\n",
       "    </tr>\n",
       "    <tr>\n",
       "      <th>229851</th>\n",
       "      <td>2015-06-29 23:45:20</td>\n",
       "      <td>48936.0</td>\n",
       "    </tr>\n",
       "    <tr>\n",
       "      <th>229852</th>\n",
       "      <td>2015-06-29 23:50:20</td>\n",
       "      <td>48936.0</td>\n",
       "    </tr>\n",
       "    <tr>\n",
       "      <th>229853</th>\n",
       "      <td>2015-06-29 23:55:20</td>\n",
       "      <td>48936.0</td>\n",
       "    </tr>\n",
       "    <tr>\n",
       "      <th>229854</th>\n",
       "      <td>2015-06-30 00:00:21</td>\n",
       "      <td>48936.0</td>\n",
       "    </tr>\n",
       "    <tr>\n",
       "      <th>229855</th>\n",
       "      <td>2015-06-30 00:05:21</td>\n",
       "      <td>48936.0</td>\n",
       "    </tr>\n",
       "    <tr>\n",
       "      <th>229856</th>\n",
       "      <td>2015-06-30 00:10:21</td>\n",
       "      <td>48936.0</td>\n",
       "    </tr>\n",
       "    <tr>\n",
       "      <th>229857</th>\n",
       "      <td>2015-06-30 00:15:21</td>\n",
       "      <td>48936.0</td>\n",
       "    </tr>\n",
       "    <tr>\n",
       "      <th>229858</th>\n",
       "      <td>2015-06-30 00:20:21</td>\n",
       "      <td>48936.0</td>\n",
       "    </tr>\n",
       "    <tr>\n",
       "      <th>229859</th>\n",
       "      <td>2015-06-30 00:25:21</td>\n",
       "      <td>48936.0</td>\n",
       "    </tr>\n",
       "    <tr>\n",
       "      <th>229860</th>\n",
       "      <td>2015-06-30 00:30:21</td>\n",
       "      <td>48936.0</td>\n",
       "    </tr>\n",
       "    <tr>\n",
       "      <th>229861</th>\n",
       "      <td>2015-06-30 00:35:22</td>\n",
       "      <td>48936.0</td>\n",
       "    </tr>\n",
       "    <tr>\n",
       "      <th>229862</th>\n",
       "      <td>2015-06-30 00:40:22</td>\n",
       "      <td>48936.0</td>\n",
       "    </tr>\n",
       "    <tr>\n",
       "      <th>229863</th>\n",
       "      <td>2015-06-30 00:45:22</td>\n",
       "      <td>48936.0</td>\n",
       "    </tr>\n",
       "    <tr>\n",
       "      <th>229864</th>\n",
       "      <td>2015-06-30 00:50:22</td>\n",
       "      <td>48936.0</td>\n",
       "    </tr>\n",
       "    <tr>\n",
       "      <th>229865</th>\n",
       "      <td>2015-06-30 00:55:22</td>\n",
       "      <td>48936.0</td>\n",
       "    </tr>\n",
       "  </tbody>\n",
       "</table>\n",
       "<p>229866 rows × 2 columns</p>\n",
       "</div>"
      ],
      "text/plain": [
       "                        ts    value\n",
       "0      2013-04-01 23:43:16     34.0\n",
       "1      2013-04-01 23:48:16     34.0\n",
       "2      2013-04-01 23:50:32     34.0\n",
       "3      2013-04-01 23:55:32     34.0\n",
       "4      2013-04-02 00:00:32     34.0\n",
       "5      2013-04-02 00:05:32     34.0\n",
       "6      2013-04-02 00:10:32     34.0\n",
       "7      2013-04-02 00:15:32     34.0\n",
       "8      2013-04-02 00:20:32     34.0\n",
       "9      2013-04-02 00:25:32     34.0\n",
       "10     2013-04-02 00:30:32     34.0\n",
       "11     2013-04-02 00:35:32     34.0\n",
       "12     2013-04-02 00:40:32     34.0\n",
       "13     2013-04-02 00:45:32     34.0\n",
       "14     2013-04-02 00:50:32     34.0\n",
       "15     2013-04-02 00:55:32     34.0\n",
       "16     2013-04-01 23:43:16     34.0\n",
       "17     2013-04-01 23:48:16     34.0\n",
       "18     2013-04-01 23:50:32     34.0\n",
       "19     2013-04-01 23:55:32     34.0\n",
       "20     2013-04-02 00:00:32     34.0\n",
       "21     2013-04-02 00:05:32     34.0\n",
       "22     2013-04-02 00:10:32     34.0\n",
       "23     2013-04-02 00:15:32     34.0\n",
       "24     2013-04-02 00:20:32     34.0\n",
       "25     2013-04-02 00:25:32     34.0\n",
       "26     2013-04-02 00:30:32     34.0\n",
       "27     2013-04-02 00:35:32     34.0\n",
       "28     2013-04-02 00:40:32     34.0\n",
       "29     2013-04-02 00:45:32     34.0\n",
       "...                    ...      ...\n",
       "229836 2015-06-29 22:30:17  48936.0\n",
       "229837 2015-06-29 22:35:17  48936.0\n",
       "229838 2015-06-29 22:40:19  48936.0\n",
       "229839 2015-06-29 22:45:19  48936.0\n",
       "229840 2015-06-29 22:50:19  48936.0\n",
       "229841 2015-06-29 22:55:19  48936.0\n",
       "229842 2015-06-29 23:00:19  48936.0\n",
       "229843 2015-06-29 23:05:19  48936.0\n",
       "229844 2015-06-29 23:10:19  48936.0\n",
       "229845 2015-06-29 23:15:19  48936.0\n",
       "229846 2015-06-29 23:20:19  48936.0\n",
       "229847 2015-06-29 23:25:19  48936.0\n",
       "229848 2015-06-29 23:30:20  48936.0\n",
       "229849 2015-06-29 23:35:20  48936.0\n",
       "229850 2015-06-29 23:40:20  48936.0\n",
       "229851 2015-06-29 23:45:20  48936.0\n",
       "229852 2015-06-29 23:50:20  48936.0\n",
       "229853 2015-06-29 23:55:20  48936.0\n",
       "229854 2015-06-30 00:00:21  48936.0\n",
       "229855 2015-06-30 00:05:21  48936.0\n",
       "229856 2015-06-30 00:10:21  48936.0\n",
       "229857 2015-06-30 00:15:21  48936.0\n",
       "229858 2015-06-30 00:20:21  48936.0\n",
       "229859 2015-06-30 00:25:21  48936.0\n",
       "229860 2015-06-30 00:30:21  48936.0\n",
       "229861 2015-06-30 00:35:22  48936.0\n",
       "229862 2015-06-30 00:40:22  48936.0\n",
       "229863 2015-06-30 00:45:22  48936.0\n",
       "229864 2015-06-30 00:50:22  48936.0\n",
       "229865 2015-06-30 00:55:22  48936.0\n",
       "\n",
       "[229866 rows x 2 columns]"
      ]
     },
     "execution_count": 3,
     "metadata": {},
     "output_type": "execute_result"
    }
   ],
   "source": [
    "df = pd.DataFrame()\n",
    "\n",
    "df['ts'] = data['ts'][:, 0]\n",
    "df['value'] = data['value']\n",
    "\n",
    "df"
   ]
  },
  {
   "cell_type": "code",
   "execution_count": 4,
   "metadata": {
    "collapsed": false
   },
   "outputs": [
    {
     "data": {
      "text/html": [
       "<div>\n",
       "<table border=\"1\" class=\"dataframe\">\n",
       "  <thead>\n",
       "    <tr style=\"text-align: right;\">\n",
       "      <th></th>\n",
       "      <th>ts</th>\n",
       "      <th>value</th>\n",
       "    </tr>\n",
       "  </thead>\n",
       "  <tbody>\n",
       "    <tr>\n",
       "      <th>0</th>\n",
       "      <td>2013-04-01 23:43:16</td>\n",
       "      <td>34.0</td>\n",
       "    </tr>\n",
       "    <tr>\n",
       "      <th>1</th>\n",
       "      <td>2013-04-01 23:48:16</td>\n",
       "      <td>34.0</td>\n",
       "    </tr>\n",
       "    <tr>\n",
       "      <th>2</th>\n",
       "      <td>2013-04-01 23:50:32</td>\n",
       "      <td>34.0</td>\n",
       "    </tr>\n",
       "    <tr>\n",
       "      <th>3</th>\n",
       "      <td>2013-04-01 23:55:32</td>\n",
       "      <td>34.0</td>\n",
       "    </tr>\n",
       "    <tr>\n",
       "      <th>4</th>\n",
       "      <td>2013-04-02 00:00:32</td>\n",
       "      <td>34.0</td>\n",
       "    </tr>\n",
       "  </tbody>\n",
       "</table>\n",
       "</div>"
      ],
      "text/plain": [
       "                   ts  value\n",
       "0 2013-04-01 23:43:16   34.0\n",
       "1 2013-04-01 23:48:16   34.0\n",
       "2 2013-04-01 23:50:32   34.0\n",
       "3 2013-04-01 23:55:32   34.0\n",
       "4 2013-04-02 00:00:32   34.0"
      ]
     },
     "execution_count": 4,
     "metadata": {},
     "output_type": "execute_result"
    }
   ],
   "source": [
    "df.head()"
   ]
  },
  {
   "cell_type": "code",
   "execution_count": 5,
   "metadata": {
    "collapsed": false
   },
   "outputs": [
    {
     "data": {
      "text/html": [
       "<div>\n",
       "<table border=\"1\" class=\"dataframe\">\n",
       "  <thead>\n",
       "    <tr style=\"text-align: right;\">\n",
       "      <th></th>\n",
       "      <th>ts</th>\n",
       "      <th>value</th>\n",
       "    </tr>\n",
       "  </thead>\n",
       "  <tbody>\n",
       "    <tr>\n",
       "      <th>229861</th>\n",
       "      <td>2015-06-30 00:35:22</td>\n",
       "      <td>48936.0</td>\n",
       "    </tr>\n",
       "    <tr>\n",
       "      <th>229862</th>\n",
       "      <td>2015-06-30 00:40:22</td>\n",
       "      <td>48936.0</td>\n",
       "    </tr>\n",
       "    <tr>\n",
       "      <th>229863</th>\n",
       "      <td>2015-06-30 00:45:22</td>\n",
       "      <td>48936.0</td>\n",
       "    </tr>\n",
       "    <tr>\n",
       "      <th>229864</th>\n",
       "      <td>2015-06-30 00:50:22</td>\n",
       "      <td>48936.0</td>\n",
       "    </tr>\n",
       "    <tr>\n",
       "      <th>229865</th>\n",
       "      <td>2015-06-30 00:55:22</td>\n",
       "      <td>48936.0</td>\n",
       "    </tr>\n",
       "  </tbody>\n",
       "</table>\n",
       "</div>"
      ],
      "text/plain": [
       "                        ts    value\n",
       "229861 2015-06-30 00:35:22  48936.0\n",
       "229862 2015-06-30 00:40:22  48936.0\n",
       "229863 2015-06-30 00:45:22  48936.0\n",
       "229864 2015-06-30 00:50:22  48936.0\n",
       "229865 2015-06-30 00:55:22  48936.0"
      ]
     },
     "execution_count": 5,
     "metadata": {},
     "output_type": "execute_result"
    }
   ],
   "source": [
    "df.tail()"
   ]
  },
  {
   "cell_type": "code",
   "execution_count": 6,
   "metadata": {
    "collapsed": false
   },
   "outputs": [
    {
     "data": {
      "text/plain": [
       "ts       2014-07-16 17:59:32\n",
       "value                   2823\n",
       "Name: 123456, dtype: object"
      ]
     },
     "execution_count": 6,
     "metadata": {},
     "output_type": "execute_result"
    }
   ],
   "source": [
    "df.iloc[123456]"
   ]
  },
  {
   "cell_type": "code",
   "execution_count": 7,
   "metadata": {
    "collapsed": false
   },
   "outputs": [
    {
     "data": {
      "text/plain": [
       "Timestamp('2014-07-16 17:59:32')"
      ]
     },
     "execution_count": 7,
     "metadata": {},
     "output_type": "execute_result"
    }
   ],
   "source": [
    "df['ts'][123456]"
   ]
  },
  {
   "cell_type": "code",
   "execution_count": 8,
   "metadata": {
    "collapsed": false
   },
   "outputs": [
    {
     "data": {
      "text/plain": [
       "2823.0"
      ]
     },
     "execution_count": 8,
     "metadata": {},
     "output_type": "execute_result"
    }
   ],
   "source": [
    "df['value'][123456]"
   ]
  },
  {
   "cell_type": "code",
   "execution_count": 9,
   "metadata": {
    "collapsed": false
   },
   "outputs": [
    {
     "name": "stderr",
     "output_type": "stream",
     "text": [
      "/Users/JH/Documents/GitHub/EnergyData_jhyun/energy_data_venv/lib/python2.7/site-packages/matplotlib/font_manager.py:273: UserWarning: Matplotlib is building the font cache using fc-list. This may take a moment.\n",
      "  warnings.warn('Matplotlib is building the font cache using fc-list. This may take a moment.')\n"
     ]
    }
   ],
   "source": [
    "import matplotlib.pyplot as plt\n",
    "%matplotlib inline"
   ]
  },
  {
   "cell_type": "code",
   "execution_count": 10,
   "metadata": {
    "collapsed": false
   },
   "outputs": [
    {
     "data": {
      "text/plain": [
       "pandas.core.series.Series"
      ]
     },
     "execution_count": 10,
     "metadata": {},
     "output_type": "execute_result"
    }
   ],
   "source": [
    "type(df['ts'])"
   ]
  },
  {
   "cell_type": "code",
   "execution_count": 11,
   "metadata": {
    "collapsed": false
   },
   "outputs": [
    {
     "data": {
      "text/plain": [
       "0        2013-04-01 23:43:16\n",
       "1        2013-04-01 23:48:16\n",
       "2        2013-04-01 23:50:32\n",
       "3        2013-04-01 23:55:32\n",
       "4        2013-04-02 00:00:32\n",
       "5        2013-04-02 00:05:32\n",
       "6        2013-04-02 00:10:32\n",
       "7        2013-04-02 00:15:32\n",
       "8        2013-04-02 00:20:32\n",
       "9        2013-04-02 00:25:32\n",
       "10       2013-04-02 00:30:32\n",
       "11       2013-04-02 00:35:32\n",
       "12       2013-04-02 00:40:32\n",
       "13       2013-04-02 00:45:32\n",
       "14       2013-04-02 00:50:32\n",
       "15       2013-04-02 00:55:32\n",
       "16       2013-04-01 23:43:16\n",
       "17       2013-04-01 23:48:16\n",
       "18       2013-04-01 23:50:32\n",
       "19       2013-04-01 23:55:32\n",
       "20       2013-04-02 00:00:32\n",
       "21       2013-04-02 00:05:32\n",
       "22       2013-04-02 00:10:32\n",
       "23       2013-04-02 00:15:32\n",
       "24       2013-04-02 00:20:32\n",
       "25       2013-04-02 00:25:32\n",
       "26       2013-04-02 00:30:32\n",
       "27       2013-04-02 00:35:32\n",
       "28       2013-04-02 00:40:32\n",
       "29       2013-04-02 00:45:32\n",
       "                 ...        \n",
       "229836   2015-06-29 22:30:17\n",
       "229837   2015-06-29 22:35:17\n",
       "229838   2015-06-29 22:40:19\n",
       "229839   2015-06-29 22:45:19\n",
       "229840   2015-06-29 22:50:19\n",
       "229841   2015-06-29 22:55:19\n",
       "229842   2015-06-29 23:00:19\n",
       "229843   2015-06-29 23:05:19\n",
       "229844   2015-06-29 23:10:19\n",
       "229845   2015-06-29 23:15:19\n",
       "229846   2015-06-29 23:20:19\n",
       "229847   2015-06-29 23:25:19\n",
       "229848   2015-06-29 23:30:20\n",
       "229849   2015-06-29 23:35:20\n",
       "229850   2015-06-29 23:40:20\n",
       "229851   2015-06-29 23:45:20\n",
       "229852   2015-06-29 23:50:20\n",
       "229853   2015-06-29 23:55:20\n",
       "229854   2015-06-30 00:00:21\n",
       "229855   2015-06-30 00:05:21\n",
       "229856   2015-06-30 00:10:21\n",
       "229857   2015-06-30 00:15:21\n",
       "229858   2015-06-30 00:20:21\n",
       "229859   2015-06-30 00:25:21\n",
       "229860   2015-06-30 00:30:21\n",
       "229861   2015-06-30 00:35:22\n",
       "229862   2015-06-30 00:40:22\n",
       "229863   2015-06-30 00:45:22\n",
       "229864   2015-06-30 00:50:22\n",
       "229865   2015-06-30 00:55:22\n",
       "Name: ts, dtype: datetime64[ns]"
      ]
     },
     "execution_count": 11,
     "metadata": {},
     "output_type": "execute_result"
    }
   ],
   "source": [
    "df['ts']"
   ]
  },
  {
   "cell_type": "code",
   "execution_count": 12,
   "metadata": {
    "collapsed": false
   },
   "outputs": [
    {
     "data": {
      "text/plain": [
       "pandas.core.series.Series"
      ]
     },
     "execution_count": 12,
     "metadata": {},
     "output_type": "execute_result"
    }
   ],
   "source": [
    "type(df['value'])"
   ]
  },
  {
   "cell_type": "code",
   "execution_count": 13,
   "metadata": {
    "collapsed": false
   },
   "outputs": [
    {
     "data": {
      "text/plain": [
       "0            34.0\n",
       "1            34.0\n",
       "2            34.0\n",
       "3            34.0\n",
       "4            34.0\n",
       "5            34.0\n",
       "6            34.0\n",
       "7            34.0\n",
       "8            34.0\n",
       "9            34.0\n",
       "10           34.0\n",
       "11           34.0\n",
       "12           34.0\n",
       "13           34.0\n",
       "14           34.0\n",
       "15           34.0\n",
       "16           34.0\n",
       "17           34.0\n",
       "18           34.0\n",
       "19           34.0\n",
       "20           34.0\n",
       "21           34.0\n",
       "22           34.0\n",
       "23           34.0\n",
       "24           34.0\n",
       "25           34.0\n",
       "26           34.0\n",
       "27           34.0\n",
       "28           34.0\n",
       "29           34.0\n",
       "           ...   \n",
       "229836    48936.0\n",
       "229837    48936.0\n",
       "229838    48936.0\n",
       "229839    48936.0\n",
       "229840    48936.0\n",
       "229841    48936.0\n",
       "229842    48936.0\n",
       "229843    48936.0\n",
       "229844    48936.0\n",
       "229845    48936.0\n",
       "229846    48936.0\n",
       "229847    48936.0\n",
       "229848    48936.0\n",
       "229849    48936.0\n",
       "229850    48936.0\n",
       "229851    48936.0\n",
       "229852    48936.0\n",
       "229853    48936.0\n",
       "229854    48936.0\n",
       "229855    48936.0\n",
       "229856    48936.0\n",
       "229857    48936.0\n",
       "229858    48936.0\n",
       "229859    48936.0\n",
       "229860    48936.0\n",
       "229861    48936.0\n",
       "229862    48936.0\n",
       "229863    48936.0\n",
       "229864    48936.0\n",
       "229865    48936.0\n",
       "Name: value, dtype: float64"
      ]
     },
     "execution_count": 13,
     "metadata": {},
     "output_type": "execute_result"
    }
   ],
   "source": [
    "df['value']"
   ]
  },
  {
   "cell_type": "code",
   "execution_count": 14,
   "metadata": {
    "collapsed": false
   },
   "outputs": [
    {
     "data": {
      "image/png": "[encoded data removed]",
      "text/plain": [
       "<matplotlib.figure.Figure at 0x11159fc90>"
      ]
     },
     "metadata": {},
     "output_type": "display_data"
    }
   ],
   "source": [
    "plt.title('energy data graph')\n",
    "plt.scatter(x=df['ts'].tolist(), y=df['value'], color='b', marker='o')\n",
    "plt.show()"
   ]
  },
  {
   "cell_type": "code",
   "execution_count": 15,
   "metadata": {
    "collapsed": false
   },
   "outputs": [
    {
     "data": {
      "image/png": "[encoded data removed]",
      "text/plain": [
       "<matplotlib.figure.Figure at 0x116982a50>"
      ]
     },
     "metadata": {},
     "output_type": "display_data"
    }
   ],
   "source": [
    "import seaborn as sns\n",
    "\n",
    "plt.title('energy data graph')\n",
    "plt.scatter(x=df['ts'].tolist(), y=df['value'], color='r', marker='o')\n",
    "plt.show()"
   ]
  },
  {
   "cell_type": "code",
   "execution_count": 16,
   "metadata": {
    "collapsed": false
   },
   "outputs": [
    {
     "data": {
      "image/png": "[encoded data removed]",
      "text/plain": [
       "<matplotlib.figure.Figure at 0x1189218d0>"
      ]
     },
     "metadata": {},
     "output_type": "display_data"
    }
   ],
   "source": [
    "plt.title('energy data graph')\n",
    "plt.scatter(x=df['ts'].tolist(), y=df['value'].tolist(), color='r', marker='o')\n",
    "plt.show()"
   ]
  },
  {
   "cell_type": "code",
   "execution_count": null,
   "metadata": {
    "collapsed": true
   },
   "outputs": [],
   "source": []
  }
 ],
 "metadata": {
  "kernelspec": {
   "display_name": "Python 2",
   "language": "python",
   "name": "python2"
  },
  "language_info": {
   "codemirror_mode": {
    "name": "ipython",
    "version": 2
   },
   "file_extension": ".py",
   "mimetype": "text/x-python",
   "name": "python",
   "nbconvert_exporter": "python",
   "pygments_lexer": "ipython2",
   "version": "2.7.11"
  }
 },
 "nbformat": 4,
 "nbformat_minor": 0
}
