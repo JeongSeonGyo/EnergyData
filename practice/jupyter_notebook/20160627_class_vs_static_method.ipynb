{
 "cells": [
  {
   "cell_type": "markdown",
   "metadata": {},
   "source": [
    "# method vs class method vs static method"
   ]
  },
  {
   "cell_type": "markdown",
   "metadata": {},
   "source": [
    "* static method  \n",
    "    - instance를 만들지 않아도 사용할 수 있는 method"
   ]
  },
  {
   "cell_type": "code",
   "execution_count": 1,
   "metadata": {
    "collapsed": true
   },
   "outputs": [],
   "source": [
    "class A(object):\n",
    "    def foo(self, x):\n",
    "        print self, x\n",
    "    \n",
    "    @classmethod\n",
    "    def class_foo(cls, x):\n",
    "        print cls, x\n",
    "        \n",
    "    @staticmethod\n",
    "    def static_foo(x):\n",
    "        print x"
   ]
  },
  {
   "cell_type": "markdown",
   "metadata": {},
   "source": [
    "---\n",
    "* 만들어진 instance 없이 바로 method를 를 호출하면, 당연히 error 가 발생함 "
   ]
  },
  {
   "cell_type": "code",
   "execution_count": 2,
   "metadata": {
    "collapsed": false
   },
   "outputs": [
    {
     "ename": "NameError",
     "evalue": "name 'a' is not defined",
     "output_type": "error",
     "traceback": [
      "\u001b[0;31m---------------------------------------------------------------------------\u001b[0m",
      "\u001b[0;31mNameError\u001b[0m                                 Traceback (most recent call last)",
      "\u001b[0;32m<ipython-input-2-c8c93919b3b0>\u001b[0m in \u001b[0;36m<module>\u001b[0;34m()\u001b[0m\n\u001b[0;32m----> 1\u001b[0;31m \u001b[0;32mprint\u001b[0m \u001b[0ma\u001b[0m\u001b[0;34m.\u001b[0m\u001b[0mfoo\u001b[0m\u001b[0;34m\u001b[0m\u001b[0m\n\u001b[0m\u001b[1;32m      2\u001b[0m \u001b[0ma\u001b[0m\u001b[0;34m.\u001b[0m\u001b[0mfoo\u001b[0m\u001b[0;34m(\u001b[0m\u001b[0;36m100\u001b[0m\u001b[0;34m)\u001b[0m\u001b[0;34m\u001b[0m\u001b[0m\n",
      "\u001b[0;31mNameError\u001b[0m: name 'a' is not defined"
     ]
    }
   ],
   "source": [
    "print a.foo\n",
    "a.foo(100)"
   ]
  },
  {
   "cell_type": "markdown",
   "metadata": {},
   "source": [
    "---\n",
    "* class method와 static method는 instance 없이 호출 가능"
   ]
  },
  {
   "cell_type": "code",
   "execution_count": 3,
   "metadata": {
    "collapsed": false
   },
   "outputs": [
    {
     "name": "stdout",
     "output_type": "stream",
     "text": [
      "<bound method type.class_foo of <class '__main__.A'>>\n",
      "<class '__main__.A'> 100\n"
     ]
    }
   ],
   "source": [
    "print A.class_foo\n",
    "A.class_foo(100)"
   ]
  },
  {
   "cell_type": "code",
   "execution_count": 4,
   "metadata": {
    "collapsed": false
   },
   "outputs": [
    {
     "name": "stdout",
     "output_type": "stream",
     "text": [
      "<function static_foo at 0x103d2b5f0>\n",
      "100\n"
     ]
    }
   ],
   "source": [
    "print A.static_foo\n",
    "A.static_foo(100)"
   ]
  },
  {
   "cell_type": "markdown",
   "metadata": {},
   "source": [
    "* instance 생성 후에는 다른 결과를 보임"
   ]
  },
  {
   "cell_type": "code",
   "execution_count": 5,
   "metadata": {
    "collapsed": true
   },
   "outputs": [],
   "source": [
    "a = A()"
   ]
  },
  {
   "cell_type": "code",
   "execution_count": 6,
   "metadata": {
    "collapsed": false
   },
   "outputs": [
    {
     "name": "stdout",
     "output_type": "stream",
     "text": [
      "<bound method A.foo of <__main__.A object at 0x103d41610>>\n",
      "<__main__.A object at 0x103d41610> 100\n"
     ]
    }
   ],
   "source": [
    "print a.foo\n",
    "a.foo(100)"
   ]
  },
  {
   "cell_type": "code",
   "execution_count": 7,
   "metadata": {
    "collapsed": false
   },
   "outputs": [
    {
     "name": "stdout",
     "output_type": "stream",
     "text": [
      "<bound method type.class_foo of <class '__main__.A'>>\n",
      "<class '__main__.A'> 100\n"
     ]
    }
   ],
   "source": [
    "print A.class_foo\n",
    "A.class_foo(100)"
   ]
  },
  {
   "cell_type": "code",
   "execution_count": 8,
   "metadata": {
    "collapsed": false
   },
   "outputs": [
    {
     "name": "stdout",
     "output_type": "stream",
     "text": [
      "<function static_foo at 0x103d2b5f0>\n",
      "100\n"
     ]
    }
   ],
   "source": [
    "print A.static_foo\n",
    "A.static_foo(100)"
   ]
  },
  {
   "cell_type": "markdown",
   "metadata": {},
   "source": [
    "---\n",
    "\n",
    "---"
   ]
  },
  {
   "cell_type": "code",
   "execution_count": 9,
   "metadata": {
    "collapsed": false
   },
   "outputs": [
    {
     "data": {
      "text/plain": [
       "<function __main__.bar>"
      ]
     },
     "execution_count": 9,
     "metadata": {},
     "output_type": "execute_result"
    }
   ],
   "source": [
    "class Foo:\n",
    "  @staticmethod\n",
    "  def bar():\n",
    "    print \"I'm a static\"\n",
    "\n",
    "Foo.bar"
   ]
  },
  {
   "cell_type": "markdown",
   "metadata": {},
   "source": [
    "---\n",
    "* static method와는 다르게, \n",
    "    -  class method는 cls라는 인자를 받고 이 인자는 해당 method를 호출한 class를 가리킴"
   ]
  },
  {
   "cell_type": "code",
   "execution_count": 10,
   "metadata": {
    "collapsed": false
   },
   "outputs": [
    {
     "name": "stdout",
     "output_type": "stream",
     "text": [
      "Called by __main__.Child  and given  1\n"
     ]
    }
   ],
   "source": [
    "class Parent:\n",
    "    @classmethod\n",
    "    def baz(cls, param):\n",
    "        print \"Called by\", cls, \" and given \", param\n",
    " \n",
    "class Child(Parent):\n",
    "    pass\n",
    "\n",
    "Child.baz(1)"
   ]
  },
  {
   "cell_type": "markdown",
   "metadata": {},
   "source": [
    "---\n",
    "\n",
    "---"
   ]
  },
  {
   "cell_type": "markdown",
   "metadata": {},
   "source": [
    "* class에서 init을 통해 초기화하고, \n",
    "* method를 호출하는 과정"
   ]
  },
  {
   "cell_type": "code",
   "execution_count": 14,
   "metadata": {
    "collapsed": false
   },
   "outputs": [
    {
     "name": "stdout",
     "output_type": "stream",
     "text": [
      "arun\n",
      "seema\n"
     ]
    }
   ],
   "source": [
    "class Kls(object):\n",
    "    def __init__(self, data):\n",
    "        self.data = data\n",
    " \n",
    "    def printd(self):\n",
    "        print(self.data)\n",
    " \n",
    "ik1 = Kls('arun')\n",
    "ik2 = Kls('seema')\n",
    " \n",
    "ik1.printd()\n",
    "ik2.printd()"
   ]
  },
  {
   "cell_type": "code",
   "execution_count": 15,
   "metadata": {
    "collapsed": false
   },
   "outputs": [
    {
     "name": "stdout",
     "output_type": "stream",
     "text": [
      "2\n"
     ]
    }
   ],
   "source": [
    "def get_no_of_instances(cls_obj):\n",
    "    return cls_obj.no_inst\n",
    " \n",
    "class Kls(object):\n",
    "    no_inst = 0\n",
    " \n",
    "    def __init__(self):\n",
    "        Kls.no_inst = Kls.no_inst + 1\n",
    " \n",
    "ik1 = Kls()\n",
    "ik2 = Kls()\n",
    " \n",
    "print(get_no_of_instances(Kls))"
   ]
  },
  {
   "cell_type": "code",
   "execution_count": 16,
   "metadata": {
    "collapsed": false
   },
   "outputs": [
    {
     "name": "stdout",
     "output_type": "stream",
     "text": [
      "2\n"
     ]
    }
   ],
   "source": [
    "def iget_no_of_instance(ins_obj):\n",
    "    return ins_obj.__class__.no_inst\n",
    " \n",
    "class Kls(object):\n",
    "    no_inst = 0\n",
    " \n",
    "    def __init__(self):\n",
    "        Kls.no_inst = Kls.no_inst + 1\n",
    " \n",
    "ik1 = Kls()\n",
    "ik2 = Kls()\n",
    "print iget_no_of_instance(ik1)"
   ]
  },
  {
   "cell_type": "code",
   "execution_count": 17,
   "metadata": {
    "collapsed": false
   },
   "outputs": [
    {
     "name": "stdout",
     "output_type": "stream",
     "text": [
      "2\n",
      "2\n"
     ]
    }
   ],
   "source": [
    "class Kls(object):\n",
    "    no_inst = 0\n",
    " \n",
    "    def __init__(self):\n",
    "        Kls.no_inst = Kls.no_inst + 1\n",
    " \n",
    "    @classmethod\n",
    "    def get_no_of_instance(cls_obj):\n",
    "        return cls_obj.no_inst\n",
    " \n",
    "ik1 = Kls()\n",
    "ik2 = Kls()\n",
    " \n",
    "print ik1.get_no_of_instance()\n",
    "print Kls.get_no_of_instance()"
   ]
  },
  {
   "cell_type": "code",
   "execution_count": 18,
   "metadata": {
    "collapsed": false
   },
   "outputs": [
    {
     "name": "stdout",
     "output_type": "stream",
     "text": [
      "('Reset done for:', 12)\n",
      "('DB connection made for:', 12)\n"
     ]
    }
   ],
   "source": [
    "IND = 'ON'\n",
    " \n",
    "def checkind():\n",
    "    return (IND == 'ON')\n",
    " \n",
    "class Kls(object):\n",
    "    def __init__(self,data):\n",
    "        self.data = data\n",
    " \n",
    "    def do_reset(self):\n",
    "        if checkind():\n",
    "            print('Reset done for:', self.data)\n",
    "\n",
    "    def set_db(self):\n",
    "        if checkind():\n",
    "            self.db = 'new db connection'\n",
    "            print('DB connection made for:',self.data)\n",
    " \n",
    "ik1 = Kls(12)\n",
    "ik1.do_reset()\n",
    "ik1.set_db()"
   ]
  },
  {
   "cell_type": "code",
   "execution_count": 19,
   "metadata": {
    "collapsed": false
   },
   "outputs": [
    {
     "name": "stdout",
     "output_type": "stream",
     "text": [
      "('Reset done for:', 12)\n",
      "('DB connection made for: ', 12)\n"
     ]
    }
   ],
   "source": [
    "IND = 'ON'\n",
    " \n",
    "class Kls(object):\n",
    "    def __init__(self, data):\n",
    "        self.data = data\n",
    " \n",
    "    @staticmethod\n",
    "    def checkind():\n",
    "        return (IND == 'ON')\n",
    " \n",
    "    def do_reset(self):\n",
    "        if self.checkind():\n",
    "            print('Reset done for:', self.data)\n",
    " \n",
    "    def set_db(self):\n",
    "        if self.checkind():\n",
    "            self.db = 'New db connection'\n",
    "        print('DB connection made for: ', self.data)\n",
    " \n",
    "ik1 = Kls(12)\n",
    "ik1.do_reset()\n",
    "ik1.set_db()"
   ]
  },
  {
   "cell_type": "code",
   "execution_count": 20,
   "metadata": {
    "collapsed": false
   },
   "outputs": [],
   "source": [
    "class Kls(object):\n",
    "    def __init__(self, data):\n",
    "        self.data = data\n",
    " \n",
    "    def printd(self):\n",
    "        print(self.data)\n",
    " \n",
    "    @staticmethod\n",
    "    def smethod(*arg):\n",
    "        print('Static:', arg)\n",
    " \n",
    "    @classmethod\n",
    "    def cmethod(*arg):\n",
    "        print('Class:', arg)"
   ]
  },
  {
   "cell_type": "code",
   "execution_count": 21,
   "metadata": {
    "collapsed": false
   },
   "outputs": [
    {
     "name": "stdout",
     "output_type": "stream",
     "text": [
      "23\n"
     ]
    }
   ],
   "source": [
    "ik = Kls(23)\n",
    "ik.printd()"
   ]
  },
  {
   "cell_type": "code",
   "execution_count": 22,
   "metadata": {
    "collapsed": false
   },
   "outputs": [
    {
     "name": "stdout",
     "output_type": "stream",
     "text": [
      "('Static:', ())\n"
     ]
    }
   ],
   "source": [
    "ik.smethod()"
   ]
  },
  {
   "cell_type": "code",
   "execution_count": 23,
   "metadata": {
    "collapsed": false
   },
   "outputs": [
    {
     "name": "stdout",
     "output_type": "stream",
     "text": [
      "('Class:', (<class '__main__.Kls'>,))\n"
     ]
    }
   ],
   "source": [
    "ik.cmethod()"
   ]
  },
  {
   "cell_type": "code",
   "execution_count": 24,
   "metadata": {
    "collapsed": false
   },
   "outputs": [
    {
     "ename": "TypeError",
     "evalue": "unbound method printd() must be called with Kls instance as first argument (got nothing instead)",
     "output_type": "error",
     "traceback": [
      "\u001b[0;31m---------------------------------------------------------------------------\u001b[0m",
      "\u001b[0;31mTypeError\u001b[0m                                 Traceback (most recent call last)",
      "\u001b[0;32m<ipython-input-24-3a815b87a517>\u001b[0m in \u001b[0;36m<module>\u001b[0;34m()\u001b[0m\n\u001b[0;32m----> 1\u001b[0;31m \u001b[0mKls\u001b[0m\u001b[0;34m.\u001b[0m\u001b[0mprintd\u001b[0m\u001b[0;34m(\u001b[0m\u001b[0;34m)\u001b[0m\u001b[0;34m\u001b[0m\u001b[0m\n\u001b[0m",
      "\u001b[0;31mTypeError\u001b[0m: unbound method printd() must be called with Kls instance as first argument (got nothing instead)"
     ]
    }
   ],
   "source": [
    "Kls.printd()"
   ]
  },
  {
   "cell_type": "code",
   "execution_count": 25,
   "metadata": {
    "collapsed": false
   },
   "outputs": [
    {
     "name": "stdout",
     "output_type": "stream",
     "text": [
      "('Static:', ())\n"
     ]
    }
   ],
   "source": [
    "Kls.smethod()"
   ]
  },
  {
   "cell_type": "code",
   "execution_count": 26,
   "metadata": {
    "collapsed": false
   },
   "outputs": [
    {
     "name": "stdout",
     "output_type": "stream",
     "text": [
      "('Class:', (<class '__main__.Kls'>,))\n"
     ]
    }
   ],
   "source": [
    "Kls.cmethod()"
   ]
  },
  {
   "cell_type": "code",
   "execution_count": null,
   "metadata": {
    "collapsed": true
   },
   "outputs": [],
   "source": []
  }
 ],
 "metadata": {
  "kernelspec": {
   "display_name": "Python 2",
   "language": "python",
   "name": "python2"
  },
  "language_info": {
   "codemirror_mode": {
    "name": "ipython",
    "version": 2
   },
   "file_extension": ".py",
   "mimetype": "text/x-python",
   "name": "python",
   "nbconvert_exporter": "python",
   "pygments_lexer": "ipython2",
   "version": "2.7.11"
  }
 },
 "nbformat": 4,
 "nbformat_minor": 0
}
