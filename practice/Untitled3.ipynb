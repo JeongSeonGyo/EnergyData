{
 "cells": [
  {
   "cell_type": "code",
   "execution_count": 1,
   "metadata": {
    "collapsed": false
   },
   "outputs": [
    {
     "name": "stdout",
     "output_type": "stream",
     "text": [
      "\n",
      "{'ts': array([[datetime.datetime(2013, 5, 15, 10, 37, 23), 23, 37, ..., 2, 15, 5],\n",
      "       [datetime.datetime(2013, 5, 15, 10, 42, 30), 30, 42, ..., 2, 15, 5],\n",
      "       [datetime.datetime(2013, 5, 15, 10, 47, 30), 30, 47, ..., 2, 15, 5],\n",
      "       ..., \n",
      "       [datetime.datetime(2015, 6, 30, 0, 46, 32), 32, 46, ..., 1, 30, 6],\n",
      "       [datetime.datetime(2015, 6, 30, 0, 51, 32), 32, 51, ..., 1, 30, 6],\n",
      "       [datetime.datetime(2015, 6, 30, 0, 56, 32), 32, 56, ..., 1, 30, 6]], dtype=object), 'value': array([     0.,      0.,      0., ...,  20065.,  20065.,  20065.])}\n",
      "\n",
      "total length: 190822\n",
      "\n",
      "######### trimmed ##########\n",
      "\n",
      "ts: 2013-05-15 10:30:00 \tvalue: 0\n",
      "ts: 2013-05-15 10:40:00 \tvalue: 0\n",
      "ts: 2013-05-15 10:50:00 \tvalue: 0\n",
      "ts: 2013-05-15 11:00:00 \tvalue: 0\n",
      "ts: 2013-05-15 11:10:00 \tvalue: 0\n",
      ".\n",
      ".\n",
      ".\n",
      "ts: 2015-06-30 00:00:00 \tvalue: 20065\n",
      "ts: 2015-06-30 00:10:00 \tvalue: 20065\n",
      "ts: 2015-06-30 00:20:00 \tvalue: 20065\n",
      "ts: 2015-06-30 00:30:00 \tvalue: 20065\n",
      "\n",
      "total length: 96254\n",
      "0.504417729612\n",
      "y_max: 20065.0\n"
     ]
    },
    {
     "name": "stderr",
     "output_type": "stream",
     "text": [
      "/Users/JH/anaconda2/lib/python2.7/site-packages/matplotlib/font_manager.py:273: UserWarning: Matplotlib is building the font cache using fc-list. This may take a moment.\n",
      "  warnings.warn('Matplotlib is building the font cache using fc-list. This may take a moment.')\n"
     ]
    },
    {
     "data": {
      "image/png": "[encoded data removed]",
      "text/plain": [
       "<matplotlib.figure.Figure at 0x104137790>"
      ]
     },
     "metadata": {},
     "output_type": "display_data"
    }
   ],
   "source": [
    "# -*- coding: utf-8 -*-\n",
    "\n",
    "import sys\n",
    "import cPickle as pickle\n",
    "import copy\n",
    "import matplotlib.pyplot as plt\n",
    "%matplotlib inline\n",
    "\n",
    "# Load Data\n",
    "\n",
    "try:\n",
    "    file_path = '/Users/JH/Documents/GitHub/EnergyData_jhyun/VTT/VTT_GW1_HA2_VM_EP_KV_K.bin'\n",
    "    # file_path = sys.argv[1]\n",
    "except IndexError as err:\n",
    "    print('IndexError: ' + str(err))\n",
    "    print('Usage: python parsing <filename>')\n",
    "    exit()\n",
    "\n",
    "data = pickle.load(open(file_path))\n",
    "time_stamp = data['ts']\n",
    "value = data['value']\n",
    "\n",
    "print\n",
    "print(data)\n",
    "\n",
    "print\n",
    "print('total length: ' + str(len(time_stamp)))\n",
    "\n",
    "x, y = [], []\n",
    "\n",
    "minute_checker = time_stamp[0][0].minute / 10\n",
    "item = 0\n",
    "value_temp = 0\n",
    "\n",
    "for i in range(0, len(time_stamp)):\n",
    "    if time_stamp[i][2] / 10 == minute_checker:\n",
    "        item += 1\n",
    "        value_temp += value[i]\n",
    "    else:\n",
    "        x.append(time_stamp[i - 1][0].replace(minute=10 * minute_checker, second=0))\n",
    "\n",
    "        minute_checker += 1\n",
    "        if minute_checker == 6:\n",
    "            minute_checker = 0\n",
    "\n",
    "        if item == 0:\n",
    "            y.append(y[-1])\n",
    "        else:\n",
    "            y.append(value_temp / item)\n",
    "            value_temp = 0\n",
    "            item = 0\n",
    "\n",
    "        i = i - 1\n",
    "\n",
    "print\n",
    "print('######### trimmed ##########')\n",
    "print\n",
    "\n",
    "for i in range(0, 5):\n",
    "    print('ts: ' + str(x[i])),\n",
    "    print('\\tvalue: %d' % y[i])\n",
    "\n",
    "print('.\\n.\\n.')\n",
    "\n",
    "for i in xrange(len(x) - 5, len(x) - 1):\n",
    "    print('ts: ' + str(x[i])),\n",
    "    print('\\tvalue: %d' % y[i])\n",
    "\n",
    "print\n",
    "print('total length: ' + str(len(x)))\n",
    "print(float(len(x)) / len(time_stamp))\n",
    "\n",
    "y_temp = copy.copy(y)\n",
    "y_temp.sort()\n",
    "y_max = y_temp[-100]\n",
    "print('y_max: ' + str(y_max))\n",
    "\n",
    "for i in range(0, len(y)):\n",
    "    y[i] = (y[i] / y_max) * 100\n",
    "\n",
    "plt.scatter(x, y, marker='x', label=\"value\")\n",
    "\n",
    "plt.xlabel('time')\n",
    "plt.legend(loc=2)\n",
    "plt.show()"
   ]
  },
  {
   "cell_type": "code",
   "execution_count": 2,
   "metadata": {
    "collapsed": true
   },
   "outputs": [],
   "source": [
    "import vectorize_02 as v"
   ]
  },
  {
   "cell_type": "code",
   "execution_count": 3,
   "metadata": {
    "collapsed": false
   },
   "outputs": [
    {
     "data": {
      "image/png": "[encoded data removed]",
      "text/plain": [
       "<matplotlib.figure.Figure at 0x10383d250>"
      ]
     },
     "metadata": {},
     "output_type": "display_data"
    }
   ],
   "source": [
    "v.unpickling(file_path)"
   ]
  },
  {
   "cell_type": "code",
   "execution_count": 5,
   "metadata": {
    "collapsed": true
   },
   "outputs": [],
   "source": [
    "def normalization(list):\n",
    "    normalizer = n_th_maximun(100, list)\n",
    "    list_normalized = np.array(list) / normalizer"
   ]
  },
  {
   "cell_type": "code",
   "execution_count": 6,
   "metadata": {
    "collapsed": true
   },
   "outputs": [],
   "source": [
    "def vectorization(list):\n",
    "    dim = 20\n",
    "    slicing_size = len(list) / dim\n",
    "    vec = []\n",
    "    vec_collector = 0\n",
    "\n",
    "    for i in range(0, len(list)):\n",
    "        vec_collector += list[i]\n",
    "        if (i + 1) % slicing_size == 0:\n",
    "            vec.append(int(vec_collector / slicing_size))\n",
    "            vec_collector = 0\n",
    "    return vec\n"
   ]
  },
  {
   "cell_type": "code",
   "execution_count": 7,
   "metadata": {
    "collapsed": true
   },
   "outputs": [],
   "source": [
    "y = vectorization(y)"
   ]
  },
  {
   "cell_type": "code",
   "execution_count": 8,
   "metadata": {
    "collapsed": false
   },
   "outputs": [
    {
     "data": {
      "text/plain": [
       "[0, 0, 0, 7, 42, 48, 55, 55, 56, 52, 11, 19, 33, 39, 47, 56, 56, 62, 77, 90]"
      ]
     },
     "execution_count": 8,
     "metadata": {},
     "output_type": "execute_result"
    }
   ],
   "source": [
    "y"
   ]
  },
  {
   "cell_type": "code",
   "execution_count": 9,
   "metadata": {
    "collapsed": true
   },
   "outputs": [],
   "source": [
    "x, y = [], []\n",
    "\n",
    "minute_checker = time_stamp[0][0].minute / 10\n",
    "item = 0\n",
    "value_temp = 0\n",
    "\n",
    "for i in range(0, len(time_stamp)):\n",
    "    if time_stamp[i][2] / 10 == minute_checker:\n",
    "        item += 1\n",
    "        value_temp += value[i]\n",
    "    else:\n",
    "        x.append(time_stamp[i - 1][0].replace(minute=10 * minute_checker, second=0))\n",
    "\n",
    "        minute_checker += 1\n",
    "        if minute_checker == 6:\n",
    "            minute_checker = 0\n",
    "\n",
    "        if item == 0:\n",
    "            y.append(y[-1])\n",
    "        else:\n",
    "            y.append(value_temp / item)\n",
    "            value_temp = 0\n",
    "            item = 0\n",
    "\n",
    "        i = i - 1\n",
    "\n"
   ]
  }
 ],
 "metadata": {
  "kernelspec": {
   "display_name": "Python 2",
   "language": "python",
   "name": "python2"
  },
  "language_info": {
   "codemirror_mode": {
    "name": "ipython",
    "version": 2
   },
   "file_extension": ".py",
   "mimetype": "text/x-python",
   "name": "python",
   "nbconvert_exporter": "python",
   "pygments_lexer": "ipython2",
   "version": "2.7.11"
  }
 },
 "nbformat": 4,
 "nbformat_minor": 0
}
