{
 "cells": [
  {
   "cell_type": "code",
   "execution_count": 3,
   "metadata": {
    "collapsed": false
   },
   "outputs": [
    {
     "name": "stderr",
     "output_type": "stream",
     "text": [
      "/Users/JH/Documents/GitHub/EnergyData_jhyun/energy_data_venv/lib/python2.7/site-packages/matplotlib/font_manager.py:273: UserWarning: Matplotlib is building the font cache using fc-list. This may take a moment.\n",
      "  warnings.warn('Matplotlib is building the font cache using fc-list. This may take a moment.')\n"
     ]
    }
   ],
   "source": [
    "from utils import Cluster\n",
    "from utils import Data2Vec\n",
    "from utils import Load\n",
    "from utils import Save\n"
   ]
  },
  {
   "cell_type": "code",
   "execution_count": 4,
   "metadata": {
    "collapsed": false
   },
   "outputs": [],
   "source": [
    "# get directory path\n",
    "abs_path = Load.get_directory('/Users/JH/Documents/GitHub/EnergyData_jhyun/utils/VTT/')"
   ]
  },
  {
   "cell_type": "code",
   "execution_count": 5,
   "metadata": {
    "collapsed": false
   },
   "outputs": [
    {
     "name": "stdout",
     "output_type": "stream",
     "text": [
      "data2vector VTT_GW1_HA10_VM_EP_KV_K.bin \trun time: 0.908953905106\n",
      "data2vector VTT_GW1_HA10_VM_KV_K.bin \trun time: 1.14307594299\n",
      "data2vector VTT_GW1_HA10_VM_KV_KAM.bin \trun time: 0.920449972153\n",
      "data2vector VTT_GW1_HA11_VM_EP_KV_K.bin \trun time: 0.905745029449\n",
      "data2vector VTT_GW1_HA11_VM_KV_K.bin \trun time: 1.08565402031\n",
      "data2vector VTT_GW1_HA11_VM_KV_KAM.bin \trun time: 1.00593304634\n",
      "data2vector VTT_GW1_HA12_VM_EP_KV_K.bin \trun time: 0.89998793602\n",
      "data2vector VTT_GW1_HA12_VM_KV_K.bin \trun time: 1.01829814911\n",
      "data2vector VTT_GW1_HA12_VM_KV_KAM.bin \trun time: 0.933187961578\n",
      "data2vector VTT_GW1_HA13_VM_EP_KV_K.bin \trun time: 0.907375097275\n",
      "data2vector VTT_GW1_HA13_VM_KV_K.bin \trun time: 0.975688934326\n",
      "data2vector VTT_GW1_HA13_VM_KV_KAM.bin \trun time: 0.921285867691\n"
     ]
    }
   ],
   "source": [
    "# convert files to vector dictionary\n",
    "vector_dic = Data2Vec.bins2vectors2dic(abs_path)"
   ]
  },
  {
   "cell_type": "code",
   "execution_count": 6,
   "metadata": {
    "collapsed": false
   },
   "outputs": [],
   "source": [
    "clusters = Cluster.affinity_propagation(vector_dic)"
   ]
  },
  {
   "cell_type": "code",
   "execution_count": 7,
   "metadata": {
    "collapsed": false
   },
   "outputs": [],
   "source": [
    "cluster_structure = Cluster.make_cluster_structure(vector_dic, clusters)"
   ]
  },
  {
   "cell_type": "code",
   "execution_count": 10,
   "metadata": {
    "collapsed": false
   },
   "outputs": [],
   "source": [
    "Save.cluster_structure2bin(abs_path, cluster_structure)"
   ]
  },
  {
   "cell_type": "code",
   "execution_count": 13,
   "metadata": {
    "collapsed": true
   },
   "outputs": [],
   "source": [
    "from utils import parsing_module\n",
    "from utils import GlobalParam"
   ]
  },
  {
   "cell_type": "code",
   "execution_count": 14,
   "metadata": {
    "collapsed": false
   },
   "outputs": [
    {
     "name": "stdout",
     "output_type": "stream",
     "text": [
      "{'file_name': array([ '/Users/JH/Documents/GitHub/EnergyData_jhyun/utils/VTT/VTT_GW1_HA10_VM_EP_KV_K.bin',\n",
      "       '/Users/JH/Documents/GitHub/EnergyData_jhyun/utils/VTT/VTT_GW1_HA10_VM_KV_K.bin',\n",
      "       '/Users/JH/Documents/GitHub/EnergyData_jhyun/utils/VTT/VTT_GW1_HA10_VM_KV_KAM.bin',\n",
      "       '/Users/JH/Documents/GitHub/EnergyData_jhyun/utils/VTT/VTT_GW1_HA11_VM_EP_KV_K.bin',\n",
      "       '/Users/JH/Documents/GitHub/EnergyData_jhyun/utils/VTT/VTT_GW1_HA11_VM_KV_K.bin',\n",
      "       '/Users/JH/Documents/GitHub/EnergyData_jhyun/utils/VTT/VTT_GW1_HA11_VM_KV_KAM.bin',\n",
      "       '/Users/JH/Documents/GitHub/EnergyData_jhyun/utils/VTT/VTT_GW1_HA12_VM_EP_KV_K.bin',\n",
      "       '/Users/JH/Documents/GitHub/EnergyData_jhyun/utils/VTT/VTT_GW1_HA12_VM_KV_K.bin',\n",
      "       '/Users/JH/Documents/GitHub/EnergyData_jhyun/utils/VTT/VTT_GW1_HA12_VM_KV_KAM.bin',\n",
      "       '/Users/JH/Documents/GitHub/EnergyData_jhyun/utils/VTT/VTT_GW1_HA13_VM_EP_KV_K.bin',\n",
      "       '/Users/JH/Documents/GitHub/EnergyData_jhyun/utils/VTT/VTT_GW1_HA13_VM_KV_K.bin',\n",
      "       '/Users/JH/Documents/GitHub/EnergyData_jhyun/utils/VTT/VTT_GW1_HA13_VM_KV_KAM.bin'], \n",
      "      dtype='|S81'), 'cluster_tag': array([0, 0, 3, 1, 1, 3, 2, 2, 3, 0, 0, 3]), 'vec_data': array([[ 0,  0,  0, ..., 96, 96, 98],\n",
      "       [11, 12, 12, ..., 96, 96, 98],\n",
      "       [ 0,  0,  0, ...,  0,  0,  1],\n",
      "       ..., \n",
      "       [ 0,  0,  0, ..., 90, 94, 98],\n",
      "       [ 3,  3,  6, ..., 90, 94, 98],\n",
      "       [ 0,  0,  0, ...,  1,  1,  1]])}\n"
     ]
    }
   ],
   "source": [
    "path = '/Users/JH/Documents/GitHub/EnergyData_jhyun/utils/VTT/results/cluster_structure_dim_'\n",
    "path = path + str(GlobalParam.VEC_DIMENSION)\n",
    "path = path + '.bin'\n",
    "\n",
    "data = parsing_module.parsing(path)\n",
    "\n",
    "print data"
   ]
  },
  {
   "cell_type": "code",
   "execution_count": null,
   "metadata": {
    "collapsed": true
   },
   "outputs": [],
   "source": []
  }
 ],
 "metadata": {
  "kernelspec": {
   "display_name": "Python 2",
   "language": "python",
   "name": "python2"
  },
  "language_info": {
   "codemirror_mode": {
    "name": "ipython",
    "version": 2
   },
   "file_extension": ".py",
   "mimetype": "text/x-python",
   "name": "python",
   "nbconvert_exporter": "python",
   "pygments_lexer": "ipython2",
   "version": "2.7.11"
  }
 },
 "nbformat": 4,
 "nbformat_minor": 0
}
