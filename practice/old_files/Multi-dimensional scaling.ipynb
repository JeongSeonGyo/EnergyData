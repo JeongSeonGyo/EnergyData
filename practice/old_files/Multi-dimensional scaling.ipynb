{
 "cells": [
  {
   "cell_type": "code",
   "execution_count": 12,
   "metadata": {
    "collapsed": false
   },
   "outputs": [
    {
     "name": "stdout",
     "output_type": "stream",
     "text": [
      "Automatically created module for IPython interactive environment\n"
     ]
    }
   ],
   "source": [
    "# Author: Nelle Varoquaux <nelle.varoquaux@gmail.com>\n",
    "# Licence: BSD\n",
    "\n",
    "print(__doc__)\n",
    "import numpy as np\n",
    "\n",
    "from matplotlib import pyplot as plt\n",
    "%matplotlib inline\n",
    "from matplotlib.collections import LineCollection\n",
    "\n",
    "from sklearn import manifold\n",
    "from sklearn.metrics import euclidean_distances\n",
    "from sklearn.decomposition import PCA"
   ]
  },
  {
   "cell_type": "code",
   "execution_count": 13,
   "metadata": {
    "collapsed": false
   },
   "outputs": [],
   "source": [
    "n_samples = 20\n",
    "seed = np.random.RandomState(seed=3)\n",
    "X_true = seed.randint(0, 20, 2 * n_samples).astype(np.float)\n",
    "X_true = X_true.reshape((n_samples, 2))"
   ]
  },
  {
   "cell_type": "code",
   "execution_count": 14,
   "metadata": {
    "collapsed": false
   },
   "outputs": [
    {
     "name": "stdout",
     "output_type": "stream",
     "text": [
      "[[ 10.   3.]\n",
      " [  8.   0.]\n",
      " [ 19.  10.]\n",
      " [ 11.   9.]\n",
      " [ 10.   6.]\n",
      " [  0.  12.]\n",
      " [  7.  14.]\n",
      " [ 17.   2.]\n",
      " [  2.   1.]\n",
      " [ 19.   5.]\n",
      " [  8.  14.]\n",
      " [  1.  10.]\n",
      " [  7.  11.]\n",
      " [  1.  15.]\n",
      " [ 16.   5.]\n",
      " [ 17.  14.]\n",
      " [  0.   0.]\n",
      " [  9.  18.]\n",
      " [  5.   7.]\n",
      " [  5.  14.]]\n"
     ]
    }
   ],
   "source": [
    "print X_true"
   ]
  },
  {
   "cell_type": "code",
   "execution_count": 15,
   "metadata": {
    "collapsed": false
   },
   "outputs": [
    {
     "name": "stdout",
     "output_type": "stream",
     "text": [
      "[[  1.45  -5.55]\n",
      " [ -0.55  -8.55]\n",
      " [ 10.45   1.45]\n",
      " [  2.45   0.45]\n",
      " [  1.45  -2.55]\n",
      " [ -8.55   3.45]\n",
      " [ -1.55   5.45]\n",
      " [  8.45  -6.55]\n",
      " [ -6.55  -7.55]\n",
      " [ 10.45  -3.55]\n",
      " [ -0.55   5.45]\n",
      " [ -7.55   1.45]\n",
      " [ -1.55   2.45]\n",
      " [ -7.55   6.45]\n",
      " [  7.45  -3.55]\n",
      " [  8.45   5.45]\n",
      " [ -8.55  -8.55]\n",
      " [  0.45   9.45]\n",
      " [ -3.55  -1.55]\n",
      " [ -3.55   5.45]]\n"
     ]
    }
   ],
   "source": [
    "# Center the data\n",
    "X_true -= X_true.mean()\n",
    "print X_true"
   ]
  },
  {
   "cell_type": "code",
   "execution_count": 16,
   "metadata": {
    "collapsed": false
   },
   "outputs": [
    {
     "name": "stdout",
     "output_type": "stream",
     "text": [
      "[[  0.           3.60555128  11.40175425   6.08276253   3.          13.45362405\n",
      "   11.40175425   7.07106781   8.24621125   9.21954446  11.18033989\n",
      "   11.40175425   8.54400375  15.           6.32455532  13.03840481\n",
      "   10.44030651  15.03329638   6.40312424  12.08304597]\n",
      " [  3.60555128   0.          14.86606875   9.48683298   6.32455532\n",
      "   14.4222051   14.03566885   9.21954446   6.08276253  12.08304597  14.\n",
      "   12.20655562  11.04536102  16.55294536   9.43398113  16.64331698   8.\n",
      "   18.02775638   7.61577311  14.31782106]\n",
      " [ 11.40175425  14.86606875   0.           8.06225775   9.8488578\n",
      "   19.10497317  12.64911064   8.24621125  19.23538406   5.          11.70469991\n",
      "   18.          12.04159458  18.68154169   5.83095189   4.47213595\n",
      "   21.47091055  12.80624847  14.31782106  14.56021978]\n",
      " [  6.08276253   9.48683298   8.06225775   0.           3.16227766\n",
      "   11.40175425   6.40312424   9.21954446  12.04159458   8.94427191\n",
      "    5.83095189  10.04987562   4.47213595  11.66190379   6.40312424\n",
      "    7.81024968  14.2126704    9.21954446   6.32455532   7.81024968]\n",
      " [  3.           6.32455532   9.8488578    3.16227766   0.          11.66190379\n",
      "    8.54400375   8.06225775   9.43398113   9.05538514   8.24621125\n",
      "    9.8488578    5.83095189  12.72792206   6.08276253  10.63014581\n",
      "   11.66190379  12.04159458   5.09901951   9.43398113]\n",
      " [ 13.45362405  14.4222051   19.10497317  11.40175425  11.66190379   0.\n",
      "    7.28010989  19.72308292  11.18033989  20.24845673   8.24621125\n",
      "    2.23606798   7.07106781   3.16227766  17.4642492   17.11724277  12.\n",
      "   10.81665383   7.07106781   5.38516481]\n",
      " [ 11.40175425  14.03566885  12.64911064   6.40312424   8.54400375\n",
      "    7.28010989   0.          15.62049935  13.92838828  15.           1.\n",
      "    7.21110255   3.           6.08276253  12.72792206  10.          15.65247584\n",
      "    4.47213595   7.28010989   2.        ]\n",
      " [  7.07106781   9.21954446   8.24621125   9.21954446   8.06225775\n",
      "   19.72308292  15.62049935   0.          15.03329638   3.60555128  15.\n",
      "   17.88854382  13.45362405  20.61552813   3.16227766  12.          17.11724277\n",
      "   17.88854382  13.          16.97056275]\n",
      " [  8.24621125   6.08276253  19.23538406  12.04159458   9.43398113\n",
      "   11.18033989  13.92838828  15.03329638   0.          17.4642492\n",
      "   14.31782106   9.05538514  11.18033989  14.03566885  14.56021978\n",
      "   19.84943324   2.23606798  18.38477631   6.70820393  13.34166406]\n",
      " [  9.21954446  12.08304597   5.           8.94427191   9.05538514\n",
      "   20.24845673  15.           3.60555128  17.4642492    0.          14.2126704\n",
      "   18.68154169  13.41640786  20.59126028   3.           9.21954446\n",
      "   19.6468827   16.40121947  14.14213562  16.64331698]\n",
      " [ 11.18033989  14.          11.70469991   5.83095189   8.24621125\n",
      "    8.24621125   1.          15.          14.31782106  14.2126704    0.\n",
      "    8.06225775   3.16227766   7.07106781  12.04159458   9.          16.1245155\n",
      "    4.12310563   7.61577311   3.        ]\n",
      " [ 11.40175425  12.20655562  18.          10.04987562   9.8488578\n",
      "    2.23606798   7.21110255  17.88854382   9.05538514  18.68154169\n",
      "    8.06225775   0.           6.08276253   5.          15.8113883\n",
      "   16.4924225   10.04987562  11.3137085    5.           5.65685425]\n",
      " [  8.54400375  11.04536102  12.04159458   4.47213595   5.83095189\n",
      "    7.07106781   3.          13.45362405  11.18033989  13.41640786\n",
      "    3.16227766   6.08276253   0.           7.21110255  10.81665383\n",
      "   10.44030651  13.03840481   7.28010989   4.47213595   3.60555128]\n",
      " [ 15.          16.55294536  18.68154169  11.66190379  12.72792206\n",
      "    3.16227766   6.08276253  20.61552813  14.03566885  20.59126028\n",
      "    7.07106781   5.           7.21110255   0.          18.02775638\n",
      "   16.03121954  15.03329638   8.54400375   8.94427191   4.12310563]\n",
      " [  6.32455532   9.43398113   5.83095189   6.40312424   6.08276253\n",
      "   17.4642492   12.72792206   3.16227766  14.56021978   3.          12.04159458\n",
      "   15.8113883   10.81665383  18.02775638   0.           9.05538514\n",
      "   16.76305461  14.76482306  11.18033989  14.2126704 ]\n",
      " [ 13.03840481  16.64331698   4.47213595   7.81024968  10.63014581\n",
      "   17.11724277  10.          12.          19.84943324   9.21954446   9.\n",
      "   16.4924225   10.44030651  16.03121954   9.05538514   0.          22.02271555\n",
      "    8.94427191  13.89244399  12.        ]\n",
      " [ 10.44030651   8.          21.47091055  14.2126704   11.66190379  12.\n",
      "   15.65247584  17.11724277   2.23606798  19.6468827   16.1245155\n",
      "   10.04987562  13.03840481  15.03329638  16.76305461  22.02271555   0.\n",
      "   20.1246118    8.60232527  14.86606875]\n",
      " [ 15.03329638  18.02775638  12.80624847   9.21954446  12.04159458\n",
      "   10.81665383   4.47213595  17.88854382  18.38477631  16.40121947\n",
      "    4.12310563  11.3137085    7.28010989   8.54400375  14.76482306\n",
      "    8.94427191  20.1246118    0.          11.70469991   5.65685425]\n",
      " [  6.40312424   7.61577311  14.31782106   6.32455532   5.09901951\n",
      "    7.07106781   7.28010989  13.           6.70820393  14.14213562\n",
      "    7.61577311   5.           4.47213595   8.94427191  11.18033989\n",
      "   13.89244399   8.60232527  11.70469991   0.           7.        ]\n",
      " [ 12.08304597  14.31782106  14.56021978   7.81024968   9.43398113\n",
      "    5.38516481   2.          16.97056275  13.34166406  16.64331698   3.\n",
      "    5.65685425   3.60555128   4.12310563  14.2126704   12.          14.86606875\n",
      "    5.65685425   7.           0.        ]]\n"
     ]
    }
   ],
   "source": [
    "similarities = euclidean_distances(X_true)\n",
    "print similarities"
   ]
  },
  {
   "cell_type": "code",
   "execution_count": 17,
   "metadata": {
    "collapsed": true
   },
   "outputs": [],
   "source": [
    "# Add noise to the similarities\n",
    "noise = np.random.rand(n_samples, n_samples)\n",
    "noise = noise + noise.T\n",
    "noise[np.arange(noise.shape[0]), np.arange(noise.shape[0])] = 0\n",
    "similarities += noise"
   ]
  },
  {
   "cell_type": "code",
   "execution_count": 18,
   "metadata": {
    "collapsed": true
   },
   "outputs": [],
   "source": [
    "mds = manifold.MDS(n_components=3, max_iter=3000, eps=1e-9, random_state=seed,\n",
    "                   dissimilarity=\"precomputed\", n_jobs=1)\n",
    "pos = mds.fit(similarities).embedding_\n",
    "\n",
    "nmds = manifold.MDS(n_components=3, metric=False, max_iter=3000, eps=1e-12,\n",
    "                    dissimilarity=\"precomputed\", random_state=seed, n_jobs=1,\n",
    "                    n_init=1)\n",
    "npos = nmds.fit_transform(similarities, init=pos)"
   ]
  },
  {
   "cell_type": "code",
   "execution_count": 19,
   "metadata": {
    "collapsed": true
   },
   "outputs": [],
   "source": [
    "# Rescale the data\n",
    "pos *= np.sqrt((X_true ** 2).sum()) / np.sqrt((pos ** 2).sum())\n",
    "npos *= np.sqrt((X_true ** 2).sum()) / np.sqrt((npos ** 2).sum())"
   ]
  },
  {
   "cell_type": "code",
   "execution_count": 20,
   "metadata": {
    "collapsed": false
   },
   "outputs": [
    {
     "data": {
      "text/plain": [
       "<matplotlib.legend.Legend at 0x10ee52f10>"
      ]
     },
     "execution_count": 20,
     "metadata": {},
     "output_type": "execute_result"
    },
    {
     "data": {
      "image/png": "[encoded data removed]",
      "text/plain": [
       "<matplotlib.figure.Figure at 0x108b02950>"
      ]
     },
     "metadata": {},
     "output_type": "display_data"
    }
   ],
   "source": [
    "# Rotate the data\n",
    "clf = PCA(n_components=2)\n",
    "X_true = clf.fit_transform(X_true)\n",
    "\n",
    "pos = clf.fit_transform(pos)\n",
    "\n",
    "npos = clf.fit_transform(npos)\n",
    "\n",
    "fig = plt.figure(1)\n",
    "ax = plt.axes([0., 0., 1., 1.])\n",
    "\n",
    "plt.scatter(X_true[:, 0], X_true[:, 1], c='r', s=20)\n",
    "plt.scatter(pos[:, 0], pos[:, 1], s=20, c='g')\n",
    "plt.scatter(npos[:, 0], npos[:, 1], s=20, c='b')\n",
    "plt.legend(('True position', 'MDS', 'NMDS'), loc='best')"
   ]
  },
  {
   "cell_type": "code",
   "execution_count": 21,
   "metadata": {
    "collapsed": false
   },
   "outputs": [
    {
     "name": "stderr",
     "output_type": "stream",
     "text": [
      "/Users/JH/anaconda2/lib/python2.7/site-packages/ipykernel/__main__.py:1: RuntimeWarning: divide by zero encountered in divide\n",
      "  if __name__ == '__main__':\n"
     ]
    }
   ],
   "source": [
    "similarities = similarities.max() / similarities * 100\n",
    "similarities[np.isinf(similarities)] = 0"
   ]
  },
  {
   "cell_type": "code",
   "execution_count": 22,
   "metadata": {
    "collapsed": false
   },
   "outputs": [],
   "source": [
    "# Plot the edges\n",
    "start_idx, end_idx = np.where(pos)\n",
    "#a sequence of (*line0*, *line1*, *line2*), where::\n",
    "#            linen = (x0, y0), (x1, y1), ... (xm, ym)\n",
    "segments = [[X_true[i, :], X_true[j, :]]\n",
    "            for i in range(len(pos)) for j in range(len(pos))]\n",
    "values = np.abs(similarities)\n",
    "lc = LineCollection(segments,\n",
    "                    zorder=0, cmap=plt.cm.hot_r,\n",
    "                    norm=plt.Normalize(0, values.max()))\n",
    "lc.set_array(similarities.flatten())\n",
    "lc.set_linewidths(0.5 * np.ones(len(segments)))\n",
    "ax.add_collection(lc)\n",
    "\n",
    "plt.show()"
   ]
  },
  {
   "cell_type": "code",
   "execution_count": null,
   "metadata": {
    "collapsed": true
   },
   "outputs": [],
   "source": []
  }
 ],
 "metadata": {
  "kernelspec": {
   "display_name": "Python 2",
   "language": "python",
   "name": "python2"
  },
  "language_info": {
   "codemirror_mode": {
    "name": "ipython",
    "version": 2
   },
   "file_extension": ".py",
   "mimetype": "text/x-python",
   "name": "python",
   "nbconvert_exporter": "python",
   "pygments_lexer": "ipython2",
   "version": "2.7.11"
  }
 },
 "nbformat": 4,
 "nbformat_minor": 0
}
