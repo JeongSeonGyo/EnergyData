{
 "cells": [
  {
   "cell_type": "code",
   "execution_count": 12,
   "metadata": {
    "collapsed": false
   },
   "outputs": [
    {
     "name": "stdout",
     "output_type": "stream",
     "text": [
      "[1]\n"
     ]
    }
   ],
   "source": [
    "import numpy as np\n",
    "X = np.array([[-1, -1], [-2, -1], [-3, -2], [1, 1], [2, 1], [3, 2]])\n",
    "Y = np.array([1, 1, 1, 2, 2, 2])\n",
    "from sklearn.naive_bayes import GaussianNB\n",
    "clf = GaussianNB()\n",
    "clf.fit(X, Y)\n",
    "\n",
    "print clf.predict([[-0.8, -1]])"
   ]
  },
  {
   "cell_type": "code",
   "execution_count": 13,
   "metadata": {
    "collapsed": false
   },
   "outputs": [
    {
     "name": "stdout",
     "output_type": "stream",
     "text": [
      "[1 2]\n"
     ]
    }
   ],
   "source": [
    "print clf.predict([[-0.8, -1], [4, 5]])"
   ]
  },
  {
   "cell_type": "code",
   "execution_count": 17,
   "metadata": {
    "collapsed": false
   },
   "outputs": [
    {
     "name": "stdout",
     "output_type": "stream",
     "text": [
      "[[  9.99999949e-01   5.05653254e-08]]\n"
     ]
    }
   ],
   "source": [
    "print clf.predict_proba([[-0.8, -1]])"
   ]
  },
  {
   "cell_type": "code",
   "execution_count": 18,
   "metadata": {
    "collapsed": false
   },
   "outputs": [
    {
     "name": "stdout",
     "output_type": "stream",
     "text": [
      "[[  3.30570535e-37   1.00000000e+00]]\n"
     ]
    }
   ],
   "source": [
    "print clf.predict_proba([[4, 5]])"
   ]
  },
  {
   "cell_type": "code",
   "execution_count": 19,
   "metadata": {
    "collapsed": false
   },
   "outputs": [
    {
     "name": "stdout",
     "output_type": "stream",
     "text": [
      "[[  9.99999949e-01   5.05653254e-08]\n",
      " [  3.30570535e-37   1.00000000e+00]]\n"
     ]
    }
   ],
   "source": [
    "print clf.predict_proba([[-0.8, -1], [4, 5]])"
   ]
  },
  {
   "cell_type": "code",
   "execution_count": 20,
   "metadata": {
    "collapsed": false
   },
   "outputs": [
    {
     "name": "stdout",
     "output_type": "stream",
     "text": [
      "[[  9.99999985e-01   1.52299840e-08]\n",
      " [  1.00000000e+00   3.77513581e-11]\n",
      " [  1.00000000e+00   5.74952589e-19]\n",
      " [  1.52299840e-08   9.99999985e-01]\n",
      " [  3.77513581e-11   1.00000000e+00]\n",
      " [  5.74952589e-19   1.00000000e+00]]\n"
     ]
    }
   ],
   "source": [
    "print clf.predict_proba([[-1, -1], [-2, -1], [-3, -2], [1, 1], [2, 1], [3, 2]])"
   ]
  },
  {
   "cell_type": "code",
   "execution_count": 25,
   "metadata": {
    "collapsed": false
   },
   "outputs": [
    {
     "name": "stdout",
     "output_type": "stream",
     "text": [
      "[1]\n"
     ]
    }
   ],
   "source": [
    "X = np.array([[-1, -1, -1], [-2, -1, -1], [-3, -2, -3], [1, 1, 1], [2, 1, 1], [3, 2, 3]])\n",
    "Y = np.array([1, 1, 2, 2, 3, 3])\n",
    "\n",
    "clf = GaussianNB()\n",
    "clf.fit(X, Y)\n",
    "\n",
    "print clf.predict([[-0.8, -1, -1]])"
   ]
  },
  {
   "cell_type": "code",
   "execution_count": 26,
   "metadata": {
    "collapsed": false
   },
   "outputs": [
    {
     "name": "stdout",
     "output_type": "stream",
     "text": [
      "[[  9.99999999e-01   6.06520247e-10   1.45869105e-26]\n",
      " [  9.99999999e-01   5.35252240e-10   1.64154101e-33]\n",
      " [  0.00000000e+00   1.00000000e+00   4.87463031e-41]\n",
      " [  0.00000000e+00   6.94649286e-01   3.05350714e-01]\n",
      " [  0.00000000e+00   2.18160067e-02   9.78183993e-01]\n",
      " [  0.00000000e+00   8.52109782e-04   9.99147890e-01]]\n"
     ]
    }
   ],
   "source": [
    "print clf.predict_proba([[-1, -1, -1], [-2, -1, -1], [-3, -2, -3], [1, 1, 1], [2, 1, 1], [3, 2, 3]])"
   ]
  },
  {
   "cell_type": "code",
   "execution_count": 27,
   "metadata": {
    "collapsed": false
   },
   "outputs": [
    {
     "name": "stdout",
     "output_type": "stream",
     "text": [
      "[[ -6.06519279e-10  -2.12232830e+01  -5.94896729e+01]\n",
      " [ -5.35251843e-10  -2.13482830e+01  -7.54896726e+01]\n",
      " [ -5.35714267e+08   0.00000000e+00  -9.28219445e+01]\n",
      " [ -8.57142847e+08  -3.64348185e-01  -1.18629428e+00]\n",
      " [ -8.57142862e+08  -3.82511132e+00  -2.20574945e-02]\n",
      " [ -2.67857145e+09  -7.06779519e+00  -8.52473034e-04]]\n"
     ]
    }
   ],
   "source": [
    "print clf.predict_log_proba([[-1, -1, -1], [-2, -1, -1], [-3, -2, -3], [1, 1, 1], [2, 1, 1], [3, 2, 3]])"
   ]
  },
  {
   "cell_type": "code",
   "execution_count": null,
   "metadata": {
    "collapsed": true
   },
   "outputs": [],
   "source": []
  }
 ],
 "metadata": {
  "kernelspec": {
   "display_name": "Python 2",
   "language": "python",
   "name": "python2"
  },
  "language_info": {
   "codemirror_mode": {
    "name": "ipython",
    "version": 2
   },
   "file_extension": ".py",
   "mimetype": "text/x-python",
   "name": "python",
   "nbconvert_exporter": "python",
   "pygments_lexer": "ipython2",
   "version": "2.7.11"
  }
 },
 "nbformat": 4,
 "nbformat_minor": 0
}
