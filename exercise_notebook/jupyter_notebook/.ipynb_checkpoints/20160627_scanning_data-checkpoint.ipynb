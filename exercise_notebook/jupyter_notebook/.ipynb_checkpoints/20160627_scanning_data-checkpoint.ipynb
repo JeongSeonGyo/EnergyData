{
 "cells": [
  {
   "cell_type": "code",
   "execution_count": 1,
   "metadata": {
    "collapsed": false
   },
   "outputs": [
    {
     "name": "stderr",
     "output_type": "stream",
     "text": [
      "/Users/JH/anaconda2/envs/energy_data/lib/python2.7/site-packages/matplotlib/font_manager.py:273: UserWarning: Matplotlib is building the font cache using fc-list. This may take a moment.\n",
      "  warnings.warn('Matplotlib is building the font cache using fc-list. This may take a moment.')\n",
      "/Users/JH/anaconda2/envs/energy_data/lib/python2.7/site-packages/IPython/html.py:14: ShimWarning: The `IPython.html` package has been deprecated. You should import from `notebook` instead. `IPython.html.widgets` has moved to `ipywidgets`.\n",
      "  \"`IPython.html.widgets` has moved to `ipywidgets`.\", ShimWarning)\n"
     ]
    }
   ],
   "source": [
    "import os\n",
    "import pandas as pd\n",
    "import cPickle as pickle\n",
    "import matplotlib.pyplot as plt\n",
    "%matplotlib inline\n",
    "import seaborn as sns"
   ]
  },
  {
   "cell_type": "markdown",
   "metadata": {},
   "source": [
    "---\n",
    "* data file들은 아래와 같이 3가지 종류로 구분됨"
   ]
  },
  {
   "cell_type": "code",
   "execution_count": 2,
   "metadata": {
    "collapsed": true
   },
   "outputs": [],
   "source": [
    "repository_path = '/Users/JH/Documents/GitHub/EnergyData_jhyun/repository/VTT'\n",
    "\n",
    "file_path = os.path.join(repository_path, 'VTT_GW1_HA10_VM_EP_KV_K.bin')\n",
    "data_1 = pickle.load(open(file_path))\n",
    "\n",
    "file_path = os.path.join(repository_path, 'VTT_GW1_HA10_VM_KV_K.bin')\n",
    "data_2 = pickle.load(open(file_path))\n",
    "\n",
    "file_path = os.path.join(repository_path, 'VTT_GW1_HA10_VM_KV_KAM.bin')\n",
    "data_3 = pickle.load(open(file_path))"
   ]
  },
  {
   "cell_type": "markdown",
   "metadata": {},
   "source": [
    "---\n",
    "* 출력해 보면 data_1와 data_3은 서로 ts값 간격이 일치함을 알 수 있음"
   ]
  },
  {
   "cell_type": "code",
   "execution_count": 3,
   "metadata": {
    "collapsed": false
   },
   "outputs": [
    {
     "name": "stdout",
     "output_type": "stream",
     "text": [
      "data_1 : \n",
      "{'ts': array([[datetime.datetime(2013, 5, 15, 10, 37, 23), 23, 37, ..., 2, 15, 5],\n",
      "       [datetime.datetime(2013, 5, 15, 10, 42, 30), 30, 42, ..., 2, 15, 5],\n",
      "       [datetime.datetime(2013, 5, 15, 10, 47, 30), 30, 47, ..., 2, 15, 5],\n",
      "       ..., \n",
      "       [datetime.datetime(2015, 6, 30, 0, 46, 32), 32, 46, ..., 1, 30, 6],\n",
      "       [datetime.datetime(2015, 6, 30, 0, 51, 32), 32, 51, ..., 1, 30, 6],\n",
      "       [datetime.datetime(2015, 6, 30, 0, 56, 32), 32, 56, ..., 1, 30, 6]], dtype=object), 'value': array([     0.,      0.,      0., ...,  24826.,  24826.,  24826.])}\n",
      "\n",
      "data_2 : \n",
      "{'ts': array([[datetime.datetime(2013, 4, 1, 23, 43, 16), 16, 43, ..., 0, 1, 4],\n",
      "       [datetime.datetime(2013, 4, 1, 23, 48, 16), 16, 48, ..., 0, 1, 4],\n",
      "       [datetime.datetime(2013, 4, 1, 23, 50, 32), 32, 50, ..., 0, 1, 4],\n",
      "       ..., \n",
      "       [datetime.datetime(2015, 6, 30, 0, 48, 12), 12, 48, ..., 1, 30, 6],\n",
      "       [datetime.datetime(2015, 6, 30, 0, 53, 12), 12, 53, ..., 1, 30, 6],\n",
      "       [datetime.datetime(2015, 6, 30, 0, 58, 13), 13, 58, ..., 1, 30, 6]], dtype=object), 'value': array([  2964.,   2964.,   2964., ...,  24856.,  24856.,  24856.])}\n",
      "\n",
      "data_3 : \n",
      "{'ts': array([[datetime.datetime(2013, 4, 1, 23, 43, 16), 16, 43, ..., 0, 1, 4],\n",
      "       [datetime.datetime(2013, 4, 1, 23, 48, 16), 16, 48, ..., 0, 1, 4],\n",
      "       [datetime.datetime(2013, 4, 1, 23, 50, 32), 32, 50, ..., 0, 1, 4],\n",
      "       ..., \n",
      "       [datetime.datetime(2015, 6, 30, 0, 46, 32), 32, 46, ..., 1, 30, 6],\n",
      "       [datetime.datetime(2015, 6, 30, 0, 51, 32), 32, 51, ..., 1, 30, 6],\n",
      "       [datetime.datetime(2015, 6, 30, 0, 56, 32), 32, 56, ..., 1, 30, 6]], dtype=object), 'value': array([ 0.,  0.,  0., ...,  0.,  0.,  0.])}\n"
     ]
    }
   ],
   "source": [
    "print \"data_1 : \"\n",
    "print data_1\n",
    "print\n",
    "\n",
    "print \"data_2 : \"\n",
    "print data_2\n",
    "print\n",
    "\n",
    "print \"data_3 : \"\n",
    "print data_3"
   ]
  },
  {
   "cell_type": "markdown",
   "metadata": {},
   "source": [
    "---\n",
    "* 해당 data들을 직관적으로 볼 수 있도록 시각화 하여 보면..."
   ]
  },
  {
   "cell_type": "code",
   "execution_count": 4,
   "metadata": {
    "collapsed": false
   },
   "outputs": [
    {
     "data": {
      "text/html": [
       "<div>\n",
       "<table border=\"1\" class=\"dataframe\">\n",
       "  <thead>\n",
       "    <tr style=\"text-align: right;\">\n",
       "      <th></th>\n",
       "      <th>ts</th>\n",
       "      <th>value</th>\n",
       "    </tr>\n",
       "  </thead>\n",
       "  <tbody>\n",
       "    <tr>\n",
       "      <th>0</th>\n",
       "      <td>2013-05-15 10:37:23</td>\n",
       "      <td>0.0</td>\n",
       "    </tr>\n",
       "    <tr>\n",
       "      <th>1</th>\n",
       "      <td>2013-05-15 10:42:30</td>\n",
       "      <td>0.0</td>\n",
       "    </tr>\n",
       "    <tr>\n",
       "      <th>2</th>\n",
       "      <td>2013-05-15 10:47:30</td>\n",
       "      <td>0.0</td>\n",
       "    </tr>\n",
       "    <tr>\n",
       "      <th>3</th>\n",
       "      <td>2013-05-15 10:52:30</td>\n",
       "      <td>0.0</td>\n",
       "    </tr>\n",
       "    <tr>\n",
       "      <th>4</th>\n",
       "      <td>2013-05-15 10:57:31</td>\n",
       "      <td>0.0</td>\n",
       "    </tr>\n",
       "  </tbody>\n",
       "</table>\n",
       "</div>"
      ],
      "text/plain": [
       "                   ts  value\n",
       "0 2013-05-15 10:37:23    0.0\n",
       "1 2013-05-15 10:42:30    0.0\n",
       "2 2013-05-15 10:47:30    0.0\n",
       "3 2013-05-15 10:52:30    0.0\n",
       "4 2013-05-15 10:57:31    0.0"
      ]
     },
     "execution_count": 4,
     "metadata": {},
     "output_type": "execute_result"
    }
   ],
   "source": [
    "df_1 = pd.DataFrame()\n",
    "df_1['ts'] = data_1['ts'][:, 0]\n",
    "df_1['value'] = data_1['value']\n",
    "\n",
    "df_1.head()"
   ]
  },
  {
   "cell_type": "code",
   "execution_count": 5,
   "metadata": {
    "collapsed": false
   },
   "outputs": [
    {
     "data": {
      "image/png": "[encoded data removed]",
      "text/plain": [
       "<matplotlib.figure.Figure at 0x1092d94d0>"
      ]
     },
     "metadata": {},
     "output_type": "display_data"
    }
   ],
   "source": [
    "plt.title('energy data graph')\n",
    "plt.scatter(x=df_1['ts'].tolist(), y=df_1['value'], color='b', marker='o')\n",
    "plt.show()"
   ]
  },
  {
   "cell_type": "code",
   "execution_count": 6,
   "metadata": {
    "collapsed": false
   },
   "outputs": [
    {
     "data": {
      "text/html": [
       "<div>\n",
       "<table border=\"1\" class=\"dataframe\">\n",
       "  <thead>\n",
       "    <tr style=\"text-align: right;\">\n",
       "      <th></th>\n",
       "      <th>ts</th>\n",
       "      <th>value</th>\n",
       "    </tr>\n",
       "  </thead>\n",
       "  <tbody>\n",
       "    <tr>\n",
       "      <th>0</th>\n",
       "      <td>2013-04-01 23:43:16</td>\n",
       "      <td>2964.0</td>\n",
       "    </tr>\n",
       "    <tr>\n",
       "      <th>1</th>\n",
       "      <td>2013-04-01 23:48:16</td>\n",
       "      <td>2964.0</td>\n",
       "    </tr>\n",
       "    <tr>\n",
       "      <th>2</th>\n",
       "      <td>2013-04-01 23:50:32</td>\n",
       "      <td>2964.0</td>\n",
       "    </tr>\n",
       "    <tr>\n",
       "      <th>3</th>\n",
       "      <td>2013-04-01 23:55:32</td>\n",
       "      <td>2964.0</td>\n",
       "    </tr>\n",
       "    <tr>\n",
       "      <th>4</th>\n",
       "      <td>2013-04-02 00:00:32</td>\n",
       "      <td>2964.0</td>\n",
       "    </tr>\n",
       "  </tbody>\n",
       "</table>\n",
       "</div>"
      ],
      "text/plain": [
       "                   ts   value\n",
       "0 2013-04-01 23:43:16  2964.0\n",
       "1 2013-04-01 23:48:16  2964.0\n",
       "2 2013-04-01 23:50:32  2964.0\n",
       "3 2013-04-01 23:55:32  2964.0\n",
       "4 2013-04-02 00:00:32  2964.0"
      ]
     },
     "execution_count": 6,
     "metadata": {},
     "output_type": "execute_result"
    }
   ],
   "source": [
    "df_2 = pd.DataFrame()\n",
    "df_2['ts'] = data_2['ts'][:, 0]\n",
    "df_2['value'] = data_2['value']\n",
    "\n",
    "df_2.head()"
   ]
  },
  {
   "cell_type": "code",
   "execution_count": 7,
   "metadata": {
    "collapsed": false
   },
   "outputs": [
    {
     "data": {
      "image/png": "[encoded data removed]",
      "text/plain": [
       "<matplotlib.figure.Figure at 0x10bdffe90>"
      ]
     },
     "metadata": {},
     "output_type": "display_data"
    }
   ],
   "source": [
    "plt.title('energy data graph')\n",
    "plt.scatter(x=df_2['ts'].tolist(), y=df_2['value'], color='b', marker='o')\n",
    "plt.show()"
   ]
  },
  {
   "cell_type": "code",
   "execution_count": 8,
   "metadata": {
    "collapsed": false
   },
   "outputs": [
    {
     "data": {
      "text/html": [
       "<div>\n",
       "<table border=\"1\" class=\"dataframe\">\n",
       "  <thead>\n",
       "    <tr style=\"text-align: right;\">\n",
       "      <th></th>\n",
       "      <th>ts</th>\n",
       "      <th>value</th>\n",
       "    </tr>\n",
       "  </thead>\n",
       "  <tbody>\n",
       "    <tr>\n",
       "      <th>0</th>\n",
       "      <td>2013-04-01 23:43:16</td>\n",
       "      <td>0.0</td>\n",
       "    </tr>\n",
       "    <tr>\n",
       "      <th>1</th>\n",
       "      <td>2013-04-01 23:48:16</td>\n",
       "      <td>0.0</td>\n",
       "    </tr>\n",
       "    <tr>\n",
       "      <th>2</th>\n",
       "      <td>2013-04-01 23:50:32</td>\n",
       "      <td>0.0</td>\n",
       "    </tr>\n",
       "    <tr>\n",
       "      <th>3</th>\n",
       "      <td>2013-04-01 23:55:32</td>\n",
       "      <td>0.0</td>\n",
       "    </tr>\n",
       "    <tr>\n",
       "      <th>4</th>\n",
       "      <td>2013-04-02 00:00:32</td>\n",
       "      <td>0.0</td>\n",
       "    </tr>\n",
       "  </tbody>\n",
       "</table>\n",
       "</div>"
      ],
      "text/plain": [
       "                   ts  value\n",
       "0 2013-04-01 23:43:16    0.0\n",
       "1 2013-04-01 23:48:16    0.0\n",
       "2 2013-04-01 23:50:32    0.0\n",
       "3 2013-04-01 23:55:32    0.0\n",
       "4 2013-04-02 00:00:32    0.0"
      ]
     },
     "execution_count": 8,
     "metadata": {},
     "output_type": "execute_result"
    }
   ],
   "source": [
    "df_3 = pd.DataFrame()\n",
    "df_3['ts'] = data_3['ts'][:, 0]\n",
    "df_3['value'] = data_3['value']\n",
    "\n",
    "df_3.head()"
   ]
  },
  {
   "cell_type": "code",
   "execution_count": 9,
   "metadata": {
    "collapsed": false
   },
   "outputs": [
    {
     "data": {
      "image/png": "[encoded data removed]",
      "text/plain": [
       "<matplotlib.figure.Figure at 0x1107d53d0>"
      ]
     },
     "metadata": {},
     "output_type": "display_data"
    }
   ],
   "source": [
    "plt.title('energy data graph')\n",
    "plt.scatter(x=df_3['ts'].tolist(), y=df_3['value'], color='b', marker='o')\n",
    "plt.show()"
   ]
  },
  {
   "cell_type": "markdown",
   "metadata": {},
   "source": [
    "* data_1과 data_2의 data가 비슷한 분포를 보임  \n",
    "\n",
    "---"
   ]
  },
  {
   "cell_type": "code",
   "execution_count": 10,
   "metadata": {
    "collapsed": true
   },
   "outputs": [],
   "source": [
    "import numpy as np\n",
    "\n",
    "def present_value(cumulative_value):\n",
    "    \"\"\"\n",
    "    - 입력받은 data 를 누적 data 라고 가정한 뒤,\n",
    "    - 순간 data 를 계산하기 위해\n",
    "    - 이웃한 time stamp 사이 value 의 변화량을 기록하여 반환함\n",
    "\n",
    "    :param cumulative_value:\n",
    "        original data 로 cumulative 한 data 라고 가정함\n",
    "        - type: np.array\n",
    "            - shape: (length, 1)\n",
    "    :return:\n",
    "        계산된 현재 값 value data\n",
    "        - type: np.array\n",
    "            - shape: (length, 1)\n",
    "    \"\"\"\n",
    "    forward_shifted_value = cumulative_value[1:]\n",
    "    forward_shifted_value = np.hstack((forward_shifted_value, cumulative_value[-1]))\n",
    "\n",
    "    present_value = forward_shifted_value - cumulative_value\n",
    "\n",
    "    return present_value"
   ]
  },
  {
   "cell_type": "code",
   "execution_count": 11,
   "metadata": {
    "collapsed": false
   },
   "outputs": [
    {
     "data": {
      "image/png": "[encoded data removed]",
      "text/plain": [
       "<matplotlib.figure.Figure at 0x10db3cd10>"
      ]
     },
     "metadata": {},
     "output_type": "display_data"
    }
   ],
   "source": [
    "data_1['present_value'] = present_value(data_1['value'])\n",
    "\n",
    "plt.title('energy data graph')\n",
    "plt.scatter(x=data_1['ts'][:, 0], y=data_1['present_value'], color='b', marker='o')\n",
    "plt.show()"
   ]
  },
  {
   "cell_type": "code",
   "execution_count": 12,
   "metadata": {
    "collapsed": false
   },
   "outputs": [
    {
     "data": {
      "image/png": "[encoded data removed]",
      "text/plain": [
       "<matplotlib.figure.Figure at 0x10bf173d0>"
      ]
     },
     "metadata": {},
     "output_type": "display_data"
    }
   ],
   "source": [
    "data_2['present_value'] = present_value(data_2['value'])\n",
    "\n",
    "plt.title('energy data graph')\n",
    "plt.scatter(x=data_2['ts'][:, 0], y=data_2['present_value'], color='b', marker='o')\n",
    "plt.show()"
   ]
  },
  {
   "cell_type": "code",
   "execution_count": null,
   "metadata": {
    "collapsed": true
   },
   "outputs": [],
   "source": []
  }
 ],
 "metadata": {
  "kernelspec": {
   "display_name": "Python 2",
   "language": "python",
   "name": "python2"
  },
  "language_info": {
   "codemirror_mode": {
    "name": "ipython",
    "version": 2
   },
   "file_extension": ".py",
   "mimetype": "text/x-python",
   "name": "python",
   "nbconvert_exporter": "python",
   "pygments_lexer": "ipython2",
   "version": "2.7.11"
  }
 },
 "nbformat": 4,
 "nbformat_minor": 0
}
