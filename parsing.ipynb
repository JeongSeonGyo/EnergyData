{
 "cells": [
  {
   "cell_type": "code",
   "execution_count": 8,
   "metadata": {},
   "outputs": [],
   "source": [
    "import cPickle as pickle\n",
    "\n",
    "file_path = '/Users/JH/Documents/GitHub/EnergyData_jhyun/VTT/VTT_GW1_HA2_VM_EP_KV_K.bin'\n",
    "\n",
    "file_arg = file_path.split('/')\n",
    "\n",
    "tsfile = pickle.load(open(file_path))"
   ]
  },
  {
   "cell_type": "code",
   "execution_count": 9,
   "metadata": {},
   "outputs": [
    {
     "name": "stdout",
     "output_type": "stream",
     "text": [
      "\n",
      "loading ... Bin file\n",
      "{'ts': array([[datetime.datetime(2013, 5, 15, 10, 37, 23), 23, 37, ..., 2, 15, 5],\n",
      "       [datetime.datetime(2013, 5, 15, 10, 42, 30), 30, 42, ..., 2, 15, 5],\n",
      "       [datetime.datetime(2013, 5, 15, 10, 47, 30), 30, 47, ..., 2, 15, 5],\n",
      "       ..., \n",
      "       [datetime.datetime(2015, 6, 30, 0, 46, 32), 32, 46, ..., 1, 30, 6],\n",
      "       [datetime.datetime(2015, 6, 30, 0, 51, 32), 32, 51, ..., 1, 30, 6],\n",
      "       [datetime.datetime(2015, 6, 30, 0, 56, 32), 32, 56, ..., 1, 30, 6]], dtype=object), 'value': array([     0.,      0.,      0., ...,  20065.,  20065.,  20065.])}\n",
      "\n",
      "keys of VTT_GW1_HA2_VM_EP_KV_K.bin\n",
      "['ts', 'value']\n",
      "\n"
     ]
    }
   ],
   "source": [
    "print \n",
    "print \"loading ... Bin file\"\n",
    "\n",
    "print tsfile\n",
    "print \n",
    "\n",
    "print \"keys of %s\" %file_arg[-1]\n",
    "print tsfile.keys()\n",
    "print"
   ]
  },
  {
   "cell_type": "code",
   "execution_count": 11,
   "metadata": {},
   "outputs": [
    {
     "name": "stdout",
     "output_type": "stream",
     "text": [
      "tsfile['ts'][0]\n",
      "[datetime.datetime(2013, 5, 15, 10, 37, 23) 23 37 10 2 15 5]\n",
      "\n",
      "tsfile['ts'][1]\n",
      "[datetime.datetime(2013, 5, 15, 10, 42, 30) 30 42 10 2 15 5]\n",
      "\n",
      "tsfile['ts'][2]\n",
      "[datetime.datetime(2013, 5, 15, 10, 47, 30) 30 47 10 2 15 5]\n",
      "\n",
      "tsfile['ts'][3]\n",
      "[datetime.datetime(2013, 5, 15, 10, 52, 30) 30 52 10 2 15 5]\n",
      "\n",
      "tsfile['ts'][4]\n",
      "[datetime.datetime(2013, 5, 15, 10, 57, 31) 31 57 10 2 15 5]\n",
      "\n",
      "tsfile['ts'][5]\n",
      "[datetime.datetime(2013, 5, 15, 11, 2, 41) 41 2 11 2 15 5]\n",
      "\n",
      "tsfile['ts'][6]\n",
      "[datetime.datetime(2013, 5, 15, 11, 7, 41) 41 7 11 2 15 5]\n",
      "\n",
      "tsfile['ts'][7]\n",
      "[datetime.datetime(2013, 5, 15, 11, 12, 41) 41 12 11 2 15 5]\n",
      "\n",
      "tsfile['ts'][8]\n",
      "[datetime.datetime(2013, 5, 15, 11, 17, 41) 41 17 11 2 15 5]\n",
      "\n",
      "tsfile['ts'][9]\n",
      "[datetime.datetime(2013, 5, 15, 11, 22, 41) 41 22 11 2 15 5]\n",
      "\n"
     ]
    }
   ],
   "source": [
    "for i in range(0, 10):\n",
    "\tprint \"tsfile['ts'][%d]\" %i\n",
    "\tprint tsfile['ts'][i]\n",
    "\tprint"
   ]
  },
  {
   "cell_type": "code",
   "execution_count": 12,
   "metadata": {},
   "outputs": [
    {
     "name": "stdout",
     "output_type": "stream",
     "text": [
      "tsfile['value'][0]\n",
      "0.0\n",
      "\n",
      "tsfile['value'][10000]\n",
      "0.0\n",
      "\n",
      "tsfile['value'][20000]\n",
      "0.0\n",
      "\n",
      "tsfile['value'][30000]\n",
      "0.0\n",
      "\n",
      "tsfile['value'][40000]\n",
      "8505.0\n",
      "\n",
      "tsfile['value'][50000]\n",
      "8505.0\n",
      "\n",
      "tsfile['value'][60000]\n",
      "11152.0\n",
      "\n",
      "tsfile['value'][70000]\n",
      "11174.0\n",
      "\n",
      "tsfile['value'][80000]\n",
      "11181.0\n",
      "\n",
      "tsfile['value'][90000]\n",
      "11369.0\n",
      "\n",
      "tsfile['value'][100000]\n",
      "1192.0\n",
      "\n",
      "tsfile['value'][110000]\n",
      "3741.0\n",
      "\n",
      "tsfile['value'][120000]\n",
      "7041.0\n",
      "\n",
      "tsfile['value'][130000]\n",
      "7891.0\n",
      "\n",
      "tsfile['value'][140000]\n",
      "9810.0\n",
      "\n",
      "tsfile['value'][150000]\n",
      "11286.0\n",
      "\n",
      "tsfile['value'][160000]\n",
      "11320.0\n",
      "\n",
      "tsfile['value'][170000]\n",
      "14110.0\n",
      "\n",
      "tsfile['value'][180000]\n",
      "16446.0\n",
      "\n",
      "tsfile['value'][190000]\n",
      "19724.0\n",
      "\n",
      "tsfile['value'][200000]\n",
      "Index Error: index 200000 is out of bounds for axis 0 with size 190822\n",
      "\n"
     ]
    }
   ],
   "source": [
    "for i in range(0, 21):\n",
    "\ttry:\n",
    "\t\tprint \"tsfile['value'][%d]\" %(i*10000)\n",
    "\t\tprint tsfile['value'][i*10000]\n",
    "\t\tprint\n",
    "\texcept IndexError as err:\n",
    "\t\tprint('Index Error: '+ str(err))\n",
    "\t\tprint"
   ]
  },
  {
   "cell_type": "code",
   "execution_count": null,
   "metadata": {},
   "outputs": [],
   "source": [
    ""
   ]
  }
 ],
 "metadata": {
  "kernelspec": {
   "display_name": "Python 2",
   "language": "python",
   "name": "python2"
  },
  "language_info": {
   "codemirror_mode": {
    "name": "ipython",
    "version": 2.0
   },
   "file_extension": ".py",
   "mimetype": "text/x-python",
   "name": "python",
   "nbconvert_exporter": "python",
   "pygments_lexer": "ipython2",
   "version": "2.7.11"
  }
 },
 "nbformat": 4,
 "nbformat_minor": 0
}